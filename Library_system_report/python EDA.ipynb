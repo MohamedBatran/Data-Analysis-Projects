{
 "cells": [
  {
   "attachments": {},
   "cell_type": "markdown",
   "metadata": {},
   "source": [
    "importing packages and data"
   ]
  },
  {
   "cell_type": "code",
   "execution_count": 1,
   "metadata": {},
   "outputs": [],
   "source": [
    "import pandas as pd\n",
    "import numpy as np"
   ]
  },
  {
   "cell_type": "code",
   "execution_count": 4,
   "metadata": {},
   "outputs": [],
   "source": [
    "df=pd.read_excel('Results.xlsx')"
   ]
  },
  {
   "attachments": {},
   "cell_type": "markdown",
   "metadata": {},
   "source": [
    "Data Cleaning "
   ]
  },
  {
   "cell_type": "code",
   "execution_count": 3,
   "metadata": {},
   "outputs": [
    {
     "data": {
      "text/html": [
       "<div>\n",
       "<style scoped>\n",
       "    .dataframe tbody tr th:only-of-type {\n",
       "        vertical-align: middle;\n",
       "    }\n",
       "\n",
       "    .dataframe tbody tr th {\n",
       "        vertical-align: top;\n",
       "    }\n",
       "\n",
       "    .dataframe thead th {\n",
       "        text-align: right;\n",
       "    }\n",
       "</style>\n",
       "<table border=\"1\" class=\"dataframe\">\n",
       "  <thead>\n",
       "    <tr style=\"text-align: right;\">\n",
       "      <th></th>\n",
       "      <th>book_BookID</th>\n",
       "      <th>book_Title</th>\n",
       "      <th>book_PublisherName</th>\n",
       "      <th>book_authors_AuthorName</th>\n",
       "      <th>publisher_PublisherAddress</th>\n",
       "      <th>publisher_PublisherPhone</th>\n",
       "      <th>book_copies_BookID</th>\n",
       "      <th>book_copies_No_Of_Copies</th>\n",
       "      <th>book_loans_CardNo</th>\n",
       "      <th>book_loans_DateOut</th>\n",
       "      <th>book_loans_DueDate</th>\n",
       "      <th>library_branch_BranchID</th>\n",
       "      <th>library_branch_BranchAddress</th>\n",
       "      <th>library_branch_BranchName</th>\n",
       "      <th>borrower_CardNo</th>\n",
       "      <th>borrower_BorrowerName</th>\n",
       "      <th>borrower_BorrowerAddress</th>\n",
       "      <th>borrower_BorrowerPhone</th>\n",
       "    </tr>\n",
       "  </thead>\n",
       "  <tbody>\n",
       "    <tr>\n",
       "      <th>0</th>\n",
       "      <td>1</td>\n",
       "      <td>The Name of the Wind</td>\n",
       "      <td>DAW Books</td>\n",
       "      <td>Patrick Rothfuss</td>\n",
       "      <td>375 Hudson Street, New York, NY 10014</td>\n",
       "      <td>212-366-2000</td>\n",
       "      <td>1</td>\n",
       "      <td>5</td>\n",
       "      <td>100</td>\n",
       "      <td>1/1/18</td>\n",
       "      <td>2/2/18</td>\n",
       "      <td>1</td>\n",
       "      <td>32 Corner Road, New York, NY 10012</td>\n",
       "      <td>Sharpstown</td>\n",
       "      <td>100</td>\n",
       "      <td>Joe Smith</td>\n",
       "      <td>1321 4th Street, New York, NY 10014</td>\n",
       "      <td>212-312-1234</td>\n",
       "    </tr>\n",
       "    <tr>\n",
       "      <th>1</th>\n",
       "      <td>1</td>\n",
       "      <td>The Name of the Wind</td>\n",
       "      <td>DAW Books</td>\n",
       "      <td>Patrick Rothfuss</td>\n",
       "      <td>375 Hudson Street, New York, NY 10014</td>\n",
       "      <td>212-366-2000</td>\n",
       "      <td>1</td>\n",
       "      <td>5</td>\n",
       "      <td>106</td>\n",
       "      <td>1/7/18</td>\n",
       "      <td>2/7/18</td>\n",
       "      <td>1</td>\n",
       "      <td>32 Corner Road, New York, NY 10012</td>\n",
       "      <td>Sharpstown</td>\n",
       "      <td>106</td>\n",
       "      <td>Haley Jackson</td>\n",
       "      <td>231 52nd Avenue New York, NY 10014</td>\n",
       "      <td>212-419-9935</td>\n",
       "    </tr>\n",
       "    <tr>\n",
       "      <th>2</th>\n",
       "      <td>1</td>\n",
       "      <td>The Name of the Wind</td>\n",
       "      <td>DAW Books</td>\n",
       "      <td>Patrick Rothfuss</td>\n",
       "      <td>375 Hudson Street, New York, NY 10014</td>\n",
       "      <td>212-366-2000</td>\n",
       "      <td>1</td>\n",
       "      <td>5</td>\n",
       "      <td>102</td>\n",
       "      <td>1/12/18</td>\n",
       "      <td>2/12/18</td>\n",
       "      <td>1</td>\n",
       "      <td>32 Corner Road, New York, NY 10012</td>\n",
       "      <td>Sharpstown</td>\n",
       "      <td>102</td>\n",
       "      <td>Tom Li</td>\n",
       "      <td>981 Main Street, Ann Arbor, MI 48104</td>\n",
       "      <td>734-902-7455</td>\n",
       "    </tr>\n",
       "    <tr>\n",
       "      <th>3</th>\n",
       "      <td>1</td>\n",
       "      <td>The Name of the Wind</td>\n",
       "      <td>DAW Books</td>\n",
       "      <td>Patrick Rothfuss</td>\n",
       "      <td>375 Hudson Street, New York, NY 10014</td>\n",
       "      <td>212-366-2000</td>\n",
       "      <td>1</td>\n",
       "      <td>5</td>\n",
       "      <td>103</td>\n",
       "      <td>2/2/17</td>\n",
       "      <td>3/2/18</td>\n",
       "      <td>1</td>\n",
       "      <td>32 Corner Road, New York, NY 10012</td>\n",
       "      <td>Sharpstown</td>\n",
       "      <td>103</td>\n",
       "      <td>Angela Thompson</td>\n",
       "      <td>2212 Green Avenue, Ann Arbor, MI 48104</td>\n",
       "      <td>313-591-2122</td>\n",
       "    </tr>\n",
       "    <tr>\n",
       "      <th>4</th>\n",
       "      <td>1</td>\n",
       "      <td>The Name of the Wind</td>\n",
       "      <td>DAW Books</td>\n",
       "      <td>Patrick Rothfuss</td>\n",
       "      <td>375 Hudson Street, New York, NY 10014</td>\n",
       "      <td>212-366-2000</td>\n",
       "      <td>1</td>\n",
       "      <td>5</td>\n",
       "      <td>102</td>\n",
       "      <td>1/12/18</td>\n",
       "      <td>2/12/18</td>\n",
       "      <td>1</td>\n",
       "      <td>32 Corner Road, New York, NY 10012</td>\n",
       "      <td>Sharpstown</td>\n",
       "      <td>102</td>\n",
       "      <td>Tom Li</td>\n",
       "      <td>981 Main Street, Ann Arbor, MI 48104</td>\n",
       "      <td>734-902-7455</td>\n",
       "    </tr>\n",
       "  </tbody>\n",
       "</table>\n",
       "</div>"
      ],
      "text/plain": [
       "   book_BookID            book_Title book_PublisherName  \\\n",
       "0            1  The Name of the Wind          DAW Books   \n",
       "1            1  The Name of the Wind          DAW Books   \n",
       "2            1  The Name of the Wind          DAW Books   \n",
       "3            1  The Name of the Wind          DAW Books   \n",
       "4            1  The Name of the Wind          DAW Books   \n",
       "\n",
       "  book_authors_AuthorName             publisher_PublisherAddress  \\\n",
       "0        Patrick Rothfuss  375 Hudson Street, New York, NY 10014   \n",
       "1        Patrick Rothfuss  375 Hudson Street, New York, NY 10014   \n",
       "2        Patrick Rothfuss  375 Hudson Street, New York, NY 10014   \n",
       "3        Patrick Rothfuss  375 Hudson Street, New York, NY 10014   \n",
       "4        Patrick Rothfuss  375 Hudson Street, New York, NY 10014   \n",
       "\n",
       "  publisher_PublisherPhone  book_copies_BookID  book_copies_No_Of_Copies  \\\n",
       "0             212-366-2000                   1                         5   \n",
       "1             212-366-2000                   1                         5   \n",
       "2             212-366-2000                   1                         5   \n",
       "3             212-366-2000                   1                         5   \n",
       "4             212-366-2000                   1                         5   \n",
       "\n",
       "   book_loans_CardNo book_loans_DateOut book_loans_DueDate  \\\n",
       "0                100             1/1/18             2/2/18   \n",
       "1                106             1/7/18             2/7/18   \n",
       "2                102            1/12/18            2/12/18   \n",
       "3                103             2/2/17             3/2/18   \n",
       "4                102            1/12/18            2/12/18   \n",
       "\n",
       "   library_branch_BranchID        library_branch_BranchAddress  \\\n",
       "0                        1  32 Corner Road, New York, NY 10012   \n",
       "1                        1  32 Corner Road, New York, NY 10012   \n",
       "2                        1  32 Corner Road, New York, NY 10012   \n",
       "3                        1  32 Corner Road, New York, NY 10012   \n",
       "4                        1  32 Corner Road, New York, NY 10012   \n",
       "\n",
       "  library_branch_BranchName  borrower_CardNo borrower_BorrowerName  \\\n",
       "0                Sharpstown              100             Joe Smith   \n",
       "1                Sharpstown              106         Haley Jackson   \n",
       "2                Sharpstown              102                Tom Li   \n",
       "3                Sharpstown              103       Angela Thompson   \n",
       "4                Sharpstown              102                Tom Li   \n",
       "\n",
       "                 borrower_BorrowerAddress borrower_BorrowerPhone  \n",
       "0     1321 4th Street, New York, NY 10014           212-312-1234  \n",
       "1      231 52nd Avenue New York, NY 10014           212-419-9935  \n",
       "2    981 Main Street, Ann Arbor, MI 48104           734-902-7455  \n",
       "3  2212 Green Avenue, Ann Arbor, MI 48104           313-591-2122  \n",
       "4    981 Main Street, Ann Arbor, MI 48104           734-902-7455  "
      ]
     },
     "execution_count": 3,
     "metadata": {},
     "output_type": "execute_result"
    }
   ],
   "source": [
    "df.head(5)"
   ]
  },
  {
   "cell_type": "code",
   "execution_count": 4,
   "metadata": {},
   "outputs": [
    {
     "name": "stdout",
     "output_type": "stream",
     "text": [
      "<class 'pandas.core.frame.DataFrame'>\n",
      "RangeIndex: 192 entries, 0 to 191\n",
      "Data columns (total 18 columns):\n",
      " #   Column                        Non-Null Count  Dtype \n",
      "---  ------                        --------------  ----- \n",
      " 0   book_BookID                   192 non-null    int64 \n",
      " 1   book_Title                    192 non-null    object\n",
      " 2   book_PublisherName            192 non-null    object\n",
      " 3   book_authors_AuthorName       192 non-null    object\n",
      " 4   publisher_PublisherAddress    192 non-null    object\n",
      " 5   publisher_PublisherPhone      192 non-null    object\n",
      " 6   book_copies_BookID            192 non-null    int64 \n",
      " 7   book_copies_No_Of_Copies      192 non-null    int64 \n",
      " 8   book_loans_CardNo             192 non-null    int64 \n",
      " 9   book_loans_DateOut            192 non-null    object\n",
      " 10  book_loans_DueDate            192 non-null    object\n",
      " 11  library_branch_BranchID       192 non-null    int64 \n",
      " 12  library_branch_BranchAddress  192 non-null    object\n",
      " 13  library_branch_BranchName     192 non-null    object\n",
      " 14  borrower_CardNo               192 non-null    int64 \n",
      " 15  borrower_BorrowerName         192 non-null    object\n",
      " 16  borrower_BorrowerAddress      192 non-null    object\n",
      " 17  borrower_BorrowerPhone        192 non-null    object\n",
      "dtypes: int64(6), object(12)\n",
      "memory usage: 27.1+ KB\n"
     ]
    }
   ],
   "source": [
    "df.info()"
   ]
  },
  {
   "cell_type": "code",
   "execution_count": 6,
   "metadata": {},
   "outputs": [
    {
     "data": {
      "text/plain": [
       "count    192.0\n",
       "mean       5.0\n",
       "std        0.0\n",
       "min        5.0\n",
       "25%        5.0\n",
       "50%        5.0\n",
       "75%        5.0\n",
       "max        5.0\n",
       "Name: book_copies_No_Of_Copies, dtype: float64"
      ]
     },
     "execution_count": 6,
     "metadata": {},
     "output_type": "execute_result"
    }
   ],
   "source": [
    "df['book_copies_No_Of_Copies'].describe()"
   ]
  },
  {
   "cell_type": "code",
   "execution_count": 7,
   "metadata": {},
   "outputs": [
    {
     "data": {
      "text/plain": [
       "16"
      ]
     },
     "execution_count": 7,
     "metadata": {},
     "output_type": "execute_result"
    }
   ],
   "source": [
    "df.duplicated().sum()"
   ]
  },
  {
   "cell_type": "code",
   "execution_count": 8,
   "metadata": {},
   "outputs": [
    {
     "data": {
      "text/plain": [
       "book_BookID                     0\n",
       "book_Title                      0\n",
       "book_PublisherName              0\n",
       "book_authors_AuthorName         0\n",
       "publisher_PublisherAddress      0\n",
       "publisher_PublisherPhone        0\n",
       "book_copies_BookID              0\n",
       "book_copies_No_Of_Copies        0\n",
       "book_loans_CardNo               0\n",
       "book_loans_DateOut              0\n",
       "book_loans_DueDate              0\n",
       "library_branch_BranchID         0\n",
       "library_branch_BranchAddress    0\n",
       "library_branch_BranchName       0\n",
       "borrower_CardNo                 0\n",
       "borrower_BorrowerName           0\n",
       "borrower_BorrowerAddress        0\n",
       "borrower_BorrowerPhone          0\n",
       "dtype: int64"
      ]
     },
     "execution_count": 8,
     "metadata": {},
     "output_type": "execute_result"
    }
   ],
   "source": [
    "df.isnull().sum()"
   ]
  },
  {
   "attachments": {},
   "cell_type": "markdown",
   "metadata": {},
   "source": [
    "convert book_loans_DateOut,book_loans_DueDate from numerical to Date"
   ]
  },
  {
   "cell_type": "code",
   "execution_count": 9,
   "metadata": {},
   "outputs": [],
   "source": [
    "df['book_loans_DateOut']=pd.to_datetime(df['book_loans_DateOut'])"
   ]
  },
  {
   "cell_type": "code",
   "execution_count": 10,
   "metadata": {},
   "outputs": [],
   "source": [
    "df['book_loans_DueDate']=pd.to_datetime(df['book_loans_DueDate'])"
   ]
  },
  {
   "cell_type": "code",
   "execution_count": 11,
   "metadata": {},
   "outputs": [
    {
     "name": "stdout",
     "output_type": "stream",
     "text": [
      "<class 'pandas.core.frame.DataFrame'>\n",
      "RangeIndex: 192 entries, 0 to 191\n",
      "Data columns (total 18 columns):\n",
      " #   Column                        Non-Null Count  Dtype         \n",
      "---  ------                        --------------  -----         \n",
      " 0   book_BookID                   192 non-null    int64         \n",
      " 1   book_Title                    192 non-null    object        \n",
      " 2   book_PublisherName            192 non-null    object        \n",
      " 3   book_authors_AuthorName       192 non-null    object        \n",
      " 4   publisher_PublisherAddress    192 non-null    object        \n",
      " 5   publisher_PublisherPhone      192 non-null    object        \n",
      " 6   book_copies_BookID            192 non-null    int64         \n",
      " 7   book_copies_No_Of_Copies      192 non-null    int64         \n",
      " 8   book_loans_CardNo             192 non-null    int64         \n",
      " 9   book_loans_DateOut            192 non-null    datetime64[ns]\n",
      " 10  book_loans_DueDate            192 non-null    datetime64[ns]\n",
      " 11  library_branch_BranchID       192 non-null    int64         \n",
      " 12  library_branch_BranchAddress  192 non-null    object        \n",
      " 13  library_branch_BranchName     192 non-null    object        \n",
      " 14  borrower_CardNo               192 non-null    int64         \n",
      " 15  borrower_BorrowerName         192 non-null    object        \n",
      " 16  borrower_BorrowerAddress      192 non-null    object        \n",
      " 17  borrower_BorrowerPhone        192 non-null    object        \n",
      "dtypes: datetime64[ns](2), int64(6), object(10)\n",
      "memory usage: 27.1+ KB\n"
     ]
    }
   ],
   "source": [
    "df.info()"
   ]
  },
  {
   "cell_type": "code",
   "execution_count": 12,
   "metadata": {},
   "outputs": [
    {
     "data": {
      "text/html": [
       "<div>\n",
       "<style scoped>\n",
       "    .dataframe tbody tr th:only-of-type {\n",
       "        vertical-align: middle;\n",
       "    }\n",
       "\n",
       "    .dataframe tbody tr th {\n",
       "        vertical-align: top;\n",
       "    }\n",
       "\n",
       "    .dataframe thead th {\n",
       "        text-align: right;\n",
       "    }\n",
       "</style>\n",
       "<table border=\"1\" class=\"dataframe\">\n",
       "  <thead>\n",
       "    <tr style=\"text-align: right;\">\n",
       "      <th></th>\n",
       "      <th>book_BookID</th>\n",
       "      <th>book_Title</th>\n",
       "      <th>book_PublisherName</th>\n",
       "      <th>book_authors_AuthorName</th>\n",
       "      <th>publisher_PublisherAddress</th>\n",
       "      <th>publisher_PublisherPhone</th>\n",
       "      <th>book_copies_BookID</th>\n",
       "      <th>book_copies_No_Of_Copies</th>\n",
       "      <th>book_loans_CardNo</th>\n",
       "      <th>book_loans_DateOut</th>\n",
       "      <th>book_loans_DueDate</th>\n",
       "      <th>library_branch_BranchID</th>\n",
       "      <th>library_branch_BranchAddress</th>\n",
       "      <th>library_branch_BranchName</th>\n",
       "      <th>borrower_CardNo</th>\n",
       "      <th>borrower_BorrowerName</th>\n",
       "      <th>borrower_BorrowerAddress</th>\n",
       "      <th>borrower_BorrowerPhone</th>\n",
       "    </tr>\n",
       "  </thead>\n",
       "  <tbody>\n",
       "    <tr>\n",
       "      <th>166</th>\n",
       "      <td>9</td>\n",
       "      <td>Hard Boiled Wonderland and The End of the World</td>\n",
       "      <td>Shinchosa</td>\n",
       "      <td>Haruki Murakami</td>\n",
       "      <td>Oga Bldg. 8, 2-5-4 Sarugaku-cho, Chiyoda-ku, T...</td>\n",
       "      <td>+81-3-5577-6507</td>\n",
       "      <td>9</td>\n",
       "      <td>5</td>\n",
       "      <td>103</td>\n",
       "      <td>2018-01-15</td>\n",
       "      <td>2018-02-15</td>\n",
       "      <td>4</td>\n",
       "      <td>101 South University, Ann Arbor, MI 48104</td>\n",
       "      <td>Ann Arbor</td>\n",
       "      <td>103</td>\n",
       "      <td>Angela Thompson</td>\n",
       "      <td>2212 Green Avenue, Ann Arbor, MI 48104</td>\n",
       "      <td>313-591-2122</td>\n",
       "    </tr>\n",
       "    <tr>\n",
       "      <th>32</th>\n",
       "      <td>13</td>\n",
       "      <td>The Princess Bride</td>\n",
       "      <td>Harcourt Brace Jovanovich</td>\n",
       "      <td>William Goldman</td>\n",
       "      <td>3 Park Ave, New York, NY 10016</td>\n",
       "      <td>212-420-5800</td>\n",
       "      <td>13</td>\n",
       "      <td>5</td>\n",
       "      <td>107</td>\n",
       "      <td>2018-01-03</td>\n",
       "      <td>2018-02-03</td>\n",
       "      <td>1</td>\n",
       "      <td>32 Corner Road, New York, NY 10012</td>\n",
       "      <td>Sharpstown</td>\n",
       "      <td>107</td>\n",
       "      <td>Michael Horford</td>\n",
       "      <td>653 Glen Avenue, Ann Arbor, MI 48104</td>\n",
       "      <td>734-998-1513</td>\n",
       "    </tr>\n",
       "    <tr>\n",
       "      <th>140</th>\n",
       "      <td>19</td>\n",
       "      <td>A Game of Thrones</td>\n",
       "      <td>Bantam</td>\n",
       "      <td>George R.R. Martin</td>\n",
       "      <td>375 Hudson Street, New York, NY 10014</td>\n",
       "      <td>212-366-2000</td>\n",
       "      <td>19</td>\n",
       "      <td>5</td>\n",
       "      <td>102</td>\n",
       "      <td>2017-12-12</td>\n",
       "      <td>2018-01-12</td>\n",
       "      <td>3</td>\n",
       "      <td>40 State Street, Saline, MI 48176</td>\n",
       "      <td>Saline</td>\n",
       "      <td>102</td>\n",
       "      <td>Tom Li</td>\n",
       "      <td>981 Main Street, Ann Arbor, MI 48104</td>\n",
       "      <td>734-902-7455</td>\n",
       "    </tr>\n",
       "    <tr>\n",
       "      <th>136</th>\n",
       "      <td>18</td>\n",
       "      <td>The Fellowship of the Ring</td>\n",
       "      <td>George Allen &amp; Unwin</td>\n",
       "      <td>J.R.R. Tolkien</td>\n",
       "      <td>83 Alexander Ln, Crows Nest NSW 2065, Australia</td>\n",
       "      <td>+61-2-8425-0100</td>\n",
       "      <td>18</td>\n",
       "      <td>5</td>\n",
       "      <td>107</td>\n",
       "      <td>2018-01-03</td>\n",
       "      <td>2018-02-03</td>\n",
       "      <td>3</td>\n",
       "      <td>40 State Street, Saline, MI 48176</td>\n",
       "      <td>Saline</td>\n",
       "      <td>107</td>\n",
       "      <td>Michael Horford</td>\n",
       "      <td>653 Glen Avenue, Ann Arbor, MI 48104</td>\n",
       "      <td>734-998-1513</td>\n",
       "    </tr>\n",
       "    <tr>\n",
       "      <th>3</th>\n",
       "      <td>1</td>\n",
       "      <td>The Name of the Wind</td>\n",
       "      <td>DAW Books</td>\n",
       "      <td>Patrick Rothfuss</td>\n",
       "      <td>375 Hudson Street, New York, NY 10014</td>\n",
       "      <td>212-366-2000</td>\n",
       "      <td>1</td>\n",
       "      <td>5</td>\n",
       "      <td>103</td>\n",
       "      <td>2017-02-02</td>\n",
       "      <td>2018-03-02</td>\n",
       "      <td>1</td>\n",
       "      <td>32 Corner Road, New York, NY 10012</td>\n",
       "      <td>Sharpstown</td>\n",
       "      <td>103</td>\n",
       "      <td>Angela Thompson</td>\n",
       "      <td>2212 Green Avenue, Ann Arbor, MI 48104</td>\n",
       "      <td>313-591-2122</td>\n",
       "    </tr>\n",
       "  </tbody>\n",
       "</table>\n",
       "</div>"
      ],
      "text/plain": [
       "     book_BookID                                       book_Title  \\\n",
       "166            9  Hard Boiled Wonderland and The End of the World   \n",
       "32            13                               The Princess Bride   \n",
       "140           19                                A Game of Thrones   \n",
       "136           18                       The Fellowship of the Ring   \n",
       "3              1                             The Name of the Wind   \n",
       "\n",
       "            book_PublisherName book_authors_AuthorName  \\\n",
       "166                  Shinchosa         Haruki Murakami   \n",
       "32   Harcourt Brace Jovanovich         William Goldman   \n",
       "140                     Bantam      George R.R. Martin   \n",
       "136       George Allen & Unwin          J.R.R. Tolkien   \n",
       "3                    DAW Books        Patrick Rothfuss   \n",
       "\n",
       "                            publisher_PublisherAddress  \\\n",
       "166  Oga Bldg. 8, 2-5-4 Sarugaku-cho, Chiyoda-ku, T...   \n",
       "32                      3 Park Ave, New York, NY 10016   \n",
       "140              375 Hudson Street, New York, NY 10014   \n",
       "136    83 Alexander Ln, Crows Nest NSW 2065, Australia   \n",
       "3                375 Hudson Street, New York, NY 10014   \n",
       "\n",
       "    publisher_PublisherPhone  book_copies_BookID  book_copies_No_Of_Copies  \\\n",
       "166          +81-3-5577-6507                   9                         5   \n",
       "32              212-420-5800                  13                         5   \n",
       "140             212-366-2000                  19                         5   \n",
       "136          +61-2-8425-0100                  18                         5   \n",
       "3               212-366-2000                   1                         5   \n",
       "\n",
       "     book_loans_CardNo book_loans_DateOut book_loans_DueDate  \\\n",
       "166                103         2018-01-15         2018-02-15   \n",
       "32                 107         2018-01-03         2018-02-03   \n",
       "140                102         2017-12-12         2018-01-12   \n",
       "136                107         2018-01-03         2018-02-03   \n",
       "3                  103         2017-02-02         2018-03-02   \n",
       "\n",
       "     library_branch_BranchID               library_branch_BranchAddress  \\\n",
       "166                        4  101 South University, Ann Arbor, MI 48104   \n",
       "32                         1         32 Corner Road, New York, NY 10012   \n",
       "140                        3          40 State Street, Saline, MI 48176   \n",
       "136                        3          40 State Street, Saline, MI 48176   \n",
       "3                          1         32 Corner Road, New York, NY 10012   \n",
       "\n",
       "    library_branch_BranchName  borrower_CardNo borrower_BorrowerName  \\\n",
       "166                 Ann Arbor              103       Angela Thompson   \n",
       "32                 Sharpstown              107       Michael Horford   \n",
       "140                    Saline              102                Tom Li   \n",
       "136                    Saline              107       Michael Horford   \n",
       "3                  Sharpstown              103       Angela Thompson   \n",
       "\n",
       "                   borrower_BorrowerAddress borrower_BorrowerPhone  \n",
       "166  2212 Green Avenue, Ann Arbor, MI 48104           313-591-2122  \n",
       "32     653 Glen Avenue, Ann Arbor, MI 48104           734-998-1513  \n",
       "140    981 Main Street, Ann Arbor, MI 48104           734-902-7455  \n",
       "136    653 Glen Avenue, Ann Arbor, MI 48104           734-998-1513  \n",
       "3    2212 Green Avenue, Ann Arbor, MI 48104           313-591-2122  "
      ]
     },
     "execution_count": 12,
     "metadata": {},
     "output_type": "execute_result"
    }
   ],
   "source": [
    "df.sample(5)"
   ]
  },
  {
   "attachments": {},
   "cell_type": "markdown",
   "metadata": {},
   "source": [
    "Drop sum columns that will not use it"
   ]
  },
  {
   "cell_type": "code",
   "execution_count": 13,
   "metadata": {},
   "outputs": [],
   "source": [
    "drop_columns=['book_BookID','book_copies_BookID','book_loans_CardNo','library_branch_BranchID','borrower_CardNo']\n",
    "df=df.drop(columns=drop_columns)"
   ]
  },
  {
   "cell_type": "code",
   "execution_count": 14,
   "metadata": {},
   "outputs": [
    {
     "data": {
      "text/html": [
       "<div>\n",
       "<style scoped>\n",
       "    .dataframe tbody tr th:only-of-type {\n",
       "        vertical-align: middle;\n",
       "    }\n",
       "\n",
       "    .dataframe tbody tr th {\n",
       "        vertical-align: top;\n",
       "    }\n",
       "\n",
       "    .dataframe thead th {\n",
       "        text-align: right;\n",
       "    }\n",
       "</style>\n",
       "<table border=\"1\" class=\"dataframe\">\n",
       "  <thead>\n",
       "    <tr style=\"text-align: right;\">\n",
       "      <th></th>\n",
       "      <th>book_Title</th>\n",
       "      <th>book_PublisherName</th>\n",
       "      <th>book_authors_AuthorName</th>\n",
       "      <th>publisher_PublisherAddress</th>\n",
       "      <th>publisher_PublisherPhone</th>\n",
       "      <th>book_copies_No_Of_Copies</th>\n",
       "      <th>book_loans_DateOut</th>\n",
       "      <th>book_loans_DueDate</th>\n",
       "      <th>library_branch_BranchAddress</th>\n",
       "      <th>library_branch_BranchName</th>\n",
       "      <th>borrower_BorrowerName</th>\n",
       "      <th>borrower_BorrowerAddress</th>\n",
       "      <th>borrower_BorrowerPhone</th>\n",
       "    </tr>\n",
       "  </thead>\n",
       "  <tbody>\n",
       "    <tr>\n",
       "      <th>0</th>\n",
       "      <td>The Name of the Wind</td>\n",
       "      <td>DAW Books</td>\n",
       "      <td>Patrick Rothfuss</td>\n",
       "      <td>375 Hudson Street, New York, NY 10014</td>\n",
       "      <td>212-366-2000</td>\n",
       "      <td>5</td>\n",
       "      <td>2018-01-01</td>\n",
       "      <td>2018-02-02</td>\n",
       "      <td>32 Corner Road, New York, NY 10012</td>\n",
       "      <td>Sharpstown</td>\n",
       "      <td>Joe Smith</td>\n",
       "      <td>1321 4th Street, New York, NY 10014</td>\n",
       "      <td>212-312-1234</td>\n",
       "    </tr>\n",
       "    <tr>\n",
       "      <th>1</th>\n",
       "      <td>The Name of the Wind</td>\n",
       "      <td>DAW Books</td>\n",
       "      <td>Patrick Rothfuss</td>\n",
       "      <td>375 Hudson Street, New York, NY 10014</td>\n",
       "      <td>212-366-2000</td>\n",
       "      <td>5</td>\n",
       "      <td>2018-01-07</td>\n",
       "      <td>2018-02-07</td>\n",
       "      <td>32 Corner Road, New York, NY 10012</td>\n",
       "      <td>Sharpstown</td>\n",
       "      <td>Haley Jackson</td>\n",
       "      <td>231 52nd Avenue New York, NY 10014</td>\n",
       "      <td>212-419-9935</td>\n",
       "    </tr>\n",
       "    <tr>\n",
       "      <th>2</th>\n",
       "      <td>The Name of the Wind</td>\n",
       "      <td>DAW Books</td>\n",
       "      <td>Patrick Rothfuss</td>\n",
       "      <td>375 Hudson Street, New York, NY 10014</td>\n",
       "      <td>212-366-2000</td>\n",
       "      <td>5</td>\n",
       "      <td>2018-01-12</td>\n",
       "      <td>2018-02-12</td>\n",
       "      <td>32 Corner Road, New York, NY 10012</td>\n",
       "      <td>Sharpstown</td>\n",
       "      <td>Tom Li</td>\n",
       "      <td>981 Main Street, Ann Arbor, MI 48104</td>\n",
       "      <td>734-902-7455</td>\n",
       "    </tr>\n",
       "    <tr>\n",
       "      <th>3</th>\n",
       "      <td>The Name of the Wind</td>\n",
       "      <td>DAW Books</td>\n",
       "      <td>Patrick Rothfuss</td>\n",
       "      <td>375 Hudson Street, New York, NY 10014</td>\n",
       "      <td>212-366-2000</td>\n",
       "      <td>5</td>\n",
       "      <td>2017-02-02</td>\n",
       "      <td>2018-03-02</td>\n",
       "      <td>32 Corner Road, New York, NY 10012</td>\n",
       "      <td>Sharpstown</td>\n",
       "      <td>Angela Thompson</td>\n",
       "      <td>2212 Green Avenue, Ann Arbor, MI 48104</td>\n",
       "      <td>313-591-2122</td>\n",
       "    </tr>\n",
       "  </tbody>\n",
       "</table>\n",
       "</div>"
      ],
      "text/plain": [
       "             book_Title book_PublisherName book_authors_AuthorName  \\\n",
       "0  The Name of the Wind          DAW Books        Patrick Rothfuss   \n",
       "1  The Name of the Wind          DAW Books        Patrick Rothfuss   \n",
       "2  The Name of the Wind          DAW Books        Patrick Rothfuss   \n",
       "3  The Name of the Wind          DAW Books        Patrick Rothfuss   \n",
       "\n",
       "              publisher_PublisherAddress publisher_PublisherPhone  \\\n",
       "0  375 Hudson Street, New York, NY 10014             212-366-2000   \n",
       "1  375 Hudson Street, New York, NY 10014             212-366-2000   \n",
       "2  375 Hudson Street, New York, NY 10014             212-366-2000   \n",
       "3  375 Hudson Street, New York, NY 10014             212-366-2000   \n",
       "\n",
       "   book_copies_No_Of_Copies book_loans_DateOut book_loans_DueDate  \\\n",
       "0                         5         2018-01-01         2018-02-02   \n",
       "1                         5         2018-01-07         2018-02-07   \n",
       "2                         5         2018-01-12         2018-02-12   \n",
       "3                         5         2017-02-02         2018-03-02   \n",
       "\n",
       "         library_branch_BranchAddress library_branch_BranchName  \\\n",
       "0  32 Corner Road, New York, NY 10012                Sharpstown   \n",
       "1  32 Corner Road, New York, NY 10012                Sharpstown   \n",
       "2  32 Corner Road, New York, NY 10012                Sharpstown   \n",
       "3  32 Corner Road, New York, NY 10012                Sharpstown   \n",
       "\n",
       "  borrower_BorrowerName                borrower_BorrowerAddress  \\\n",
       "0             Joe Smith     1321 4th Street, New York, NY 10014   \n",
       "1         Haley Jackson      231 52nd Avenue New York, NY 10014   \n",
       "2                Tom Li    981 Main Street, Ann Arbor, MI 48104   \n",
       "3       Angela Thompson  2212 Green Avenue, Ann Arbor, MI 48104   \n",
       "\n",
       "  borrower_BorrowerPhone  \n",
       "0           212-312-1234  \n",
       "1           212-419-9935  \n",
       "2           734-902-7455  \n",
       "3           313-591-2122  "
      ]
     },
     "execution_count": 14,
     "metadata": {},
     "output_type": "execute_result"
    }
   ],
   "source": [
    "df.head(4)"
   ]
  },
  {
   "attachments": {},
   "cell_type": "markdown",
   "metadata": {},
   "source": [
    "Check duplicates and null values"
   ]
  },
  {
   "cell_type": "code",
   "execution_count": 15,
   "metadata": {},
   "outputs": [
    {
     "data": {
      "text/plain": [
       "16"
      ]
     },
     "execution_count": 15,
     "metadata": {},
     "output_type": "execute_result"
    }
   ],
   "source": [
    "df.duplicated().sum()"
   ]
  },
  {
   "cell_type": "code",
   "execution_count": 16,
   "metadata": {},
   "outputs": [],
   "source": [
    "duplicateRows = df[df.duplicated()]"
   ]
  },
  {
   "cell_type": "code",
   "execution_count": 21,
   "metadata": {},
   "outputs": [
    {
     "data": {
      "text/html": [
       "<div>\n",
       "<style scoped>\n",
       "    .dataframe tbody tr th:only-of-type {\n",
       "        vertical-align: middle;\n",
       "    }\n",
       "\n",
       "    .dataframe tbody tr th {\n",
       "        vertical-align: top;\n",
       "    }\n",
       "\n",
       "    .dataframe thead th {\n",
       "        text-align: right;\n",
       "    }\n",
       "</style>\n",
       "<table border=\"1\" class=\"dataframe\">\n",
       "  <thead>\n",
       "    <tr style=\"text-align: right;\">\n",
       "      <th></th>\n",
       "      <th>book_Title</th>\n",
       "      <th>book_PublisherName</th>\n",
       "      <th>book_authors_AuthorName</th>\n",
       "      <th>publisher_PublisherAddress</th>\n",
       "      <th>publisher_PublisherPhone</th>\n",
       "      <th>book_copies_No_Of_Copies</th>\n",
       "      <th>book_loans_DateOut</th>\n",
       "      <th>book_loans_DueDate</th>\n",
       "      <th>library_branch_BranchAddress</th>\n",
       "      <th>library_branch_BranchName</th>\n",
       "      <th>borrower_BorrowerName</th>\n",
       "      <th>borrower_BorrowerAddress</th>\n",
       "      <th>borrower_BorrowerPhone</th>\n",
       "    </tr>\n",
       "  </thead>\n",
       "  <tbody>\n",
       "    <tr>\n",
       "      <th>4</th>\n",
       "      <td>The Name of the Wind</td>\n",
       "      <td>DAW Books</td>\n",
       "      <td>Patrick Rothfuss</td>\n",
       "      <td>375 Hudson Street, New York, NY 10014</td>\n",
       "      <td>212-366-2000</td>\n",
       "      <td>5</td>\n",
       "      <td>2018-01-12</td>\n",
       "      <td>2018-02-12</td>\n",
       "      <td>32 Corner Road, New York, NY 10012</td>\n",
       "      <td>Sharpstown</td>\n",
       "      <td>Tom Li</td>\n",
       "      <td>981 Main Street, Ann Arbor, MI 48104</td>\n",
       "      <td>734-902-7455</td>\n",
       "    </tr>\n",
       "    <tr>\n",
       "      <th>23</th>\n",
       "      <td>Hard Boiled Wonderland and The End of the World</td>\n",
       "      <td>Shinchosa</td>\n",
       "      <td>Haruki Murakami</td>\n",
       "      <td>Oga Bldg. 8, 2-5-4 Sarugaku-cho, Chiyoda-ku, T...</td>\n",
       "      <td>+81-3-5577-6507</td>\n",
       "      <td>5</td>\n",
       "      <td>2018-01-15</td>\n",
       "      <td>2018-02-15</td>\n",
       "      <td>32 Corner Road, New York, NY 10012</td>\n",
       "      <td>Sharpstown</td>\n",
       "      <td>Angela Thompson</td>\n",
       "      <td>2212 Green Avenue, Ann Arbor, MI 48104</td>\n",
       "      <td>313-591-2122</td>\n",
       "    </tr>\n",
       "    <tr>\n",
       "      <th>28</th>\n",
       "      <td>The Hitchhikers Guide to the Galaxy</td>\n",
       "      <td>Pan Books</td>\n",
       "      <td>Douglas Adams</td>\n",
       "      <td>175 Fifth Avenue, New York, NY 10010</td>\n",
       "      <td>646-307-5745</td>\n",
       "      <td>5</td>\n",
       "      <td>2018-01-15</td>\n",
       "      <td>2018-02-15</td>\n",
       "      <td>32 Corner Road, New York, NY 10012</td>\n",
       "      <td>Sharpstown</td>\n",
       "      <td>Angela Thompson</td>\n",
       "      <td>2212 Green Avenue, Ann Arbor, MI 48104</td>\n",
       "      <td>313-591-2122</td>\n",
       "    </tr>\n",
       "    <tr>\n",
       "      <th>47</th>\n",
       "      <td>The Lost Tribe</td>\n",
       "      <td>Picador USA</td>\n",
       "      <td>Mark Lee</td>\n",
       "      <td>175 Fifth Avenue, New York, NY 10010</td>\n",
       "      <td>646-307-5745</td>\n",
       "      <td>5</td>\n",
       "      <td>2018-01-03</td>\n",
       "      <td>2018-02-03</td>\n",
       "      <td>32 Corner Road, New York, NY 10012</td>\n",
       "      <td>Sharpstown</td>\n",
       "      <td>Angela Thompson</td>\n",
       "      <td>2212 Green Avenue, Ann Arbor, MI 48104</td>\n",
       "      <td>313-591-2122</td>\n",
       "    </tr>\n",
       "    <tr>\n",
       "      <th>52</th>\n",
       "      <td>The Name of the Wind</td>\n",
       "      <td>DAW Books</td>\n",
       "      <td>Patrick Rothfuss</td>\n",
       "      <td>375 Hudson Street, New York, NY 10014</td>\n",
       "      <td>212-366-2000</td>\n",
       "      <td>5</td>\n",
       "      <td>2018-01-12</td>\n",
       "      <td>2018-02-12</td>\n",
       "      <td>491 3rd Street, New York, NY 10014</td>\n",
       "      <td>Central</td>\n",
       "      <td>Tom Li</td>\n",
       "      <td>981 Main Street, Ann Arbor, MI 48104</td>\n",
       "      <td>734-902-7455</td>\n",
       "    </tr>\n",
       "    <tr>\n",
       "      <th>71</th>\n",
       "      <td>Hard Boiled Wonderland and The End of the World</td>\n",
       "      <td>Shinchosa</td>\n",
       "      <td>Haruki Murakami</td>\n",
       "      <td>Oga Bldg. 8, 2-5-4 Sarugaku-cho, Chiyoda-ku, T...</td>\n",
       "      <td>+81-3-5577-6507</td>\n",
       "      <td>5</td>\n",
       "      <td>2018-01-15</td>\n",
       "      <td>2018-02-15</td>\n",
       "      <td>491 3rd Street, New York, NY 10014</td>\n",
       "      <td>Central</td>\n",
       "      <td>Angela Thompson</td>\n",
       "      <td>2212 Green Avenue, Ann Arbor, MI 48104</td>\n",
       "      <td>313-591-2122</td>\n",
       "    </tr>\n",
       "    <tr>\n",
       "      <th>76</th>\n",
       "      <td>The Hitchhikers Guide to the Galaxy</td>\n",
       "      <td>Pan Books</td>\n",
       "      <td>Douglas Adams</td>\n",
       "      <td>175 Fifth Avenue, New York, NY 10010</td>\n",
       "      <td>646-307-5745</td>\n",
       "      <td>5</td>\n",
       "      <td>2018-01-15</td>\n",
       "      <td>2018-02-15</td>\n",
       "      <td>491 3rd Street, New York, NY 10014</td>\n",
       "      <td>Central</td>\n",
       "      <td>Angela Thompson</td>\n",
       "      <td>2212 Green Avenue, Ann Arbor, MI 48104</td>\n",
       "      <td>313-591-2122</td>\n",
       "    </tr>\n",
       "    <tr>\n",
       "      <th>95</th>\n",
       "      <td>The Lost Tribe</td>\n",
       "      <td>Picador USA</td>\n",
       "      <td>Mark Lee</td>\n",
       "      <td>175 Fifth Avenue, New York, NY 10010</td>\n",
       "      <td>646-307-5745</td>\n",
       "      <td>5</td>\n",
       "      <td>2018-01-03</td>\n",
       "      <td>2018-02-03</td>\n",
       "      <td>491 3rd Street, New York, NY 10014</td>\n",
       "      <td>Central</td>\n",
       "      <td>Angela Thompson</td>\n",
       "      <td>2212 Green Avenue, Ann Arbor, MI 48104</td>\n",
       "      <td>313-591-2122</td>\n",
       "    </tr>\n",
       "    <tr>\n",
       "      <th>100</th>\n",
       "      <td>The Name of the Wind</td>\n",
       "      <td>DAW Books</td>\n",
       "      <td>Patrick Rothfuss</td>\n",
       "      <td>375 Hudson Street, New York, NY 10014</td>\n",
       "      <td>212-366-2000</td>\n",
       "      <td>5</td>\n",
       "      <td>2018-01-12</td>\n",
       "      <td>2018-02-12</td>\n",
       "      <td>40 State Street, Saline, MI 48176</td>\n",
       "      <td>Saline</td>\n",
       "      <td>Tom Li</td>\n",
       "      <td>981 Main Street, Ann Arbor, MI 48104</td>\n",
       "      <td>734-902-7455</td>\n",
       "    </tr>\n",
       "    <tr>\n",
       "      <th>119</th>\n",
       "      <td>Hard Boiled Wonderland and The End of the World</td>\n",
       "      <td>Shinchosa</td>\n",
       "      <td>Haruki Murakami</td>\n",
       "      <td>Oga Bldg. 8, 2-5-4 Sarugaku-cho, Chiyoda-ku, T...</td>\n",
       "      <td>+81-3-5577-6507</td>\n",
       "      <td>5</td>\n",
       "      <td>2018-01-15</td>\n",
       "      <td>2018-02-15</td>\n",
       "      <td>40 State Street, Saline, MI 48176</td>\n",
       "      <td>Saline</td>\n",
       "      <td>Angela Thompson</td>\n",
       "      <td>2212 Green Avenue, Ann Arbor, MI 48104</td>\n",
       "      <td>313-591-2122</td>\n",
       "    </tr>\n",
       "    <tr>\n",
       "      <th>124</th>\n",
       "      <td>The Hitchhikers Guide to the Galaxy</td>\n",
       "      <td>Pan Books</td>\n",
       "      <td>Douglas Adams</td>\n",
       "      <td>175 Fifth Avenue, New York, NY 10010</td>\n",
       "      <td>646-307-5745</td>\n",
       "      <td>5</td>\n",
       "      <td>2018-01-15</td>\n",
       "      <td>2018-02-15</td>\n",
       "      <td>40 State Street, Saline, MI 48176</td>\n",
       "      <td>Saline</td>\n",
       "      <td>Angela Thompson</td>\n",
       "      <td>2212 Green Avenue, Ann Arbor, MI 48104</td>\n",
       "      <td>313-591-2122</td>\n",
       "    </tr>\n",
       "    <tr>\n",
       "      <th>143</th>\n",
       "      <td>The Lost Tribe</td>\n",
       "      <td>Picador USA</td>\n",
       "      <td>Mark Lee</td>\n",
       "      <td>175 Fifth Avenue, New York, NY 10010</td>\n",
       "      <td>646-307-5745</td>\n",
       "      <td>5</td>\n",
       "      <td>2018-01-03</td>\n",
       "      <td>2018-02-03</td>\n",
       "      <td>40 State Street, Saline, MI 48176</td>\n",
       "      <td>Saline</td>\n",
       "      <td>Angela Thompson</td>\n",
       "      <td>2212 Green Avenue, Ann Arbor, MI 48104</td>\n",
       "      <td>313-591-2122</td>\n",
       "    </tr>\n",
       "    <tr>\n",
       "      <th>148</th>\n",
       "      <td>The Name of the Wind</td>\n",
       "      <td>DAW Books</td>\n",
       "      <td>Patrick Rothfuss</td>\n",
       "      <td>375 Hudson Street, New York, NY 10014</td>\n",
       "      <td>212-366-2000</td>\n",
       "      <td>5</td>\n",
       "      <td>2018-01-12</td>\n",
       "      <td>2018-02-12</td>\n",
       "      <td>101 South University, Ann Arbor, MI 48104</td>\n",
       "      <td>Ann Arbor</td>\n",
       "      <td>Tom Li</td>\n",
       "      <td>981 Main Street, Ann Arbor, MI 48104</td>\n",
       "      <td>734-902-7455</td>\n",
       "    </tr>\n",
       "    <tr>\n",
       "      <th>167</th>\n",
       "      <td>Hard Boiled Wonderland and The End of the World</td>\n",
       "      <td>Shinchosa</td>\n",
       "      <td>Haruki Murakami</td>\n",
       "      <td>Oga Bldg. 8, 2-5-4 Sarugaku-cho, Chiyoda-ku, T...</td>\n",
       "      <td>+81-3-5577-6507</td>\n",
       "      <td>5</td>\n",
       "      <td>2018-01-15</td>\n",
       "      <td>2018-02-15</td>\n",
       "      <td>101 South University, Ann Arbor, MI 48104</td>\n",
       "      <td>Ann Arbor</td>\n",
       "      <td>Angela Thompson</td>\n",
       "      <td>2212 Green Avenue, Ann Arbor, MI 48104</td>\n",
       "      <td>313-591-2122</td>\n",
       "    </tr>\n",
       "    <tr>\n",
       "      <th>172</th>\n",
       "      <td>The Hitchhikers Guide to the Galaxy</td>\n",
       "      <td>Pan Books</td>\n",
       "      <td>Douglas Adams</td>\n",
       "      <td>175 Fifth Avenue, New York, NY 10010</td>\n",
       "      <td>646-307-5745</td>\n",
       "      <td>5</td>\n",
       "      <td>2018-01-15</td>\n",
       "      <td>2018-02-15</td>\n",
       "      <td>101 South University, Ann Arbor, MI 48104</td>\n",
       "      <td>Ann Arbor</td>\n",
       "      <td>Angela Thompson</td>\n",
       "      <td>2212 Green Avenue, Ann Arbor, MI 48104</td>\n",
       "      <td>313-591-2122</td>\n",
       "    </tr>\n",
       "    <tr>\n",
       "      <th>191</th>\n",
       "      <td>The Lost Tribe</td>\n",
       "      <td>Picador USA</td>\n",
       "      <td>Mark Lee</td>\n",
       "      <td>175 Fifth Avenue, New York, NY 10010</td>\n",
       "      <td>646-307-5745</td>\n",
       "      <td>5</td>\n",
       "      <td>2018-01-03</td>\n",
       "      <td>2018-02-03</td>\n",
       "      <td>101 South University, Ann Arbor, MI 48104</td>\n",
       "      <td>Ann Arbor</td>\n",
       "      <td>Angela Thompson</td>\n",
       "      <td>2212 Green Avenue, Ann Arbor, MI 48104</td>\n",
       "      <td>313-591-2122</td>\n",
       "    </tr>\n",
       "  </tbody>\n",
       "</table>\n",
       "</div>"
      ],
      "text/plain": [
       "                                          book_Title book_PublisherName  \\\n",
       "4                               The Name of the Wind          DAW Books   \n",
       "23   Hard Boiled Wonderland and The End of the World          Shinchosa   \n",
       "28               The Hitchhikers Guide to the Galaxy          Pan Books   \n",
       "47                                    The Lost Tribe        Picador USA   \n",
       "52                              The Name of the Wind          DAW Books   \n",
       "71   Hard Boiled Wonderland and The End of the World          Shinchosa   \n",
       "76               The Hitchhikers Guide to the Galaxy          Pan Books   \n",
       "95                                    The Lost Tribe        Picador USA   \n",
       "100                             The Name of the Wind          DAW Books   \n",
       "119  Hard Boiled Wonderland and The End of the World          Shinchosa   \n",
       "124              The Hitchhikers Guide to the Galaxy          Pan Books   \n",
       "143                                   The Lost Tribe        Picador USA   \n",
       "148                             The Name of the Wind          DAW Books   \n",
       "167  Hard Boiled Wonderland and The End of the World          Shinchosa   \n",
       "172              The Hitchhikers Guide to the Galaxy          Pan Books   \n",
       "191                                   The Lost Tribe        Picador USA   \n",
       "\n",
       "    book_authors_AuthorName  \\\n",
       "4          Patrick Rothfuss   \n",
       "23          Haruki Murakami   \n",
       "28            Douglas Adams   \n",
       "47                 Mark Lee   \n",
       "52         Patrick Rothfuss   \n",
       "71          Haruki Murakami   \n",
       "76            Douglas Adams   \n",
       "95                 Mark Lee   \n",
       "100        Patrick Rothfuss   \n",
       "119         Haruki Murakami   \n",
       "124           Douglas Adams   \n",
       "143                Mark Lee   \n",
       "148        Patrick Rothfuss   \n",
       "167         Haruki Murakami   \n",
       "172           Douglas Adams   \n",
       "191                Mark Lee   \n",
       "\n",
       "                            publisher_PublisherAddress  \\\n",
       "4                375 Hudson Street, New York, NY 10014   \n",
       "23   Oga Bldg. 8, 2-5-4 Sarugaku-cho, Chiyoda-ku, T...   \n",
       "28                175 Fifth Avenue, New York, NY 10010   \n",
       "47                175 Fifth Avenue, New York, NY 10010   \n",
       "52               375 Hudson Street, New York, NY 10014   \n",
       "71   Oga Bldg. 8, 2-5-4 Sarugaku-cho, Chiyoda-ku, T...   \n",
       "76                175 Fifth Avenue, New York, NY 10010   \n",
       "95                175 Fifth Avenue, New York, NY 10010   \n",
       "100              375 Hudson Street, New York, NY 10014   \n",
       "119  Oga Bldg. 8, 2-5-4 Sarugaku-cho, Chiyoda-ku, T...   \n",
       "124               175 Fifth Avenue, New York, NY 10010   \n",
       "143               175 Fifth Avenue, New York, NY 10010   \n",
       "148              375 Hudson Street, New York, NY 10014   \n",
       "167  Oga Bldg. 8, 2-5-4 Sarugaku-cho, Chiyoda-ku, T...   \n",
       "172               175 Fifth Avenue, New York, NY 10010   \n",
       "191               175 Fifth Avenue, New York, NY 10010   \n",
       "\n",
       "    publisher_PublisherPhone  book_copies_No_Of_Copies book_loans_DateOut  \\\n",
       "4               212-366-2000                         5         2018-01-12   \n",
       "23           +81-3-5577-6507                         5         2018-01-15   \n",
       "28              646-307-5745                         5         2018-01-15   \n",
       "47              646-307-5745                         5         2018-01-03   \n",
       "52              212-366-2000                         5         2018-01-12   \n",
       "71           +81-3-5577-6507                         5         2018-01-15   \n",
       "76              646-307-5745                         5         2018-01-15   \n",
       "95              646-307-5745                         5         2018-01-03   \n",
       "100             212-366-2000                         5         2018-01-12   \n",
       "119          +81-3-5577-6507                         5         2018-01-15   \n",
       "124             646-307-5745                         5         2018-01-15   \n",
       "143             646-307-5745                         5         2018-01-03   \n",
       "148             212-366-2000                         5         2018-01-12   \n",
       "167          +81-3-5577-6507                         5         2018-01-15   \n",
       "172             646-307-5745                         5         2018-01-15   \n",
       "191             646-307-5745                         5         2018-01-03   \n",
       "\n",
       "    book_loans_DueDate               library_branch_BranchAddress  \\\n",
       "4           2018-02-12         32 Corner Road, New York, NY 10012   \n",
       "23          2018-02-15         32 Corner Road, New York, NY 10012   \n",
       "28          2018-02-15         32 Corner Road, New York, NY 10012   \n",
       "47          2018-02-03         32 Corner Road, New York, NY 10012   \n",
       "52          2018-02-12         491 3rd Street, New York, NY 10014   \n",
       "71          2018-02-15         491 3rd Street, New York, NY 10014   \n",
       "76          2018-02-15         491 3rd Street, New York, NY 10014   \n",
       "95          2018-02-03         491 3rd Street, New York, NY 10014   \n",
       "100         2018-02-12          40 State Street, Saline, MI 48176   \n",
       "119         2018-02-15          40 State Street, Saline, MI 48176   \n",
       "124         2018-02-15          40 State Street, Saline, MI 48176   \n",
       "143         2018-02-03          40 State Street, Saline, MI 48176   \n",
       "148         2018-02-12  101 South University, Ann Arbor, MI 48104   \n",
       "167         2018-02-15  101 South University, Ann Arbor, MI 48104   \n",
       "172         2018-02-15  101 South University, Ann Arbor, MI 48104   \n",
       "191         2018-02-03  101 South University, Ann Arbor, MI 48104   \n",
       "\n",
       "    library_branch_BranchName borrower_BorrowerName  \\\n",
       "4                  Sharpstown                Tom Li   \n",
       "23                 Sharpstown       Angela Thompson   \n",
       "28                 Sharpstown       Angela Thompson   \n",
       "47                 Sharpstown       Angela Thompson   \n",
       "52                    Central                Tom Li   \n",
       "71                    Central       Angela Thompson   \n",
       "76                    Central       Angela Thompson   \n",
       "95                    Central       Angela Thompson   \n",
       "100                    Saline                Tom Li   \n",
       "119                    Saline       Angela Thompson   \n",
       "124                    Saline       Angela Thompson   \n",
       "143                    Saline       Angela Thompson   \n",
       "148                 Ann Arbor                Tom Li   \n",
       "167                 Ann Arbor       Angela Thompson   \n",
       "172                 Ann Arbor       Angela Thompson   \n",
       "191                 Ann Arbor       Angela Thompson   \n",
       "\n",
       "                   borrower_BorrowerAddress borrower_BorrowerPhone  \n",
       "4      981 Main Street, Ann Arbor, MI 48104           734-902-7455  \n",
       "23   2212 Green Avenue, Ann Arbor, MI 48104           313-591-2122  \n",
       "28   2212 Green Avenue, Ann Arbor, MI 48104           313-591-2122  \n",
       "47   2212 Green Avenue, Ann Arbor, MI 48104           313-591-2122  \n",
       "52     981 Main Street, Ann Arbor, MI 48104           734-902-7455  \n",
       "71   2212 Green Avenue, Ann Arbor, MI 48104           313-591-2122  \n",
       "76   2212 Green Avenue, Ann Arbor, MI 48104           313-591-2122  \n",
       "95   2212 Green Avenue, Ann Arbor, MI 48104           313-591-2122  \n",
       "100    981 Main Street, Ann Arbor, MI 48104           734-902-7455  \n",
       "119  2212 Green Avenue, Ann Arbor, MI 48104           313-591-2122  \n",
       "124  2212 Green Avenue, Ann Arbor, MI 48104           313-591-2122  \n",
       "143  2212 Green Avenue, Ann Arbor, MI 48104           313-591-2122  \n",
       "148    981 Main Street, Ann Arbor, MI 48104           734-902-7455  \n",
       "167  2212 Green Avenue, Ann Arbor, MI 48104           313-591-2122  \n",
       "172  2212 Green Avenue, Ann Arbor, MI 48104           313-591-2122  \n",
       "191  2212 Green Avenue, Ann Arbor, MI 48104           313-591-2122  "
      ]
     },
     "execution_count": 21,
     "metadata": {},
     "output_type": "execute_result"
    }
   ],
   "source": [
    "duplicateRows"
   ]
  },
  {
   "cell_type": "code",
   "execution_count": 22,
   "metadata": {},
   "outputs": [
    {
     "data": {
      "text/html": [
       "<div>\n",
       "<style scoped>\n",
       "    .dataframe tbody tr th:only-of-type {\n",
       "        vertical-align: middle;\n",
       "    }\n",
       "\n",
       "    .dataframe tbody tr th {\n",
       "        vertical-align: top;\n",
       "    }\n",
       "\n",
       "    .dataframe thead th {\n",
       "        text-align: right;\n",
       "    }\n",
       "</style>\n",
       "<table border=\"1\" class=\"dataframe\">\n",
       "  <thead>\n",
       "    <tr style=\"text-align: right;\">\n",
       "      <th></th>\n",
       "      <th>book_Title</th>\n",
       "      <th>book_PublisherName</th>\n",
       "      <th>book_authors_AuthorName</th>\n",
       "      <th>publisher_PublisherAddress</th>\n",
       "      <th>publisher_PublisherPhone</th>\n",
       "      <th>book_copies_No_Of_Copies</th>\n",
       "      <th>book_loans_DateOut</th>\n",
       "      <th>book_loans_DueDate</th>\n",
       "      <th>library_branch_BranchAddress</th>\n",
       "      <th>library_branch_BranchName</th>\n",
       "      <th>borrower_BorrowerName</th>\n",
       "      <th>borrower_BorrowerAddress</th>\n",
       "      <th>borrower_BorrowerPhone</th>\n",
       "    </tr>\n",
       "  </thead>\n",
       "  <tbody>\n",
       "    <tr>\n",
       "      <th>4</th>\n",
       "      <td>The Name of the Wind</td>\n",
       "      <td>DAW Books</td>\n",
       "      <td>Patrick Rothfuss</td>\n",
       "      <td>375 Hudson Street, New York, NY 10014</td>\n",
       "      <td>212-366-2000</td>\n",
       "      <td>5</td>\n",
       "      <td>2018-01-12</td>\n",
       "      <td>2018-02-12</td>\n",
       "      <td>32 Corner Road, New York, NY 10012</td>\n",
       "      <td>Sharpstown</td>\n",
       "      <td>Tom Li</td>\n",
       "      <td>981 Main Street, Ann Arbor, MI 48104</td>\n",
       "      <td>734-902-7455</td>\n",
       "    </tr>\n",
       "    <tr>\n",
       "      <th>23</th>\n",
       "      <td>Hard Boiled Wonderland and The End of the World</td>\n",
       "      <td>Shinchosa</td>\n",
       "      <td>Haruki Murakami</td>\n",
       "      <td>Oga Bldg. 8, 2-5-4 Sarugaku-cho, Chiyoda-ku, T...</td>\n",
       "      <td>+81-3-5577-6507</td>\n",
       "      <td>5</td>\n",
       "      <td>2018-01-15</td>\n",
       "      <td>2018-02-15</td>\n",
       "      <td>32 Corner Road, New York, NY 10012</td>\n",
       "      <td>Sharpstown</td>\n",
       "      <td>Angela Thompson</td>\n",
       "      <td>2212 Green Avenue, Ann Arbor, MI 48104</td>\n",
       "      <td>313-591-2122</td>\n",
       "    </tr>\n",
       "    <tr>\n",
       "      <th>28</th>\n",
       "      <td>The Hitchhikers Guide to the Galaxy</td>\n",
       "      <td>Pan Books</td>\n",
       "      <td>Douglas Adams</td>\n",
       "      <td>175 Fifth Avenue, New York, NY 10010</td>\n",
       "      <td>646-307-5745</td>\n",
       "      <td>5</td>\n",
       "      <td>2018-01-15</td>\n",
       "      <td>2018-02-15</td>\n",
       "      <td>32 Corner Road, New York, NY 10012</td>\n",
       "      <td>Sharpstown</td>\n",
       "      <td>Angela Thompson</td>\n",
       "      <td>2212 Green Avenue, Ann Arbor, MI 48104</td>\n",
       "      <td>313-591-2122</td>\n",
       "    </tr>\n",
       "    <tr>\n",
       "      <th>47</th>\n",
       "      <td>The Lost Tribe</td>\n",
       "      <td>Picador USA</td>\n",
       "      <td>Mark Lee</td>\n",
       "      <td>175 Fifth Avenue, New York, NY 10010</td>\n",
       "      <td>646-307-5745</td>\n",
       "      <td>5</td>\n",
       "      <td>2018-01-03</td>\n",
       "      <td>2018-02-03</td>\n",
       "      <td>32 Corner Road, New York, NY 10012</td>\n",
       "      <td>Sharpstown</td>\n",
       "      <td>Angela Thompson</td>\n",
       "      <td>2212 Green Avenue, Ann Arbor, MI 48104</td>\n",
       "      <td>313-591-2122</td>\n",
       "    </tr>\n",
       "    <tr>\n",
       "      <th>52</th>\n",
       "      <td>The Name of the Wind</td>\n",
       "      <td>DAW Books</td>\n",
       "      <td>Patrick Rothfuss</td>\n",
       "      <td>375 Hudson Street, New York, NY 10014</td>\n",
       "      <td>212-366-2000</td>\n",
       "      <td>5</td>\n",
       "      <td>2018-01-12</td>\n",
       "      <td>2018-02-12</td>\n",
       "      <td>491 3rd Street, New York, NY 10014</td>\n",
       "      <td>Central</td>\n",
       "      <td>Tom Li</td>\n",
       "      <td>981 Main Street, Ann Arbor, MI 48104</td>\n",
       "      <td>734-902-7455</td>\n",
       "    </tr>\n",
       "    <tr>\n",
       "      <th>71</th>\n",
       "      <td>Hard Boiled Wonderland and The End of the World</td>\n",
       "      <td>Shinchosa</td>\n",
       "      <td>Haruki Murakami</td>\n",
       "      <td>Oga Bldg. 8, 2-5-4 Sarugaku-cho, Chiyoda-ku, T...</td>\n",
       "      <td>+81-3-5577-6507</td>\n",
       "      <td>5</td>\n",
       "      <td>2018-01-15</td>\n",
       "      <td>2018-02-15</td>\n",
       "      <td>491 3rd Street, New York, NY 10014</td>\n",
       "      <td>Central</td>\n",
       "      <td>Angela Thompson</td>\n",
       "      <td>2212 Green Avenue, Ann Arbor, MI 48104</td>\n",
       "      <td>313-591-2122</td>\n",
       "    </tr>\n",
       "    <tr>\n",
       "      <th>76</th>\n",
       "      <td>The Hitchhikers Guide to the Galaxy</td>\n",
       "      <td>Pan Books</td>\n",
       "      <td>Douglas Adams</td>\n",
       "      <td>175 Fifth Avenue, New York, NY 10010</td>\n",
       "      <td>646-307-5745</td>\n",
       "      <td>5</td>\n",
       "      <td>2018-01-15</td>\n",
       "      <td>2018-02-15</td>\n",
       "      <td>491 3rd Street, New York, NY 10014</td>\n",
       "      <td>Central</td>\n",
       "      <td>Angela Thompson</td>\n",
       "      <td>2212 Green Avenue, Ann Arbor, MI 48104</td>\n",
       "      <td>313-591-2122</td>\n",
       "    </tr>\n",
       "    <tr>\n",
       "      <th>95</th>\n",
       "      <td>The Lost Tribe</td>\n",
       "      <td>Picador USA</td>\n",
       "      <td>Mark Lee</td>\n",
       "      <td>175 Fifth Avenue, New York, NY 10010</td>\n",
       "      <td>646-307-5745</td>\n",
       "      <td>5</td>\n",
       "      <td>2018-01-03</td>\n",
       "      <td>2018-02-03</td>\n",
       "      <td>491 3rd Street, New York, NY 10014</td>\n",
       "      <td>Central</td>\n",
       "      <td>Angela Thompson</td>\n",
       "      <td>2212 Green Avenue, Ann Arbor, MI 48104</td>\n",
       "      <td>313-591-2122</td>\n",
       "    </tr>\n",
       "    <tr>\n",
       "      <th>100</th>\n",
       "      <td>The Name of the Wind</td>\n",
       "      <td>DAW Books</td>\n",
       "      <td>Patrick Rothfuss</td>\n",
       "      <td>375 Hudson Street, New York, NY 10014</td>\n",
       "      <td>212-366-2000</td>\n",
       "      <td>5</td>\n",
       "      <td>2018-01-12</td>\n",
       "      <td>2018-02-12</td>\n",
       "      <td>40 State Street, Saline, MI 48176</td>\n",
       "      <td>Saline</td>\n",
       "      <td>Tom Li</td>\n",
       "      <td>981 Main Street, Ann Arbor, MI 48104</td>\n",
       "      <td>734-902-7455</td>\n",
       "    </tr>\n",
       "    <tr>\n",
       "      <th>119</th>\n",
       "      <td>Hard Boiled Wonderland and The End of the World</td>\n",
       "      <td>Shinchosa</td>\n",
       "      <td>Haruki Murakami</td>\n",
       "      <td>Oga Bldg. 8, 2-5-4 Sarugaku-cho, Chiyoda-ku, T...</td>\n",
       "      <td>+81-3-5577-6507</td>\n",
       "      <td>5</td>\n",
       "      <td>2018-01-15</td>\n",
       "      <td>2018-02-15</td>\n",
       "      <td>40 State Street, Saline, MI 48176</td>\n",
       "      <td>Saline</td>\n",
       "      <td>Angela Thompson</td>\n",
       "      <td>2212 Green Avenue, Ann Arbor, MI 48104</td>\n",
       "      <td>313-591-2122</td>\n",
       "    </tr>\n",
       "    <tr>\n",
       "      <th>124</th>\n",
       "      <td>The Hitchhikers Guide to the Galaxy</td>\n",
       "      <td>Pan Books</td>\n",
       "      <td>Douglas Adams</td>\n",
       "      <td>175 Fifth Avenue, New York, NY 10010</td>\n",
       "      <td>646-307-5745</td>\n",
       "      <td>5</td>\n",
       "      <td>2018-01-15</td>\n",
       "      <td>2018-02-15</td>\n",
       "      <td>40 State Street, Saline, MI 48176</td>\n",
       "      <td>Saline</td>\n",
       "      <td>Angela Thompson</td>\n",
       "      <td>2212 Green Avenue, Ann Arbor, MI 48104</td>\n",
       "      <td>313-591-2122</td>\n",
       "    </tr>\n",
       "    <tr>\n",
       "      <th>143</th>\n",
       "      <td>The Lost Tribe</td>\n",
       "      <td>Picador USA</td>\n",
       "      <td>Mark Lee</td>\n",
       "      <td>175 Fifth Avenue, New York, NY 10010</td>\n",
       "      <td>646-307-5745</td>\n",
       "      <td>5</td>\n",
       "      <td>2018-01-03</td>\n",
       "      <td>2018-02-03</td>\n",
       "      <td>40 State Street, Saline, MI 48176</td>\n",
       "      <td>Saline</td>\n",
       "      <td>Angela Thompson</td>\n",
       "      <td>2212 Green Avenue, Ann Arbor, MI 48104</td>\n",
       "      <td>313-591-2122</td>\n",
       "    </tr>\n",
       "    <tr>\n",
       "      <th>148</th>\n",
       "      <td>The Name of the Wind</td>\n",
       "      <td>DAW Books</td>\n",
       "      <td>Patrick Rothfuss</td>\n",
       "      <td>375 Hudson Street, New York, NY 10014</td>\n",
       "      <td>212-366-2000</td>\n",
       "      <td>5</td>\n",
       "      <td>2018-01-12</td>\n",
       "      <td>2018-02-12</td>\n",
       "      <td>101 South University, Ann Arbor, MI 48104</td>\n",
       "      <td>Ann Arbor</td>\n",
       "      <td>Tom Li</td>\n",
       "      <td>981 Main Street, Ann Arbor, MI 48104</td>\n",
       "      <td>734-902-7455</td>\n",
       "    </tr>\n",
       "    <tr>\n",
       "      <th>167</th>\n",
       "      <td>Hard Boiled Wonderland and The End of the World</td>\n",
       "      <td>Shinchosa</td>\n",
       "      <td>Haruki Murakami</td>\n",
       "      <td>Oga Bldg. 8, 2-5-4 Sarugaku-cho, Chiyoda-ku, T...</td>\n",
       "      <td>+81-3-5577-6507</td>\n",
       "      <td>5</td>\n",
       "      <td>2018-01-15</td>\n",
       "      <td>2018-02-15</td>\n",
       "      <td>101 South University, Ann Arbor, MI 48104</td>\n",
       "      <td>Ann Arbor</td>\n",
       "      <td>Angela Thompson</td>\n",
       "      <td>2212 Green Avenue, Ann Arbor, MI 48104</td>\n",
       "      <td>313-591-2122</td>\n",
       "    </tr>\n",
       "    <tr>\n",
       "      <th>172</th>\n",
       "      <td>The Hitchhikers Guide to the Galaxy</td>\n",
       "      <td>Pan Books</td>\n",
       "      <td>Douglas Adams</td>\n",
       "      <td>175 Fifth Avenue, New York, NY 10010</td>\n",
       "      <td>646-307-5745</td>\n",
       "      <td>5</td>\n",
       "      <td>2018-01-15</td>\n",
       "      <td>2018-02-15</td>\n",
       "      <td>101 South University, Ann Arbor, MI 48104</td>\n",
       "      <td>Ann Arbor</td>\n",
       "      <td>Angela Thompson</td>\n",
       "      <td>2212 Green Avenue, Ann Arbor, MI 48104</td>\n",
       "      <td>313-591-2122</td>\n",
       "    </tr>\n",
       "    <tr>\n",
       "      <th>191</th>\n",
       "      <td>The Lost Tribe</td>\n",
       "      <td>Picador USA</td>\n",
       "      <td>Mark Lee</td>\n",
       "      <td>175 Fifth Avenue, New York, NY 10010</td>\n",
       "      <td>646-307-5745</td>\n",
       "      <td>5</td>\n",
       "      <td>2018-01-03</td>\n",
       "      <td>2018-02-03</td>\n",
       "      <td>101 South University, Ann Arbor, MI 48104</td>\n",
       "      <td>Ann Arbor</td>\n",
       "      <td>Angela Thompson</td>\n",
       "      <td>2212 Green Avenue, Ann Arbor, MI 48104</td>\n",
       "      <td>313-591-2122</td>\n",
       "    </tr>\n",
       "  </tbody>\n",
       "</table>\n",
       "</div>"
      ],
      "text/plain": [
       "                                          book_Title book_PublisherName  \\\n",
       "4                               The Name of the Wind          DAW Books   \n",
       "23   Hard Boiled Wonderland and The End of the World          Shinchosa   \n",
       "28               The Hitchhikers Guide to the Galaxy          Pan Books   \n",
       "47                                    The Lost Tribe        Picador USA   \n",
       "52                              The Name of the Wind          DAW Books   \n",
       "71   Hard Boiled Wonderland and The End of the World          Shinchosa   \n",
       "76               The Hitchhikers Guide to the Galaxy          Pan Books   \n",
       "95                                    The Lost Tribe        Picador USA   \n",
       "100                             The Name of the Wind          DAW Books   \n",
       "119  Hard Boiled Wonderland and The End of the World          Shinchosa   \n",
       "124              The Hitchhikers Guide to the Galaxy          Pan Books   \n",
       "143                                   The Lost Tribe        Picador USA   \n",
       "148                             The Name of the Wind          DAW Books   \n",
       "167  Hard Boiled Wonderland and The End of the World          Shinchosa   \n",
       "172              The Hitchhikers Guide to the Galaxy          Pan Books   \n",
       "191                                   The Lost Tribe        Picador USA   \n",
       "\n",
       "    book_authors_AuthorName  \\\n",
       "4          Patrick Rothfuss   \n",
       "23          Haruki Murakami   \n",
       "28            Douglas Adams   \n",
       "47                 Mark Lee   \n",
       "52         Patrick Rothfuss   \n",
       "71          Haruki Murakami   \n",
       "76            Douglas Adams   \n",
       "95                 Mark Lee   \n",
       "100        Patrick Rothfuss   \n",
       "119         Haruki Murakami   \n",
       "124           Douglas Adams   \n",
       "143                Mark Lee   \n",
       "148        Patrick Rothfuss   \n",
       "167         Haruki Murakami   \n",
       "172           Douglas Adams   \n",
       "191                Mark Lee   \n",
       "\n",
       "                            publisher_PublisherAddress  \\\n",
       "4                375 Hudson Street, New York, NY 10014   \n",
       "23   Oga Bldg. 8, 2-5-4 Sarugaku-cho, Chiyoda-ku, T...   \n",
       "28                175 Fifth Avenue, New York, NY 10010   \n",
       "47                175 Fifth Avenue, New York, NY 10010   \n",
       "52               375 Hudson Street, New York, NY 10014   \n",
       "71   Oga Bldg. 8, 2-5-4 Sarugaku-cho, Chiyoda-ku, T...   \n",
       "76                175 Fifth Avenue, New York, NY 10010   \n",
       "95                175 Fifth Avenue, New York, NY 10010   \n",
       "100              375 Hudson Street, New York, NY 10014   \n",
       "119  Oga Bldg. 8, 2-5-4 Sarugaku-cho, Chiyoda-ku, T...   \n",
       "124               175 Fifth Avenue, New York, NY 10010   \n",
       "143               175 Fifth Avenue, New York, NY 10010   \n",
       "148              375 Hudson Street, New York, NY 10014   \n",
       "167  Oga Bldg. 8, 2-5-4 Sarugaku-cho, Chiyoda-ku, T...   \n",
       "172               175 Fifth Avenue, New York, NY 10010   \n",
       "191               175 Fifth Avenue, New York, NY 10010   \n",
       "\n",
       "    publisher_PublisherPhone  book_copies_No_Of_Copies book_loans_DateOut  \\\n",
       "4               212-366-2000                         5         2018-01-12   \n",
       "23           +81-3-5577-6507                         5         2018-01-15   \n",
       "28              646-307-5745                         5         2018-01-15   \n",
       "47              646-307-5745                         5         2018-01-03   \n",
       "52              212-366-2000                         5         2018-01-12   \n",
       "71           +81-3-5577-6507                         5         2018-01-15   \n",
       "76              646-307-5745                         5         2018-01-15   \n",
       "95              646-307-5745                         5         2018-01-03   \n",
       "100             212-366-2000                         5         2018-01-12   \n",
       "119          +81-3-5577-6507                         5         2018-01-15   \n",
       "124             646-307-5745                         5         2018-01-15   \n",
       "143             646-307-5745                         5         2018-01-03   \n",
       "148             212-366-2000                         5         2018-01-12   \n",
       "167          +81-3-5577-6507                         5         2018-01-15   \n",
       "172             646-307-5745                         5         2018-01-15   \n",
       "191             646-307-5745                         5         2018-01-03   \n",
       "\n",
       "    book_loans_DueDate               library_branch_BranchAddress  \\\n",
       "4           2018-02-12         32 Corner Road, New York, NY 10012   \n",
       "23          2018-02-15         32 Corner Road, New York, NY 10012   \n",
       "28          2018-02-15         32 Corner Road, New York, NY 10012   \n",
       "47          2018-02-03         32 Corner Road, New York, NY 10012   \n",
       "52          2018-02-12         491 3rd Street, New York, NY 10014   \n",
       "71          2018-02-15         491 3rd Street, New York, NY 10014   \n",
       "76          2018-02-15         491 3rd Street, New York, NY 10014   \n",
       "95          2018-02-03         491 3rd Street, New York, NY 10014   \n",
       "100         2018-02-12          40 State Street, Saline, MI 48176   \n",
       "119         2018-02-15          40 State Street, Saline, MI 48176   \n",
       "124         2018-02-15          40 State Street, Saline, MI 48176   \n",
       "143         2018-02-03          40 State Street, Saline, MI 48176   \n",
       "148         2018-02-12  101 South University, Ann Arbor, MI 48104   \n",
       "167         2018-02-15  101 South University, Ann Arbor, MI 48104   \n",
       "172         2018-02-15  101 South University, Ann Arbor, MI 48104   \n",
       "191         2018-02-03  101 South University, Ann Arbor, MI 48104   \n",
       "\n",
       "    library_branch_BranchName borrower_BorrowerName  \\\n",
       "4                  Sharpstown                Tom Li   \n",
       "23                 Sharpstown       Angela Thompson   \n",
       "28                 Sharpstown       Angela Thompson   \n",
       "47                 Sharpstown       Angela Thompson   \n",
       "52                    Central                Tom Li   \n",
       "71                    Central       Angela Thompson   \n",
       "76                    Central       Angela Thompson   \n",
       "95                    Central       Angela Thompson   \n",
       "100                    Saline                Tom Li   \n",
       "119                    Saline       Angela Thompson   \n",
       "124                    Saline       Angela Thompson   \n",
       "143                    Saline       Angela Thompson   \n",
       "148                 Ann Arbor                Tom Li   \n",
       "167                 Ann Arbor       Angela Thompson   \n",
       "172                 Ann Arbor       Angela Thompson   \n",
       "191                 Ann Arbor       Angela Thompson   \n",
       "\n",
       "                   borrower_BorrowerAddress borrower_BorrowerPhone  \n",
       "4      981 Main Street, Ann Arbor, MI 48104           734-902-7455  \n",
       "23   2212 Green Avenue, Ann Arbor, MI 48104           313-591-2122  \n",
       "28   2212 Green Avenue, Ann Arbor, MI 48104           313-591-2122  \n",
       "47   2212 Green Avenue, Ann Arbor, MI 48104           313-591-2122  \n",
       "52     981 Main Street, Ann Arbor, MI 48104           734-902-7455  \n",
       "71   2212 Green Avenue, Ann Arbor, MI 48104           313-591-2122  \n",
       "76   2212 Green Avenue, Ann Arbor, MI 48104           313-591-2122  \n",
       "95   2212 Green Avenue, Ann Arbor, MI 48104           313-591-2122  \n",
       "100    981 Main Street, Ann Arbor, MI 48104           734-902-7455  \n",
       "119  2212 Green Avenue, Ann Arbor, MI 48104           313-591-2122  \n",
       "124  2212 Green Avenue, Ann Arbor, MI 48104           313-591-2122  \n",
       "143  2212 Green Avenue, Ann Arbor, MI 48104           313-591-2122  \n",
       "148    981 Main Street, Ann Arbor, MI 48104           734-902-7455  \n",
       "167  2212 Green Avenue, Ann Arbor, MI 48104           313-591-2122  \n",
       "172  2212 Green Avenue, Ann Arbor, MI 48104           313-591-2122  \n",
       "191  2212 Green Avenue, Ann Arbor, MI 48104           313-591-2122  "
      ]
     },
     "execution_count": 22,
     "metadata": {},
     "output_type": "execute_result"
    }
   ],
   "source": [
    "df.loc[df.duplicated(), :]"
   ]
  },
  {
   "attachments": {},
   "cell_type": "markdown",
   "metadata": {},
   "source": [
    "remove duplicates"
   ]
  },
  {
   "cell_type": "code",
   "execution_count": 24,
   "metadata": {},
   "outputs": [],
   "source": [
    "df.drop_duplicates(inplace=True)"
   ]
  },
  {
   "attachments": {},
   "cell_type": "markdown",
   "metadata": {},
   "source": [
    "last Check for duplicates and null values"
   ]
  },
  {
   "cell_type": "code",
   "execution_count": 25,
   "metadata": {},
   "outputs": [
    {
     "data": {
      "text/plain": [
       "0"
      ]
     },
     "execution_count": 25,
     "metadata": {},
     "output_type": "execute_result"
    }
   ],
   "source": [
    "df.duplicated().sum()"
   ]
  },
  {
   "attachments": {},
   "cell_type": "markdown",
   "metadata": {},
   "source": [
    "fill empty cells data sets that have 'Not Available' value"
   ]
  },
  {
   "cell_type": "code",
   "execution_count": 99,
   "metadata": {},
   "outputs": [
    {
     "data": {
      "text/plain": [
       "0      375 Hudson Street, New York, NY 10014\n",
       "1      375 Hudson Street, New York, NY 10014\n",
       "2      375 Hudson Street, New York, NY 10014\n",
       "3      375 Hudson Street, New York, NY 10014\n",
       "4      375 Hudson Street, New York, NY 10014\n",
       "                       ...                  \n",
       "187    375 Hudson Street, New York, NY 10014\n",
       "188    375 Hudson Street, New York, NY 10014\n",
       "189     175 Fifth Avenue, New York, NY 10010\n",
       "190     175 Fifth Avenue, New York, NY 10010\n",
       "191     175 Fifth Avenue, New York, NY 10010\n",
       "Name: publisher_PublisherAddress, Length: 192, dtype: object"
      ]
     },
     "execution_count": 99,
     "metadata": {},
     "output_type": "execute_result"
    }
   ],
   "source": [
    "df['publisher_PublisherAddress'].replace('Not Available\t',' 375 Hudson Street, New York, NY 10014')"
   ]
  },
  {
   "cell_type": "code",
   "execution_count": 101,
   "metadata": {},
   "outputs": [
    {
     "data": {
      "text/plain": [
       "0      212-366-2000\n",
       "1      212-366-2000\n",
       "2      212-366-2000\n",
       "3      212-366-2000\n",
       "4      212-366-2000\n",
       "           ...     \n",
       "187    212-366-2000\n",
       "188    212-366-2000\n",
       "189    646-307-5745\n",
       "190    646-307-5745\n",
       "191    646-307-5745\n",
       "Name: publisher_PublisherPhone, Length: 192, dtype: object"
      ]
     },
     "execution_count": 101,
     "metadata": {},
     "output_type": "execute_result"
    }
   ],
   "source": [
    "df['publisher_PublisherPhone'].replace('Not Available\t',' 12-366-2000')"
   ]
  },
  {
   "cell_type": "code",
   "execution_count": 26,
   "metadata": {},
   "outputs": [
    {
     "data": {
      "text/plain": [
       "book_Title                      0\n",
       "book_PublisherName              0\n",
       "book_authors_AuthorName         0\n",
       "publisher_PublisherAddress      0\n",
       "publisher_PublisherPhone        0\n",
       "book_copies_No_Of_Copies        0\n",
       "book_loans_DateOut              0\n",
       "book_loans_DueDate              0\n",
       "library_branch_BranchAddress    0\n",
       "library_branch_BranchName       0\n",
       "borrower_BorrowerName           0\n",
       "borrower_BorrowerAddress        0\n",
       "borrower_BorrowerPhone          0\n",
       "dtype: int64"
      ]
     },
     "execution_count": 26,
     "metadata": {},
     "output_type": "execute_result"
    }
   ],
   "source": [
    "df.isnull().sum()"
   ]
  },
  {
   "attachments": {},
   "cell_type": "markdown",
   "metadata": {},
   "source": [
    "Explority Data Analysis Phase(EDA)"
   ]
  },
  {
   "cell_type": "code",
   "execution_count": 36,
   "metadata": {},
   "outputs": [
    {
     "data": {
      "text/html": [
       "<div>\n",
       "<style scoped>\n",
       "    .dataframe tbody tr th:only-of-type {\n",
       "        vertical-align: middle;\n",
       "    }\n",
       "\n",
       "    .dataframe tbody tr th {\n",
       "        vertical-align: top;\n",
       "    }\n",
       "\n",
       "    .dataframe thead th {\n",
       "        text-align: right;\n",
       "    }\n",
       "</style>\n",
       "<table border=\"1\" class=\"dataframe\">\n",
       "  <thead>\n",
       "    <tr style=\"text-align: right;\">\n",
       "      <th></th>\n",
       "      <th>book_Title</th>\n",
       "      <th>book_PublisherName</th>\n",
       "      <th>book_authors_AuthorName</th>\n",
       "      <th>publisher_PublisherAddress</th>\n",
       "      <th>publisher_PublisherPhone</th>\n",
       "      <th>book_copies_No_Of_Copies</th>\n",
       "      <th>book_loans_DateOut</th>\n",
       "      <th>book_loans_DueDate</th>\n",
       "      <th>library_branch_BranchAddress</th>\n",
       "      <th>library_branch_BranchName</th>\n",
       "      <th>borrower_BorrowerName</th>\n",
       "      <th>borrower_BorrowerAddress</th>\n",
       "      <th>borrower_BorrowerPhone</th>\n",
       "    </tr>\n",
       "  </thead>\n",
       "  <tbody>\n",
       "    <tr>\n",
       "      <th>0</th>\n",
       "      <td>The Name of the Wind</td>\n",
       "      <td>DAW Books</td>\n",
       "      <td>Patrick Rothfuss</td>\n",
       "      <td>375 Hudson Street, New York, NY 10014</td>\n",
       "      <td>212-366-2000</td>\n",
       "      <td>5</td>\n",
       "      <td>2018-01-01</td>\n",
       "      <td>2018-02-02</td>\n",
       "      <td>32 Corner Road, New York, NY 10012</td>\n",
       "      <td>Sharpstown</td>\n",
       "      <td>Joe Smith</td>\n",
       "      <td>1321 4th Street, New York, NY 10014</td>\n",
       "      <td>212-312-1234</td>\n",
       "    </tr>\n",
       "    <tr>\n",
       "      <th>1</th>\n",
       "      <td>The Name of the Wind</td>\n",
       "      <td>DAW Books</td>\n",
       "      <td>Patrick Rothfuss</td>\n",
       "      <td>375 Hudson Street, New York, NY 10014</td>\n",
       "      <td>212-366-2000</td>\n",
       "      <td>5</td>\n",
       "      <td>2018-01-07</td>\n",
       "      <td>2018-02-07</td>\n",
       "      <td>32 Corner Road, New York, NY 10012</td>\n",
       "      <td>Sharpstown</td>\n",
       "      <td>Haley Jackson</td>\n",
       "      <td>231 52nd Avenue New York, NY 10014</td>\n",
       "      <td>212-419-9935</td>\n",
       "    </tr>\n",
       "    <tr>\n",
       "      <th>2</th>\n",
       "      <td>The Name of the Wind</td>\n",
       "      <td>DAW Books</td>\n",
       "      <td>Patrick Rothfuss</td>\n",
       "      <td>375 Hudson Street, New York, NY 10014</td>\n",
       "      <td>212-366-2000</td>\n",
       "      <td>5</td>\n",
       "      <td>2018-01-12</td>\n",
       "      <td>2018-02-12</td>\n",
       "      <td>32 Corner Road, New York, NY 10012</td>\n",
       "      <td>Sharpstown</td>\n",
       "      <td>Tom Li</td>\n",
       "      <td>981 Main Street, Ann Arbor, MI 48104</td>\n",
       "      <td>734-902-7455</td>\n",
       "    </tr>\n",
       "    <tr>\n",
       "      <th>3</th>\n",
       "      <td>The Name of the Wind</td>\n",
       "      <td>DAW Books</td>\n",
       "      <td>Patrick Rothfuss</td>\n",
       "      <td>375 Hudson Street, New York, NY 10014</td>\n",
       "      <td>212-366-2000</td>\n",
       "      <td>5</td>\n",
       "      <td>2017-02-02</td>\n",
       "      <td>2018-03-02</td>\n",
       "      <td>32 Corner Road, New York, NY 10012</td>\n",
       "      <td>Sharpstown</td>\n",
       "      <td>Angela Thompson</td>\n",
       "      <td>2212 Green Avenue, Ann Arbor, MI 48104</td>\n",
       "      <td>313-591-2122</td>\n",
       "    </tr>\n",
       "    <tr>\n",
       "      <th>5</th>\n",
       "      <td>The Name of the Wind</td>\n",
       "      <td>DAW Books</td>\n",
       "      <td>Patrick Rothfuss</td>\n",
       "      <td>375 Hudson Street, New York, NY 10014</td>\n",
       "      <td>212-366-2000</td>\n",
       "      <td>5</td>\n",
       "      <td>2018-01-22</td>\n",
       "      <td>2018-02-22</td>\n",
       "      <td>32 Corner Road, New York, NY 10012</td>\n",
       "      <td>Sharpstown</td>\n",
       "      <td>Angela Thompson</td>\n",
       "      <td>2212 Green Avenue, Ann Arbor, MI 48104</td>\n",
       "      <td>313-591-2122</td>\n",
       "    </tr>\n",
       "  </tbody>\n",
       "</table>\n",
       "</div>"
      ],
      "text/plain": [
       "             book_Title book_PublisherName book_authors_AuthorName  \\\n",
       "0  The Name of the Wind          DAW Books        Patrick Rothfuss   \n",
       "1  The Name of the Wind          DAW Books        Patrick Rothfuss   \n",
       "2  The Name of the Wind          DAW Books        Patrick Rothfuss   \n",
       "3  The Name of the Wind          DAW Books        Patrick Rothfuss   \n",
       "5  The Name of the Wind          DAW Books        Patrick Rothfuss   \n",
       "\n",
       "              publisher_PublisherAddress publisher_PublisherPhone  \\\n",
       "0  375 Hudson Street, New York, NY 10014             212-366-2000   \n",
       "1  375 Hudson Street, New York, NY 10014             212-366-2000   \n",
       "2  375 Hudson Street, New York, NY 10014             212-366-2000   \n",
       "3  375 Hudson Street, New York, NY 10014             212-366-2000   \n",
       "5  375 Hudson Street, New York, NY 10014             212-366-2000   \n",
       "\n",
       "   book_copies_No_Of_Copies book_loans_DateOut book_loans_DueDate  \\\n",
       "0                         5         2018-01-01         2018-02-02   \n",
       "1                         5         2018-01-07         2018-02-07   \n",
       "2                         5         2018-01-12         2018-02-12   \n",
       "3                         5         2017-02-02         2018-03-02   \n",
       "5                         5         2018-01-22         2018-02-22   \n",
       "\n",
       "         library_branch_BranchAddress library_branch_BranchName  \\\n",
       "0  32 Corner Road, New York, NY 10012                Sharpstown   \n",
       "1  32 Corner Road, New York, NY 10012                Sharpstown   \n",
       "2  32 Corner Road, New York, NY 10012                Sharpstown   \n",
       "3  32 Corner Road, New York, NY 10012                Sharpstown   \n",
       "5  32 Corner Road, New York, NY 10012                Sharpstown   \n",
       "\n",
       "  borrower_BorrowerName                borrower_BorrowerAddress  \\\n",
       "0             Joe Smith     1321 4th Street, New York, NY 10014   \n",
       "1         Haley Jackson      231 52nd Avenue New York, NY 10014   \n",
       "2                Tom Li    981 Main Street, Ann Arbor, MI 48104   \n",
       "3       Angela Thompson  2212 Green Avenue, Ann Arbor, MI 48104   \n",
       "5       Angela Thompson  2212 Green Avenue, Ann Arbor, MI 48104   \n",
       "\n",
       "  borrower_BorrowerPhone  \n",
       "0           212-312-1234  \n",
       "1           212-419-9935  \n",
       "2           734-902-7455  \n",
       "3           313-591-2122  \n",
       "5           313-591-2122  "
      ]
     },
     "execution_count": 36,
     "metadata": {},
     "output_type": "execute_result"
    }
   ],
   "source": [
    "df.head(5)"
   ]
  },
  {
   "cell_type": "code",
   "execution_count": 6,
   "metadata": {},
   "outputs": [
    {
     "data": {
      "text/plain": [
       "191    The Lost Tribe\n",
       "Name: book_Title, dtype: object"
      ]
     },
     "execution_count": 6,
     "metadata": {},
     "output_type": "execute_result"
    }
   ],
   "source": [
    "# what is more book have NO of copies\n",
    "max_copies=df['book_copies_No_Of_Copies'].max()\n",
    "df[df['book_copies_No_Of_Copies']==max_copies]['book_Title']"
   ]
  },
  {
   "cell_type": "code",
   "execution_count": 7,
   "metadata": {},
   "outputs": [
    {
     "data": {
      "text/plain": [
       "0    The Name of the Wind\n",
       "Name: book_Title, dtype: object"
      ]
     },
     "execution_count": 7,
     "metadata": {},
     "output_type": "execute_result"
    }
   ],
   "source": [
    "# what is less book have NO of copies\n",
    "min_copies=df['book_copies_No_Of_Copies'].min()\n",
    "df[df['book_copies_No_Of_Copies']==min_copies]['book_Title']"
   ]
  },
  {
   "cell_type": "code",
   "execution_count": 15,
   "metadata": {},
   "outputs": [
    {
     "data": {
      "text/plain": [
       "191    Picador USA\n",
       "Name: book_PublisherName, dtype: object"
      ]
     },
     "execution_count": 15,
     "metadata": {},
     "output_type": "execute_result"
    }
   ],
   "source": [
    "# what is more puplisher have NO of copies for book\n",
    "max_puplisher=df['book_copies_No_Of_Copies'].max()\n",
    "df[df['book_copies_No_Of_Copies']==max_puplisher]['book_PublisherName']"
   ]
  },
  {
   "cell_type": "code",
   "execution_count": 18,
   "metadata": {},
   "outputs": [
    {
     "data": {
      "text/plain": [
       "The Name of the Wind                               24\n",
       "Dune                                               16\n",
       "The Hitchhikers Guide to the Galaxy                16\n",
       "The Green Mile                                     16\n",
       "Hard Boiled Wonderland and The End of the World    12\n",
       "Name: book_Title, dtype: int64"
      ]
     },
     "execution_count": 18,
     "metadata": {},
     "output_type": "execute_result"
    }
   ],
   "source": [
    "# top 5 books\n",
    "df['book_Title'].value_counts().head(5)"
   ]
  },
  {
   "cell_type": "code",
   "execution_count": 19,
   "metadata": {},
   "outputs": [
    {
     "data": {
      "text/plain": [
       "Harry Potter and the Philosophers Stone     4\n",
       "The Giving Tree                             4\n",
       "Fight Club                                  4\n",
       "Harry Potter and the Chamber of Secrets     4\n",
       "Harry Potter and the Prisoner of Azkaban    4\n",
       "Name: book_Title, dtype: int64"
      ]
     },
     "execution_count": 19,
     "metadata": {},
     "output_type": "execute_result"
    }
   ],
   "source": [
    "# buttom 5 books\n",
    "df['book_Title'].value_counts().tail(5)"
   ]
  },
  {
   "cell_type": "code",
   "execution_count": 21,
   "metadata": {},
   "outputs": [
    {
     "data": {
      "text/plain": [
       "191    Mark Lee\n",
       "Name: book_authors_AuthorName, dtype: object"
      ]
     },
     "execution_count": 21,
     "metadata": {},
     "output_type": "execute_result"
    }
   ],
   "source": [
    "# what is more author have NO of copies for a book\n",
    "max_copies_authorr=df['book_copies_No_Of_Copies'].max()\n",
    "df[df['book_copies_No_Of_Copies']==max_copies_authorr]['book_authors_AuthorName']"
   ]
  },
  {
   "cell_type": "code",
   "execution_count": 23,
   "metadata": {},
   "outputs": [
    {
     "data": {
      "text/plain": [
       "0    Patrick Rothfuss\n",
       "Name: book_authors_AuthorName, dtype: object"
      ]
     },
     "execution_count": 23,
     "metadata": {},
     "output_type": "execute_result"
    }
   ],
   "source": [
    "# what is less author have NO of copies for a book\n",
    "min_copies_authorr=df['book_copies_No_Of_Copies'].min()\n",
    "df[df['book_copies_No_Of_Copies']==min_copies_authorr]['book_authors_AuthorName']"
   ]
  },
  {
   "cell_type": "code",
   "execution_count": 32,
   "metadata": {},
   "outputs": [
    {
     "name": "stderr",
     "output_type": "stream",
     "text": [
      "C:\\Users\\AS\\AppData\\Local\\Temp\\ipykernel_17196\\898471946.py:1: FutureWarning: The default value of numeric_only in DataFrameGroupBy.mean is deprecated. In a future version, numeric_only will default to False. Either specify numeric_only or select only columns which should be valid for the function.\n",
      "  round(df.groupby('book_loans_DateOut').mean()['book_copies_No_Of_Copies'],0)\n"
     ]
    },
    {
     "data": {
      "text/plain": [
       "book_loans_DateOut\n",
       "1/1/18       81.0\n",
       "1/12/18      76.0\n",
       "1/13/18      99.0\n",
       "1/14/18     104.0\n",
       "1/15/18      98.0\n",
       "1/19/18      88.0\n",
       "1/22/18      78.0\n",
       "1/3/18      104.0\n",
       "1/4/18      103.0\n",
       "1/5/18      114.0\n",
       "1/7/18       84.0\n",
       "1/9/18       86.0\n",
       "12/12/17    102.0\n",
       "2/2/17       76.0\n",
       "2/3/18      118.0\n",
       "Name: book_copies_No_Of_Copies, dtype: float64"
      ]
     },
     "execution_count": 32,
     "metadata": {},
     "output_type": "execute_result"
    }
   ],
   "source": [
    "round(df.groupby('book_loans_DateOut').mean()['book_copies_No_Of_Copies'],0)"
   ]
  },
  {
   "cell_type": "code",
   "execution_count": 28,
   "metadata": {},
   "outputs": [
    {
     "data": {
      "text/html": [
       "<div>\n",
       "<style scoped>\n",
       "    .dataframe tbody tr th:only-of-type {\n",
       "        vertical-align: middle;\n",
       "    }\n",
       "\n",
       "    .dataframe tbody tr th {\n",
       "        vertical-align: top;\n",
       "    }\n",
       "\n",
       "    .dataframe thead th {\n",
       "        text-align: right;\n",
       "    }\n",
       "</style>\n",
       "<table border=\"1\" class=\"dataframe\">\n",
       "  <thead>\n",
       "    <tr style=\"text-align: right;\">\n",
       "      <th></th>\n",
       "      <th>book_Title</th>\n",
       "      <th>book_PublisherName</th>\n",
       "      <th>book_authors_AuthorName</th>\n",
       "      <th>publisher_PublisherAddress</th>\n",
       "      <th>publisher_PublisherPhone</th>\n",
       "      <th>book_copies_No_Of_Copies</th>\n",
       "      <th>book_loans_DateOut</th>\n",
       "      <th>book_loans_DueDate</th>\n",
       "      <th>library_branch_BranchAddress</th>\n",
       "      <th>library_branch_BranchName</th>\n",
       "      <th>borrower_BorrowerName</th>\n",
       "      <th>borrower_BorrowerAddress</th>\n",
       "      <th>borrower_BorrowerPhone</th>\n",
       "    </tr>\n",
       "  </thead>\n",
       "  <tbody>\n",
       "    <tr>\n",
       "      <th>36</th>\n",
       "      <td>Holes</td>\n",
       "      <td>Scholastic</td>\n",
       "      <td>Louis Sachar</td>\n",
       "      <td>557 Broadway, New York, NY 10012</td>\n",
       "      <td>800-724-6527</td>\n",
       "      <td>37</td>\n",
       "      <td>1/3/18</td>\n",
       "      <td>2/3/18</td>\n",
       "      <td>32 Corner Road, New York, NY 10012</td>\n",
       "      <td>Sharpstown</td>\n",
       "      <td>Michael Horford</td>\n",
       "      <td>653 Glen Avenue, Ann Arbor, MI 48104</td>\n",
       "      <td>734-998-1513</td>\n",
       "    </tr>\n",
       "    <tr>\n",
       "      <th>127</th>\n",
       "      <td>Brave New World</td>\n",
       "      <td>Chalto &amp; Windus</td>\n",
       "      <td>Aldous Huxley</td>\n",
       "      <td>375 Hudson Street, New York, NY 10014</td>\n",
       "      <td>212-366-2000</td>\n",
       "      <td>128</td>\n",
       "      <td>1/14/18</td>\n",
       "      <td>2/14/18</td>\n",
       "      <td>40 State Street, Saline, MI 48176</td>\n",
       "      <td>Saline</td>\n",
       "      <td>Tom Li</td>\n",
       "      <td>981 Main Street, Ann Arbor, MI 48104</td>\n",
       "      <td>734-902-7455</td>\n",
       "    </tr>\n",
       "    <tr>\n",
       "      <th>60</th>\n",
       "      <td>Dune</td>\n",
       "      <td>Chilton Books</td>\n",
       "      <td>Frank Herbert</td>\n",
       "      <td>Not Available</td>\n",
       "      <td>Not Available</td>\n",
       "      <td>61</td>\n",
       "      <td>1/1/18</td>\n",
       "      <td>2/2/18</td>\n",
       "      <td>491 3rd Street, New York, NY 10014</td>\n",
       "      <td>Central</td>\n",
       "      <td>Joe Smith</td>\n",
       "      <td>1321 4th Street, New York, NY 10014</td>\n",
       "      <td>212-312-1234</td>\n",
       "    </tr>\n",
       "    <tr>\n",
       "      <th>100</th>\n",
       "      <td>The Name of the Wind</td>\n",
       "      <td>DAW Books</td>\n",
       "      <td>Patrick Rothfuss</td>\n",
       "      <td>375 Hudson Street, New York, NY 10014</td>\n",
       "      <td>212-366-2000</td>\n",
       "      <td>101</td>\n",
       "      <td>1/12/18</td>\n",
       "      <td>2/12/18</td>\n",
       "      <td>40 State Street, Saline, MI 48176</td>\n",
       "      <td>Saline</td>\n",
       "      <td>Tom Li</td>\n",
       "      <td>981 Main Street, Ann Arbor, MI 48104</td>\n",
       "      <td>734-902-7455</td>\n",
       "    </tr>\n",
       "  </tbody>\n",
       "</table>\n",
       "</div>"
      ],
      "text/plain": [
       "               book_Title book_PublisherName book_authors_AuthorName  \\\n",
       "36                  Holes         Scholastic            Louis Sachar   \n",
       "127       Brave New World    Chalto & Windus           Aldous Huxley   \n",
       "60                   Dune      Chilton Books           Frank Herbert   \n",
       "100  The Name of the Wind          DAW Books        Patrick Rothfuss   \n",
       "\n",
       "                publisher_PublisherAddress publisher_PublisherPhone  \\\n",
       "36        557 Broadway, New York, NY 10012             800-724-6527   \n",
       "127  375 Hudson Street, New York, NY 10014             212-366-2000   \n",
       "60                           Not Available            Not Available   \n",
       "100  375 Hudson Street, New York, NY 10014             212-366-2000   \n",
       "\n",
       "     book_copies_No_Of_Copies book_loans_DateOut book_loans_DueDate  \\\n",
       "36                         37             1/3/18             2/3/18   \n",
       "127                       128            1/14/18            2/14/18   \n",
       "60                         61             1/1/18             2/2/18   \n",
       "100                       101            1/12/18            2/12/18   \n",
       "\n",
       "           library_branch_BranchAddress library_branch_BranchName  \\\n",
       "36   32 Corner Road, New York, NY 10012                Sharpstown   \n",
       "127   40 State Street, Saline, MI 48176                    Saline   \n",
       "60   491 3rd Street, New York, NY 10014                   Central   \n",
       "100   40 State Street, Saline, MI 48176                    Saline   \n",
       "\n",
       "    borrower_BorrowerName              borrower_BorrowerAddress  \\\n",
       "36        Michael Horford  653 Glen Avenue, Ann Arbor, MI 48104   \n",
       "127                Tom Li  981 Main Street, Ann Arbor, MI 48104   \n",
       "60              Joe Smith   1321 4th Street, New York, NY 10014   \n",
       "100                Tom Li  981 Main Street, Ann Arbor, MI 48104   \n",
       "\n",
       "    borrower_BorrowerPhone  \n",
       "36            734-998-1513  \n",
       "127           734-902-7455  \n",
       "60            212-312-1234  \n",
       "100           734-902-7455  "
      ]
     },
     "execution_count": 28,
     "metadata": {},
     "output_type": "execute_result"
    }
   ],
   "source": [
    "df.sample(4)"
   ]
  },
  {
   "cell_type": "code",
   "execution_count": 30,
   "metadata": {},
   "outputs": [
    {
     "data": {
      "text/plain": [
       "Tom Li             52\n",
       "Angela Thompson    44\n",
       "Name: borrower_BorrowerName, dtype: int64"
      ]
     },
     "execution_count": 30,
     "metadata": {},
     "output_type": "execute_result"
    }
   ],
   "source": [
    "# top 2 borrowers\n",
    "df['borrower_BorrowerName'].value_counts().head(2)"
   ]
  },
  {
   "cell_type": "code",
   "execution_count": 33,
   "metadata": {},
   "outputs": [
    {
     "data": {
      "text/plain": [
       "Harry Emnace     12\n",
       "Haley Jackson     8\n",
       "Name: borrower_BorrowerName, dtype: int64"
      ]
     },
     "execution_count": 33,
     "metadata": {},
     "output_type": "execute_result"
    }
   ],
   "source": [
    "# buttom 2 borrowers\n",
    "df['borrower_BorrowerName'].value_counts().tail(2)"
   ]
  },
  {
   "cell_type": "code",
   "execution_count": 34,
   "metadata": {},
   "outputs": [
    {
     "data": {
      "text/plain": [
       "981 Main Street, Ann Arbor, MI 48104      52\n",
       "2212 Green Avenue, Ann Arbor, MI 48104    44\n",
       "Name: borrower_BorrowerAddress, dtype: int64"
      ]
     },
     "execution_count": 34,
     "metadata": {},
     "output_type": "execute_result"
    }
   ],
   "source": [
    "# top 2 borrowers\n",
    "df['borrower_BorrowerAddress'].value_counts().head(2)"
   ]
  },
  {
   "cell_type": "code",
   "execution_count": 39,
   "metadata": {},
   "outputs": [
    {
     "data": {
      "text/plain": [
       "Sharpstown    48\n",
       "Central       48\n",
       "Name: library_branch_BranchName, dtype: int64"
      ]
     },
     "execution_count": 39,
     "metadata": {},
     "output_type": "execute_result"
    }
   ],
   "source": [
    "# top 2 brnches\n",
    "df['library_branch_BranchName'].value_counts().head(2)"
   ]
  },
  {
   "cell_type": "code",
   "execution_count": 40,
   "metadata": {},
   "outputs": [
    {
     "data": {
      "text/plain": [
       "Saline       48\n",
       "Ann Arbor    48\n",
       "Name: library_branch_BranchName, dtype: int64"
      ]
     },
     "execution_count": 40,
     "metadata": {},
     "output_type": "execute_result"
    }
   ],
   "source": [
    "# buttom 2 brnches\n",
    "df['library_branch_BranchName'].value_counts().tail(2)"
   ]
  },
  {
   "cell_type": "code",
   "execution_count": 37,
   "metadata": {},
   "outputs": [
    {
     "data": {
      "text/plain": [
       "32 Corner Road, New York, NY 10012    48\n",
       "491 3rd Street, New York, NY 10014    48\n",
       "Name: library_branch_BranchAddress, dtype: int64"
      ]
     },
     "execution_count": 37,
     "metadata": {},
     "output_type": "execute_result"
    }
   ],
   "source": [
    "# top 2 brnchesaddress\n",
    "df['library_branch_BranchAddress'].value_counts().head(2)"
   ]
  },
  {
   "cell_type": "code",
   "execution_count": 38,
   "metadata": {},
   "outputs": [
    {
     "data": {
      "text/plain": [
       "Saline       48\n",
       "Ann Arbor    48\n",
       "Name: library_branch_BranchName, dtype: int64"
      ]
     },
     "execution_count": 38,
     "metadata": {},
     "output_type": "execute_result"
    }
   ],
   "source": [
    "# buttom 2 brnchesaddress\n",
    "df['library_branch_BranchName'].value_counts().tail(2)"
   ]
  },
  {
   "cell_type": "code",
   "execution_count": 42,
   "metadata": {},
   "outputs": [
    {
     "data": {
      "text/plain": [
       "Shel Silverstein    4\n",
       "Chuck Palahniuk     4\n",
       "Name: book_authors_AuthorName, dtype: int64"
      ]
     },
     "execution_count": 42,
     "metadata": {},
     "output_type": "execute_result"
    }
   ],
   "source": [
    "# buttom 2 authors\n",
    "df['book_authors_AuthorName'].value_counts().tail(2)"
   ]
  },
  {
   "cell_type": "code",
   "execution_count": 43,
   "metadata": {},
   "outputs": [
    {
     "data": {
      "text/plain": [
       "Sharpstown    48\n",
       "Central       48\n",
       "Name: library_branch_BranchName, dtype: int64"
      ]
     },
     "execution_count": 43,
     "metadata": {},
     "output_type": "execute_result"
    }
   ],
   "source": [
    "# top 2 authors\n",
    "df['library_branch_BranchName'].value_counts().head(2)"
   ]
  },
  {
   "attachments": {},
   "cell_type": "markdown",
   "metadata": {},
   "source": [
    "get more explority for the columns"
   ]
  },
  {
   "cell_type": "code",
   "execution_count": 55,
   "metadata": {},
   "outputs": [
    {
     "data": {
      "text/plain": [
       "The Name of the Wind                               24\n",
       "Dune                                               16\n",
       "The Hitchhikers Guide to the Galaxy                16\n",
       "The Green Mile                                     16\n",
       "Hard Boiled Wonderland and The End of the World    12\n",
       "Brave New World                                    12\n",
       "The Fellowship of the Ring                         12\n",
       "A Game of Thrones                                  12\n",
       "The Lost Tribe                                     12\n",
       "The Hobbit                                          8\n",
       "Eragon                                              8\n",
       "It                                                  8\n",
       "The Princess Bride                                  8\n",
       "Holes                                               8\n",
       "Harry Potter and the Philosophers Stone             4\n",
       "The Giving Tree                                     4\n",
       "Fight Club                                          4\n",
       "Harry Potter and the Chamber of Secrets             4\n",
       "Harry Potter and the Prisoner of Azkaban            4\n",
       "Name: book_Title, dtype: int64"
      ]
     },
     "execution_count": 55,
     "metadata": {},
     "output_type": "execute_result"
    }
   ],
   "source": [
    "df['book_Title'].value_counts()"
   ]
  },
  {
   "cell_type": "code",
   "execution_count": 56,
   "metadata": {},
   "outputs": [
    {
     "data": {
      "text/plain": [
       "array(['The Name of the Wind', 'It', 'The Green Mile', 'Dune',\n",
       "       'The Hobbit', 'Eragon', 'Harry Potter and the Philosophers Stone',\n",
       "       'Hard Boiled Wonderland and The End of the World',\n",
       "       'The Giving Tree', 'The Hitchhikers Guide to the Galaxy',\n",
       "       'Brave New World', 'The Princess Bride', 'Fight Club', 'Holes',\n",
       "       'Harry Potter and the Chamber of Secrets',\n",
       "       'Harry Potter and the Prisoner of Azkaban',\n",
       "       'The Fellowship of the Ring', 'A Game of Thrones',\n",
       "       'The Lost Tribe'], dtype=object)"
      ]
     },
     "execution_count": 56,
     "metadata": {},
     "output_type": "execute_result"
    }
   ],
   "source": [
    "df['book_Title'].unique()"
   ]
  },
  {
   "cell_type": "code",
   "execution_count": 57,
   "metadata": {},
   "outputs": [
    {
     "data": {
      "text/plain": [
       "19"
      ]
     },
     "execution_count": 57,
     "metadata": {},
     "output_type": "execute_result"
    }
   ],
   "source": [
    "df['book_Title'].nunique()"
   ]
  },
  {
   "cell_type": "code",
   "execution_count": 59,
   "metadata": {},
   "outputs": [
    {
     "data": {
      "text/plain": [
       "DAW Books                    24\n",
       "George Allen & Unwin         20\n",
       "Signet Books                 16\n",
       "Chilton Books                16\n",
       "Pan Books                    16\n",
       "Bloomsbury                   12\n",
       "Shinchosa                    12\n",
       "Chalto & Windus              12\n",
       "Bantam                       12\n",
       "Picador USA                  12\n",
       "Viking                        8\n",
       "Alfred A. Knopf               8\n",
       "Harcourt Brace Jovanovich     8\n",
       "Scholastic                    8\n",
       "Harper and Row                4\n",
       "W.W. Norton                   4\n",
       "Name: book_PublisherName, dtype: int64"
      ]
     },
     "execution_count": 59,
     "metadata": {},
     "output_type": "execute_result"
    }
   ],
   "source": [
    "df['book_PublisherName'].value_counts()"
   ]
  },
  {
   "cell_type": "code",
   "execution_count": 60,
   "metadata": {},
   "outputs": [
    {
     "data": {
      "text/plain": [
       "16"
      ]
     },
     "execution_count": 60,
     "metadata": {},
     "output_type": "execute_result"
    }
   ],
   "source": [
    "df['book_PublisherName'].nunique()"
   ]
  },
  {
   "cell_type": "code",
   "execution_count": 61,
   "metadata": {},
   "outputs": [
    {
     "data": {
      "text/plain": [
       "array(['DAW Books', 'Viking', 'Signet Books', 'Chilton Books',\n",
       "       'George Allen & Unwin', 'Alfred A. Knopf', 'Bloomsbury',\n",
       "       'Shinchosa', 'Harper and Row', 'Pan Books', 'Chalto & Windus',\n",
       "       'Harcourt Brace Jovanovich', 'W.W. Norton', 'Scholastic', 'Bantam',\n",
       "       'Picador USA'], dtype=object)"
      ]
     },
     "execution_count": 61,
     "metadata": {},
     "output_type": "execute_result"
    }
   ],
   "source": [
    "df['book_PublisherName'].unique()"
   ]
  },
  {
   "cell_type": "code",
   "execution_count": 62,
   "metadata": {},
   "outputs": [
    {
     "data": {
      "text/plain": [
       "15"
      ]
     },
     "execution_count": 62,
     "metadata": {},
     "output_type": "execute_result"
    }
   ],
   "source": [
    "df['book_authors_AuthorName'].nunique()"
   ]
  },
  {
   "cell_type": "code",
   "execution_count": 63,
   "metadata": {},
   "outputs": [
    {
     "data": {
      "text/plain": [
       "array(['Patrick Rothfuss', 'Stephen King', 'Frank Herbert',\n",
       "       'J.R.R. Tolkien', 'Christopher Paolini', 'J.K. Rowling',\n",
       "       'Haruki Murakami', 'Shel Silverstein', 'Douglas Adams',\n",
       "       'Aldous Huxley', 'William Goldman', 'Chuck Palahniuk',\n",
       "       'Louis Sachar', 'George R.R. Martin', 'Mark Lee'], dtype=object)"
      ]
     },
     "execution_count": 63,
     "metadata": {},
     "output_type": "execute_result"
    }
   ],
   "source": [
    "df['book_authors_AuthorName'].unique()"
   ]
  },
  {
   "cell_type": "code",
   "execution_count": 64,
   "metadata": {},
   "outputs": [
    {
     "data": {
      "text/plain": [
       "Patrick Rothfuss       28\n",
       "Stephen King           24\n",
       "J.R.R. Tolkien         20\n",
       "Frank Herbert          16\n",
       "Douglas Adams          16\n",
       "J.K. Rowling           12\n",
       "Haruki Murakami        12\n",
       "Aldous Huxley          12\n",
       "George R.R. Martin     12\n",
       "Mark Lee               12\n",
       "William Goldman         8\n",
       "Louis Sachar            8\n",
       "Christopher Paolini     4\n",
       "Shel Silverstein        4\n",
       "Chuck Palahniuk         4\n",
       "Name: book_authors_AuthorName, dtype: int64"
      ]
     },
     "execution_count": 64,
     "metadata": {},
     "output_type": "execute_result"
    }
   ],
   "source": [
    "df['book_authors_AuthorName'].value_counts()"
   ]
  },
  {
   "cell_type": "code",
   "execution_count": 65,
   "metadata": {},
   "outputs": [
    {
     "data": {
      "text/plain": [
       "4"
      ]
     },
     "execution_count": 65,
     "metadata": {},
     "output_type": "execute_result"
    }
   ],
   "source": [
    "df['library_branch_BranchName'].nunique()"
   ]
  },
  {
   "cell_type": "code",
   "execution_count": 66,
   "metadata": {},
   "outputs": [
    {
     "data": {
      "text/plain": [
       "array(['Sharpstown', 'Central', 'Saline', 'Ann Arbor'], dtype=object)"
      ]
     },
     "execution_count": 66,
     "metadata": {},
     "output_type": "execute_result"
    }
   ],
   "source": [
    "df['library_branch_BranchName'].unique()"
   ]
  },
  {
   "cell_type": "code",
   "execution_count": 67,
   "metadata": {},
   "outputs": [
    {
     "data": {
      "text/plain": [
       "Sharpstown    48\n",
       "Central       48\n",
       "Saline        48\n",
       "Ann Arbor     48\n",
       "Name: library_branch_BranchName, dtype: int64"
      ]
     },
     "execution_count": 67,
     "metadata": {},
     "output_type": "execute_result"
    }
   ],
   "source": [
    "df['library_branch_BranchName'].value_counts()"
   ]
  },
  {
   "cell_type": "code",
   "execution_count": 68,
   "metadata": {},
   "outputs": [
    {
     "data": {
      "text/plain": [
       "4"
      ]
     },
     "execution_count": 68,
     "metadata": {},
     "output_type": "execute_result"
    }
   ],
   "source": [
    "df['library_branch_BranchAddress'].nunique()"
   ]
  },
  {
   "cell_type": "code",
   "execution_count": 70,
   "metadata": {},
   "outputs": [
    {
     "data": {
      "text/plain": [
       "array(['32 Corner Road, New York, NY 10012',\n",
       "       '491 3rd Street, New York, NY 10014',\n",
       "       '40 State Street, Saline, MI 48176',\n",
       "       '101 South University, Ann Arbor, MI 48104'], dtype=object)"
      ]
     },
     "execution_count": 70,
     "metadata": {},
     "output_type": "execute_result"
    }
   ],
   "source": [
    "df['library_branch_BranchAddress'].unique()"
   ]
  },
  {
   "cell_type": "code",
   "execution_count": 71,
   "metadata": {},
   "outputs": [
    {
     "data": {
      "text/plain": [
       "32 Corner Road, New York, NY 10012           48\n",
       "491 3rd Street, New York, NY 10014           48\n",
       "40 State Street, Saline, MI 48176            48\n",
       "101 South University, Ann Arbor, MI 48104    48\n",
       "Name: library_branch_BranchAddress, dtype: int64"
      ]
     },
     "execution_count": 71,
     "metadata": {},
     "output_type": "execute_result"
    }
   ],
   "source": [
    "df['library_branch_BranchAddress'].value_counts()"
   ]
  },
  {
   "cell_type": "code",
   "execution_count": 72,
   "metadata": {},
   "outputs": [
    {
     "data": {
      "text/plain": [
       "7"
      ]
     },
     "execution_count": 72,
     "metadata": {},
     "output_type": "execute_result"
    }
   ],
   "source": [
    "df['borrower_BorrowerName'].nunique()"
   ]
  },
  {
   "cell_type": "code",
   "execution_count": 73,
   "metadata": {},
   "outputs": [
    {
     "data": {
      "text/plain": [
       "array(['Joe Smith', 'Haley Jackson', 'Tom Li', 'Angela Thompson',\n",
       "       'Michael Horford', 'Tom Haverford', 'Harry Emnace'], dtype=object)"
      ]
     },
     "execution_count": 73,
     "metadata": {},
     "output_type": "execute_result"
    }
   ],
   "source": [
    "df['borrower_BorrowerName'].unique()"
   ]
  },
  {
   "cell_type": "code",
   "execution_count": 74,
   "metadata": {},
   "outputs": [
    {
     "data": {
      "text/plain": [
       "Tom Li             52\n",
       "Angela Thompson    44\n",
       "Joe Smith          28\n",
       "Michael Horford    24\n",
       "Tom Haverford      24\n",
       "Harry Emnace       12\n",
       "Haley Jackson       8\n",
       "Name: borrower_BorrowerName, dtype: int64"
      ]
     },
     "execution_count": 74,
     "metadata": {},
     "output_type": "execute_result"
    }
   ],
   "source": [
    "df['borrower_BorrowerName'].value_counts()"
   ]
  },
  {
   "cell_type": "code",
   "execution_count": 75,
   "metadata": {},
   "outputs": [
    {
     "data": {
      "text/plain": [
       "981 Main Street, Ann Arbor, MI 48104      52\n",
       "2212 Green Avenue, Ann Arbor, MI 48104    44\n",
       "1321 4th Street, New York, NY 10014       28\n",
       "653 Glen Avenue, Ann Arbor, MI 48104      24\n",
       "23 75th Street, New York, NY 10014        24\n",
       "121 Park Drive, Ann Arbor, MI 48104       12\n",
       "231 52nd Avenue New York, NY 10014         8\n",
       "Name: borrower_BorrowerAddress, dtype: int64"
      ]
     },
     "execution_count": 75,
     "metadata": {},
     "output_type": "execute_result"
    }
   ],
   "source": [
    "df['borrower_BorrowerAddress'].value_counts()"
   ]
  },
  {
   "cell_type": "code",
   "execution_count": 76,
   "metadata": {},
   "outputs": [
    {
     "data": {
      "text/plain": [
       "7"
      ]
     },
     "execution_count": 76,
     "metadata": {},
     "output_type": "execute_result"
    }
   ],
   "source": [
    "df['borrower_BorrowerAddress'].nunique()"
   ]
  },
  {
   "cell_type": "code",
   "execution_count": 77,
   "metadata": {},
   "outputs": [
    {
     "data": {
      "text/plain": [
       "array(['1321 4th Street, New York, NY 10014',\n",
       "       '231 52nd Avenue New York, NY 10014',\n",
       "       '981 Main Street, Ann Arbor, MI 48104',\n",
       "       '2212 Green Avenue, Ann Arbor, MI 48104',\n",
       "       '653 Glen Avenue, Ann Arbor, MI 48104',\n",
       "       '23 75th Street, New York, NY 10014',\n",
       "       '121 Park Drive, Ann Arbor, MI 48104'], dtype=object)"
      ]
     },
     "execution_count": 77,
     "metadata": {},
     "output_type": "execute_result"
    }
   ],
   "source": [
    "df['borrower_BorrowerAddress'].unique()"
   ]
  },
  {
   "cell_type": "code",
   "execution_count": 80,
   "metadata": {},
   "outputs": [
    {
     "data": {
      "text/plain": [
       "count    192.000000\n",
       "mean      96.500000\n",
       "std       55.569776\n",
       "min        1.000000\n",
       "25%       48.750000\n",
       "50%       96.500000\n",
       "75%      144.250000\n",
       "max      192.000000\n",
       "Name: book_copies_No_Of_Copies, dtype: float64"
      ]
     },
     "execution_count": 80,
     "metadata": {},
     "output_type": "execute_result"
    }
   ],
   "source": [
    "df['book_copies_No_Of_Copies'].describe()"
   ]
  },
  {
   "cell_type": "code",
   "execution_count": 81,
   "metadata": {},
   "outputs": [
    {
     "data": {
      "text/plain": [
       "count                      192\n",
       "unique                      19\n",
       "top       The Name of the Wind\n",
       "freq                        24\n",
       "Name: book_Title, dtype: object"
      ]
     },
     "execution_count": 81,
     "metadata": {},
     "output_type": "execute_result"
    }
   ],
   "source": [
    "df['book_Title'].describe()"
   ]
  },
  {
   "cell_type": "code",
   "execution_count": 82,
   "metadata": {},
   "outputs": [
    {
     "data": {
      "text/plain": [
       "count                  192\n",
       "unique                  15\n",
       "top       Patrick Rothfuss\n",
       "freq                    28\n",
       "Name: book_authors_AuthorName, dtype: object"
      ]
     },
     "execution_count": 82,
     "metadata": {},
     "output_type": "execute_result"
    }
   ],
   "source": [
    "df['book_authors_AuthorName'].describe()"
   ]
  },
  {
   "cell_type": "code",
   "execution_count": 83,
   "metadata": {},
   "outputs": [
    {
     "data": {
      "text/plain": [
       "count           192\n",
       "unique           16\n",
       "top       DAW Books\n",
       "freq             24\n",
       "Name: book_PublisherName, dtype: object"
      ]
     },
     "execution_count": 83,
     "metadata": {},
     "output_type": "execute_result"
    }
   ],
   "source": [
    "df['book_PublisherName'].describe()"
   ]
  },
  {
   "cell_type": "code",
   "execution_count": 84,
   "metadata": {},
   "outputs": [
    {
     "data": {
      "text/plain": [
       "count                                    192\n",
       "unique                                     4\n",
       "top       32 Corner Road, New York, NY 10012\n",
       "freq                                      48\n",
       "Name: library_branch_BranchAddress, dtype: object"
      ]
     },
     "execution_count": 84,
     "metadata": {},
     "output_type": "execute_result"
    }
   ],
   "source": [
    "df['library_branch_BranchAddress'].describe()"
   ]
  },
  {
   "cell_type": "code",
   "execution_count": 85,
   "metadata": {},
   "outputs": [
    {
     "data": {
      "text/plain": [
       "count            192\n",
       "unique             4\n",
       "top       Sharpstown\n",
       "freq              48\n",
       "Name: library_branch_BranchName, dtype: object"
      ]
     },
     "execution_count": 85,
     "metadata": {},
     "output_type": "execute_result"
    }
   ],
   "source": [
    "df['library_branch_BranchName'].describe()"
   ]
  },
  {
   "cell_type": "code",
   "execution_count": 87,
   "metadata": {},
   "outputs": [
    {
     "data": {
      "text/plain": [
       "count                                      192\n",
       "unique                                       7\n",
       "top       981 Main Street, Ann Arbor, MI 48104\n",
       "freq                                        52\n",
       "Name: borrower_BorrowerAddress, dtype: object"
      ]
     },
     "execution_count": 87,
     "metadata": {},
     "output_type": "execute_result"
    }
   ],
   "source": [
    "df['borrower_BorrowerAddress'].describe()"
   ]
  },
  {
   "cell_type": "code",
   "execution_count": 88,
   "metadata": {},
   "outputs": [
    {
     "data": {
      "text/plain": [
       "count        192\n",
       "unique         7\n",
       "top       Tom Li\n",
       "freq          52\n",
       "Name: borrower_BorrowerName, dtype: object"
      ]
     },
     "execution_count": 88,
     "metadata": {},
     "output_type": "execute_result"
    }
   ],
   "source": [
    "df['borrower_BorrowerName'].describe()"
   ]
  },
  {
   "cell_type": "code",
   "execution_count": 94,
   "metadata": {},
   "outputs": [
    {
     "data": {
      "text/html": [
       "<div>\n",
       "<style scoped>\n",
       "    .dataframe tbody tr th:only-of-type {\n",
       "        vertical-align: middle;\n",
       "    }\n",
       "\n",
       "    .dataframe tbody tr th {\n",
       "        vertical-align: top;\n",
       "    }\n",
       "\n",
       "    .dataframe thead th {\n",
       "        text-align: right;\n",
       "    }\n",
       "</style>\n",
       "<table border=\"1\" class=\"dataframe\">\n",
       "  <thead>\n",
       "    <tr style=\"text-align: right;\">\n",
       "      <th></th>\n",
       "      <th>book_Title</th>\n",
       "      <th>book_PublisherName</th>\n",
       "      <th>book_authors_AuthorName</th>\n",
       "      <th>publisher_PublisherAddress</th>\n",
       "      <th>publisher_PublisherPhone</th>\n",
       "      <th>book_copies_No_Of_Copies</th>\n",
       "      <th>book_loans_DateOut</th>\n",
       "      <th>book_loans_DueDate</th>\n",
       "      <th>library_branch_BranchAddress</th>\n",
       "      <th>library_branch_BranchName</th>\n",
       "      <th>borrower_BorrowerName</th>\n",
       "      <th>borrower_BorrowerAddress</th>\n",
       "      <th>borrower_BorrowerPhone</th>\n",
       "    </tr>\n",
       "  </thead>\n",
       "  <tbody>\n",
       "    <tr>\n",
       "      <th>28</th>\n",
       "      <td>The Hitchhikers Guide to the Galaxy</td>\n",
       "      <td>Pan Books</td>\n",
       "      <td>Douglas Adams</td>\n",
       "      <td>175 Fifth Avenue, New York, NY 10010</td>\n",
       "      <td>646-307-5745</td>\n",
       "      <td>29</td>\n",
       "      <td>1/15/18</td>\n",
       "      <td>2/15/18</td>\n",
       "      <td>32 Corner Road, New York, NY 10012</td>\n",
       "      <td>Sharpstown</td>\n",
       "      <td>Angela Thompson</td>\n",
       "      <td>2212 Green Avenue, Ann Arbor, MI 48104</td>\n",
       "      <td>313-591-2122</td>\n",
       "    </tr>\n",
       "    <tr>\n",
       "      <th>138</th>\n",
       "      <td>A Game of Thrones</td>\n",
       "      <td>Bantam</td>\n",
       "      <td>George R.R. Martin</td>\n",
       "      <td>375 Hudson Street, New York, NY 10014</td>\n",
       "      <td>212-366-2000</td>\n",
       "      <td>139</td>\n",
       "      <td>1/5/18</td>\n",
       "      <td>2/5/18</td>\n",
       "      <td>40 State Street, Saline, MI 48176</td>\n",
       "      <td>Saline</td>\n",
       "      <td>Tom Haverford</td>\n",
       "      <td>23 75th Street, New York, NY 10014</td>\n",
       "      <td>212-631-3418</td>\n",
       "    </tr>\n",
       "    <tr>\n",
       "      <th>69</th>\n",
       "      <td>Hard Boiled Wonderland and The End of the World</td>\n",
       "      <td>Shinchosa</td>\n",
       "      <td>Haruki Murakami</td>\n",
       "      <td>Oga Bldg. 8, 2-5-4 Sarugaku-cho, Chiyoda-ku, T...</td>\n",
       "      <td>+81-3-5577-6507</td>\n",
       "      <td>70</td>\n",
       "      <td>1/3/18</td>\n",
       "      <td>2/3/18</td>\n",
       "      <td>491 3rd Street, New York, NY 10014</td>\n",
       "      <td>Central</td>\n",
       "      <td>Tom Li</td>\n",
       "      <td>981 Main Street, Ann Arbor, MI 48104</td>\n",
       "      <td>734-902-7455</td>\n",
       "    </tr>\n",
       "    <tr>\n",
       "      <th>94</th>\n",
       "      <td>The Lost Tribe</td>\n",
       "      <td>Picador USA</td>\n",
       "      <td>Mark Lee</td>\n",
       "      <td>175 Fifth Avenue, New York, NY 10010</td>\n",
       "      <td>646-307-5745</td>\n",
       "      <td>95</td>\n",
       "      <td>1/3/18</td>\n",
       "      <td>2/3/18</td>\n",
       "      <td>491 3rd Street, New York, NY 10014</td>\n",
       "      <td>Central</td>\n",
       "      <td>Angela Thompson</td>\n",
       "      <td>2212 Green Avenue, Ann Arbor, MI 48104</td>\n",
       "      <td>313-591-2122</td>\n",
       "    </tr>\n",
       "    <tr>\n",
       "      <th>24</th>\n",
       "      <td>The Giving Tree</td>\n",
       "      <td>Harper and Row</td>\n",
       "      <td>Shel Silverstein</td>\n",
       "      <td>HarperCollins Publishers, 195 Broadway, New Yo...</td>\n",
       "      <td>212-207-7000</td>\n",
       "      <td>25</td>\n",
       "      <td>12/12/17</td>\n",
       "      <td>1/12/17</td>\n",
       "      <td>32 Corner Road, New York, NY 10012</td>\n",
       "      <td>Sharpstown</td>\n",
       "      <td>Tom Haverford</td>\n",
       "      <td>23 75th Street, New York, NY 10014</td>\n",
       "      <td>212-631-3418</td>\n",
       "    </tr>\n",
       "    <tr>\n",
       "      <th>148</th>\n",
       "      <td>The Name of the Wind</td>\n",
       "      <td>DAW Books</td>\n",
       "      <td>Patrick Rothfuss</td>\n",
       "      <td>375 Hudson Street, New York, NY 10014</td>\n",
       "      <td>212-366-2000</td>\n",
       "      <td>149</td>\n",
       "      <td>1/12/18</td>\n",
       "      <td>2/12/18</td>\n",
       "      <td>101 South University, Ann Arbor, MI 48104</td>\n",
       "      <td>Ann Arbor</td>\n",
       "      <td>Tom Li</td>\n",
       "      <td>981 Main Street, Ann Arbor, MI 48104</td>\n",
       "      <td>734-902-7455</td>\n",
       "    </tr>\n",
       "    <tr>\n",
       "      <th>147</th>\n",
       "      <td>The Name of the Wind</td>\n",
       "      <td>DAW Books</td>\n",
       "      <td>Patrick Rothfuss</td>\n",
       "      <td>375 Hudson Street, New York, NY 10014</td>\n",
       "      <td>212-366-2000</td>\n",
       "      <td>148</td>\n",
       "      <td>2/2/17</td>\n",
       "      <td>3/2/18</td>\n",
       "      <td>101 South University, Ann Arbor, MI 48104</td>\n",
       "      <td>Ann Arbor</td>\n",
       "      <td>Angela Thompson</td>\n",
       "      <td>2212 Green Avenue, Ann Arbor, MI 48104</td>\n",
       "      <td>313-591-2122</td>\n",
       "    </tr>\n",
       "    <tr>\n",
       "      <th>60</th>\n",
       "      <td>Dune</td>\n",
       "      <td>Chilton Books</td>\n",
       "      <td>Frank Herbert</td>\n",
       "      <td>Not Available</td>\n",
       "      <td>Not Available</td>\n",
       "      <td>61</td>\n",
       "      <td>1/1/18</td>\n",
       "      <td>2/2/18</td>\n",
       "      <td>491 3rd Street, New York, NY 10014</td>\n",
       "      <td>Central</td>\n",
       "      <td>Joe Smith</td>\n",
       "      <td>1321 4th Street, New York, NY 10014</td>\n",
       "      <td>212-312-1234</td>\n",
       "    </tr>\n",
       "    <tr>\n",
       "      <th>9</th>\n",
       "      <td>The Green Mile</td>\n",
       "      <td>Signet Books</td>\n",
       "      <td>Stephen King</td>\n",
       "      <td>375 Hudson Street, New York, NY 10014</td>\n",
       "      <td>212-366-2000</td>\n",
       "      <td>10</td>\n",
       "      <td>1/7/18</td>\n",
       "      <td>2/7/18</td>\n",
       "      <td>32 Corner Road, New York, NY 10012</td>\n",
       "      <td>Sharpstown</td>\n",
       "      <td>Joe Smith</td>\n",
       "      <td>1321 4th Street, New York, NY 10014</td>\n",
       "      <td>212-312-1234</td>\n",
       "    </tr>\n",
       "    <tr>\n",
       "      <th>187</th>\n",
       "      <td>A Game of Thrones</td>\n",
       "      <td>Bantam</td>\n",
       "      <td>George R.R. Martin</td>\n",
       "      <td>375 Hudson Street, New York, NY 10014</td>\n",
       "      <td>212-366-2000</td>\n",
       "      <td>188</td>\n",
       "      <td>1/3/18</td>\n",
       "      <td>2/3/18</td>\n",
       "      <td>101 South University, Ann Arbor, MI 48104</td>\n",
       "      <td>Ann Arbor</td>\n",
       "      <td>Joe Smith</td>\n",
       "      <td>1321 4th Street, New York, NY 10014</td>\n",
       "      <td>212-312-1234</td>\n",
       "    </tr>\n",
       "  </tbody>\n",
       "</table>\n",
       "</div>"
      ],
      "text/plain": [
       "                                          book_Title book_PublisherName  \\\n",
       "28               The Hitchhikers Guide to the Galaxy          Pan Books   \n",
       "138                                A Game of Thrones             Bantam   \n",
       "69   Hard Boiled Wonderland and The End of the World          Shinchosa   \n",
       "94                                    The Lost Tribe        Picador USA   \n",
       "24                                   The Giving Tree     Harper and Row   \n",
       "148                             The Name of the Wind          DAW Books   \n",
       "147                             The Name of the Wind          DAW Books   \n",
       "60                                              Dune      Chilton Books   \n",
       "9                                     The Green Mile       Signet Books   \n",
       "187                                A Game of Thrones             Bantam   \n",
       "\n",
       "    book_authors_AuthorName  \\\n",
       "28            Douglas Adams   \n",
       "138      George R.R. Martin   \n",
       "69          Haruki Murakami   \n",
       "94                 Mark Lee   \n",
       "24         Shel Silverstein   \n",
       "148        Patrick Rothfuss   \n",
       "147        Patrick Rothfuss   \n",
       "60            Frank Herbert   \n",
       "9              Stephen King   \n",
       "187      George R.R. Martin   \n",
       "\n",
       "                            publisher_PublisherAddress  \\\n",
       "28                175 Fifth Avenue, New York, NY 10010   \n",
       "138              375 Hudson Street, New York, NY 10014   \n",
       "69   Oga Bldg. 8, 2-5-4 Sarugaku-cho, Chiyoda-ku, T...   \n",
       "94                175 Fifth Avenue, New York, NY 10010   \n",
       "24   HarperCollins Publishers, 195 Broadway, New Yo...   \n",
       "148              375 Hudson Street, New York, NY 10014   \n",
       "147              375 Hudson Street, New York, NY 10014   \n",
       "60                                       Not Available   \n",
       "9                375 Hudson Street, New York, NY 10014   \n",
       "187              375 Hudson Street, New York, NY 10014   \n",
       "\n",
       "    publisher_PublisherPhone  book_copies_No_Of_Copies book_loans_DateOut  \\\n",
       "28              646-307-5745                        29            1/15/18   \n",
       "138             212-366-2000                       139             1/5/18   \n",
       "69           +81-3-5577-6507                        70             1/3/18   \n",
       "94              646-307-5745                        95             1/3/18   \n",
       "24              212-207-7000                        25           12/12/17   \n",
       "148             212-366-2000                       149            1/12/18   \n",
       "147             212-366-2000                       148             2/2/17   \n",
       "60             Not Available                        61             1/1/18   \n",
       "9               212-366-2000                        10             1/7/18   \n",
       "187             212-366-2000                       188             1/3/18   \n",
       "\n",
       "    book_loans_DueDate               library_branch_BranchAddress  \\\n",
       "28             2/15/18         32 Corner Road, New York, NY 10012   \n",
       "138             2/5/18          40 State Street, Saline, MI 48176   \n",
       "69              2/3/18         491 3rd Street, New York, NY 10014   \n",
       "94              2/3/18         491 3rd Street, New York, NY 10014   \n",
       "24             1/12/17         32 Corner Road, New York, NY 10012   \n",
       "148            2/12/18  101 South University, Ann Arbor, MI 48104   \n",
       "147             3/2/18  101 South University, Ann Arbor, MI 48104   \n",
       "60              2/2/18         491 3rd Street, New York, NY 10014   \n",
       "9               2/7/18         32 Corner Road, New York, NY 10012   \n",
       "187             2/3/18  101 South University, Ann Arbor, MI 48104   \n",
       "\n",
       "    library_branch_BranchName borrower_BorrowerName  \\\n",
       "28                 Sharpstown       Angela Thompson   \n",
       "138                    Saline         Tom Haverford   \n",
       "69                    Central                Tom Li   \n",
       "94                    Central       Angela Thompson   \n",
       "24                 Sharpstown         Tom Haverford   \n",
       "148                 Ann Arbor                Tom Li   \n",
       "147                 Ann Arbor       Angela Thompson   \n",
       "60                    Central             Joe Smith   \n",
       "9                  Sharpstown             Joe Smith   \n",
       "187                 Ann Arbor             Joe Smith   \n",
       "\n",
       "                   borrower_BorrowerAddress borrower_BorrowerPhone  \n",
       "28   2212 Green Avenue, Ann Arbor, MI 48104           313-591-2122  \n",
       "138      23 75th Street, New York, NY 10014           212-631-3418  \n",
       "69     981 Main Street, Ann Arbor, MI 48104           734-902-7455  \n",
       "94   2212 Green Avenue, Ann Arbor, MI 48104           313-591-2122  \n",
       "24       23 75th Street, New York, NY 10014           212-631-3418  \n",
       "148    981 Main Street, Ann Arbor, MI 48104           734-902-7455  \n",
       "147  2212 Green Avenue, Ann Arbor, MI 48104           313-591-2122  \n",
       "60      1321 4th Street, New York, NY 10014           212-312-1234  \n",
       "9       1321 4th Street, New York, NY 10014           212-312-1234  \n",
       "187     1321 4th Street, New York, NY 10014           212-312-1234  "
      ]
     },
     "execution_count": 94,
     "metadata": {},
     "output_type": "execute_result"
    }
   ],
   "source": [
    "df.sample(10)"
   ]
  },
  {
   "attachments": {},
   "cell_type": "markdown",
   "metadata": {},
   "source": [
    "            -----------------------------------------------Finished ----------------------------------------------------------\n",
    "           Now :Power BI Dashboard"
   ]
  }
 ],
 "metadata": {
  "kernelspec": {
   "display_name": "Python 3",
   "language": "python",
   "name": "python3"
  },
  "language_info": {
   "codemirror_mode": {
    "name": "ipython",
    "version": 3
   },
   "file_extension": ".py",
   "mimetype": "text/x-python",
   "name": "python",
   "nbconvert_exporter": "python",
   "pygments_lexer": "ipython3",
   "version": "3.10.6"
  },
  "orig_nbformat": 4,
  "vscode": {
   "interpreter": {
    "hash": "782e44b3a77a7a1c4bcb5df138c01f488e70b61987c9bb22e634cc0094221137"
   }
  }
 },
 "nbformat": 4,
 "nbformat_minor": 2
}
