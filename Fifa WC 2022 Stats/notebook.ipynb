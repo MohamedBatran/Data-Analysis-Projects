{
 "cells": [
  {
   "attachments": {},
   "cell_type": "markdown",
   "metadata": {},
   "source": [
    "Outlines"
   ]
  },
  {
   "attachments": {},
   "cell_type": "markdown",
   "metadata": {},
   "source": [
    "- Import Data\n"
   ]
  },
  {
   "attachments": {},
   "cell_type": "markdown",
   "metadata": {},
   "source": [
    "- Discover and Inspect Data"
   ]
  },
  {
   "attachments": {},
   "cell_type": "markdown",
   "metadata": {},
   "source": [
    "- Data Cleaning"
   ]
  },
  {
   "attachments": {},
   "cell_type": "markdown",
   "metadata": {},
   "source": [
    "- Exploerity Data Analysis (EDA)"
   ]
  },
  {
   "attachments": {},
   "cell_type": "markdown",
   "metadata": {},
   "source": [
    "- Save The Final Form Of Our Data"
   ]
  },
  {
   "attachments": {},
   "cell_type": "markdown",
   "metadata": {},
   "source": [
    "- Visualize Our Data and Get a Final Dashboard in Power BI "
   ]
  },
  {
   "attachments": {},
   "cell_type": "markdown",
   "metadata": {},
   "source": [
    "Start Point"
   ]
  },
  {
   "attachments": {},
   "cell_type": "markdown",
   "metadata": {},
   "source": [
    "- Import Packages"
   ]
  },
  {
   "cell_type": "code",
   "execution_count": 1,
   "metadata": {},
   "outputs": [],
   "source": [
    "import pandas as pd\n",
    "import numpy as np \n",
    "import seaborn as sn\n",
    "import matplotlib.pyplot as plt"
   ]
  },
  {
   "attachments": {},
   "cell_type": "markdown",
   "metadata": {},
   "source": [
    "- Import Data"
   ]
  },
  {
   "cell_type": "code",
   "execution_count": 253,
   "metadata": {},
   "outputs": [],
   "source": [
    "df = pd.read_csv('FIFA WC 2022 Players Stats.csv')"
   ]
  },
  {
   "attachments": {},
   "cell_type": "markdown",
   "metadata": {},
   "source": [
    "- Discover and Inspect Data"
   ]
  },
  {
   "cell_type": "code",
   "execution_count": 12,
   "metadata": {},
   "outputs": [
    {
     "data": {
      "text/html": [
       "<div>\n",
       "<style scoped>\n",
       "    .dataframe tbody tr th:only-of-type {\n",
       "        vertical-align: middle;\n",
       "    }\n",
       "\n",
       "    .dataframe tbody tr th {\n",
       "        vertical-align: top;\n",
       "    }\n",
       "\n",
       "    .dataframe thead th {\n",
       "        text-align: right;\n",
       "    }\n",
       "</style>\n",
       "<table border=\"1\" class=\"dataframe\">\n",
       "  <thead>\n",
       "    <tr style=\"text-align: right;\">\n",
       "      <th></th>\n",
       "      <th>Nationality</th>\n",
       "      <th>FIFA Ranking</th>\n",
       "      <th>National Team Kit Sponsor</th>\n",
       "      <th>Position</th>\n",
       "      <th>National Team Jersey Number</th>\n",
       "      <th>Player DOB</th>\n",
       "      <th>Club</th>\n",
       "      <th>Player Name</th>\n",
       "      <th>Appearances</th>\n",
       "      <th>Goals Scored</th>\n",
       "      <th>Assists Provided</th>\n",
       "      <th>Dribbles per 90</th>\n",
       "      <th>Interceptions per 90</th>\n",
       "      <th>Tackles per 90</th>\n",
       "      <th>Total Duels Won per 90</th>\n",
       "      <th>Save Percentage</th>\n",
       "      <th>Clean Sheets</th>\n",
       "      <th>Brand Sponsor/Brand Used</th>\n",
       "    </tr>\n",
       "  </thead>\n",
       "  <tbody>\n",
       "    <tr>\n",
       "      <th>0</th>\n",
       "      <td>Argentina</td>\n",
       "      <td>2</td>\n",
       "      <td>Adidas</td>\n",
       "      <td>GK</td>\n",
       "      <td>23.0</td>\n",
       "      <td>Sep 2, 1992</td>\n",
       "      <td>Aston Villa</td>\n",
       "      <td>Emiliano Martinez</td>\n",
       "      <td>7</td>\n",
       "      <td>0</td>\n",
       "      <td>0</td>\n",
       "      <td>0.00</td>\n",
       "      <td>0.00</td>\n",
       "      <td>0.00</td>\n",
       "      <td>0.65</td>\n",
       "      <td>46.67%</td>\n",
       "      <td>43%</td>\n",
       "      <td>Adidas</td>\n",
       "    </tr>\n",
       "    <tr>\n",
       "      <th>1</th>\n",
       "      <td>Argentina</td>\n",
       "      <td>2</td>\n",
       "      <td>Adidas</td>\n",
       "      <td>GK</td>\n",
       "      <td>1.0</td>\n",
       "      <td>Oct 16, 1986</td>\n",
       "      <td>River</td>\n",
       "      <td>Franco Armani</td>\n",
       "      <td>0</td>\n",
       "      <td>-</td>\n",
       "      <td>-</td>\n",
       "      <td>-</td>\n",
       "      <td>-</td>\n",
       "      <td>-</td>\n",
       "      <td>-</td>\n",
       "      <td>-</td>\n",
       "      <td>-</td>\n",
       "      <td>Nike</td>\n",
       "    </tr>\n",
       "    <tr>\n",
       "      <th>2</th>\n",
       "      <td>Argentina</td>\n",
       "      <td>2</td>\n",
       "      <td>Adidas</td>\n",
       "      <td>GK</td>\n",
       "      <td>12.0</td>\n",
       "      <td>May 20, 1992</td>\n",
       "      <td>Villarreal</td>\n",
       "      <td>Geronimo Rulli</td>\n",
       "      <td>0</td>\n",
       "      <td>-</td>\n",
       "      <td>-</td>\n",
       "      <td>-</td>\n",
       "      <td>-</td>\n",
       "      <td>-</td>\n",
       "      <td>-</td>\n",
       "      <td>-</td>\n",
       "      <td>-</td>\n",
       "      <td>Adidas</td>\n",
       "    </tr>\n",
       "    <tr>\n",
       "      <th>3</th>\n",
       "      <td>Argentina</td>\n",
       "      <td>2</td>\n",
       "      <td>Adidas</td>\n",
       "      <td>DF</td>\n",
       "      <td>19.0</td>\n",
       "      <td>Feb 12, 1988</td>\n",
       "      <td>Benfica</td>\n",
       "      <td>Nicolas Otamendi</td>\n",
       "      <td>7</td>\n",
       "      <td>0</td>\n",
       "      <td>1</td>\n",
       "      <td>0.33</td>\n",
       "      <td>1.17</td>\n",
       "      <td>1.30</td>\n",
       "      <td>7.17</td>\n",
       "      <td>-</td>\n",
       "      <td>-</td>\n",
       "      <td>Nike</td>\n",
       "    </tr>\n",
       "    <tr>\n",
       "      <th>4</th>\n",
       "      <td>Argentina</td>\n",
       "      <td>2</td>\n",
       "      <td>Adidas</td>\n",
       "      <td>DF</td>\n",
       "      <td>8.0</td>\n",
       "      <td>Oct 28, 1991</td>\n",
       "      <td>Sevilla</td>\n",
       "      <td>Marcos Acuna</td>\n",
       "      <td>6</td>\n",
       "      <td>0</td>\n",
       "      <td>0</td>\n",
       "      <td>1.45</td>\n",
       "      <td>0.48</td>\n",
       "      <td>2.90</td>\n",
       "      <td>7.97</td>\n",
       "      <td>-</td>\n",
       "      <td>-</td>\n",
       "      <td>Nike</td>\n",
       "    </tr>\n",
       "  </tbody>\n",
       "</table>\n",
       "</div>"
      ],
      "text/plain": [
       "  Nationality   FIFA Ranking  National Team Kit Sponsor Position  \\\n",
       "0    Argentina              2                    Adidas       GK   \n",
       "1    Argentina              2                    Adidas       GK   \n",
       "2    Argentina              2                    Adidas       GK   \n",
       "3    Argentina              2                    Adidas       DF   \n",
       "4    Argentina              2                    Adidas       DF   \n",
       "\n",
       "   National Team Jersey Number    Player DOB        Club        Player Name   \\\n",
       "0                         23.0   Sep 2, 1992  Aston Villa  Emiliano Martinez   \n",
       "1                          1.0  Oct 16, 1986        River      Franco Armani   \n",
       "2                         12.0  May 20, 1992   Villarreal     Geronimo Rulli   \n",
       "3                         19.0  Feb 12, 1988      Benfica   Nicolas Otamendi   \n",
       "4                          8.0  Oct 28, 1991      Sevilla       Marcos Acuna   \n",
       "\n",
       "   Appearances Goals Scored  Assists Provided  Dribbles per 90  \\\n",
       "0            7             0                 0            0.00   \n",
       "1            0             -                 -               -   \n",
       "2            0             -                 -               -   \n",
       "3            7             0                 1            0.33   \n",
       "4            6             0                 0            1.45   \n",
       "\n",
       "  Interceptions per 90 Tackles per 90 Total Duels Won per 90 Save Percentage  \\\n",
       "0                 0.00           0.00                   0.65          46.67%   \n",
       "1                    -              -                      -               -   \n",
       "2                    -              -                      -               -   \n",
       "3                 1.17           1.30                   7.17               -   \n",
       "4                 0.48           2.90                   7.97               -   \n",
       "\n",
       "  Clean Sheets Brand Sponsor/Brand Used  \n",
       "0          43%                   Adidas  \n",
       "1            -                     Nike  \n",
       "2            -                   Adidas  \n",
       "3            -                     Nike  \n",
       "4            -                     Nike  "
      ]
     },
     "execution_count": 12,
     "metadata": {},
     "output_type": "execute_result"
    }
   ],
   "source": [
    "df.head()"
   ]
  },
  {
   "cell_type": "code",
   "execution_count": 125,
   "metadata": {},
   "outputs": [
    {
     "data": {
      "text/plain": [
       "(808, 18)"
      ]
     },
     "execution_count": 125,
     "metadata": {},
     "output_type": "execute_result"
    }
   ],
   "source": [
    "df.shape"
   ]
  },
  {
   "cell_type": "code",
   "execution_count": 152,
   "metadata": {},
   "outputs": [
    {
     "data": {
      "text/plain": [
       "Index(['Nationality ', 'FIFA Ranking ', 'National Team Kit Sponsor',\n",
       "       'Position', 'National Team Jersey Number', 'Player DOB', 'Club ',\n",
       "       'Player Name ', ' Appearances', 'Goals Scored ', 'Assists Provided ',\n",
       "       'Dribbles per 90', 'Interceptions per 90', 'Tackles per 90',\n",
       "       'Total Duels Won per 90', 'Save Percentage', 'Clean Sheets',\n",
       "       'Brand Sponsor/Brand Used'],\n",
       "      dtype='object')"
      ]
     },
     "execution_count": 152,
     "metadata": {},
     "output_type": "execute_result"
    }
   ],
   "source": [
    "df.columns"
   ]
  },
  {
   "attachments": {},
   "cell_type": "markdown",
   "metadata": {},
   "source": [
    "- Data Cleaning"
   ]
  },
  {
   "attachments": {},
   "cell_type": "markdown",
   "metadata": {},
   "source": [
    "Find and Deal with Missing Values"
   ]
  },
  {
   "cell_type": "code",
   "execution_count": 15,
   "metadata": {},
   "outputs": [
    {
     "name": "stdout",
     "output_type": "stream",
     "text": [
      "<class 'pandas.core.frame.DataFrame'>\n",
      "RangeIndex: 814 entries, 0 to 813\n",
      "Data columns (total 18 columns):\n",
      " #   Column                       Non-Null Count  Dtype  \n",
      "---  ------                       --------------  -----  \n",
      " 0   Nationality                  814 non-null    object \n",
      " 1   FIFA Ranking                 814 non-null    int64  \n",
      " 2   National Team Kit Sponsor    813 non-null    object \n",
      " 3   Position                     814 non-null    object \n",
      " 4   National Team Jersey Number  813 non-null    float64\n",
      " 5   Player DOB                   814 non-null    object \n",
      " 6   Club                         814 non-null    object \n",
      " 7   Player Name                  814 non-null    object \n",
      " 8    Appearances                 814 non-null    object \n",
      " 9   Goals Scored                 813 non-null    object \n",
      " 10  Assists Provided             813 non-null    object \n",
      " 11  Dribbles per 90              813 non-null    object \n",
      " 12  Interceptions per 90         813 non-null    object \n",
      " 13  Tackles per 90               813 non-null    object \n",
      " 14  Total Duels Won per 90       813 non-null    object \n",
      " 15  Save Percentage              812 non-null    object \n",
      " 16  Clean Sheets                 814 non-null    object \n",
      " 17  Brand Sponsor/Brand Used     813 non-null    object \n",
      "dtypes: float64(1), int64(1), object(16)\n",
      "memory usage: 114.6+ KB\n"
     ]
    }
   ],
   "source": [
    "df.info()"
   ]
  },
  {
   "cell_type": "code",
   "execution_count": 16,
   "metadata": {},
   "outputs": [
    {
     "data": {
      "text/plain": [
       "Nationality                    0\n",
       "FIFA Ranking                   0\n",
       "National Team Kit Sponsor      1\n",
       "Position                       0\n",
       "National Team Jersey Number    1\n",
       "Player DOB                     0\n",
       "Club                           0\n",
       "Player Name                    0\n",
       " Appearances                   0\n",
       "Goals Scored                   1\n",
       "Assists Provided               1\n",
       "Dribbles per 90                1\n",
       "Interceptions per 90           1\n",
       "Tackles per 90                 1\n",
       "Total Duels Won per 90         1\n",
       "Save Percentage                2\n",
       "Clean Sheets                   0\n",
       "Brand Sponsor/Brand Used       1\n",
       "dtype: int64"
      ]
     },
     "execution_count": 16,
     "metadata": {},
     "output_type": "execute_result"
    }
   ],
   "source": [
    "df.isna().sum()"
   ]
  },
  {
   "cell_type": "code",
   "execution_count": 254,
   "metadata": {},
   "outputs": [],
   "source": [
    "df.dropna(inplace=True)"
   ]
  },
  {
   "attachments": {},
   "cell_type": "markdown",
   "metadata": {},
   "source": [
    "Find and Deal With Duplicates"
   ]
  },
  {
   "cell_type": "code",
   "execution_count": 22,
   "metadata": {},
   "outputs": [
    {
     "data": {
      "text/plain": [
       "0"
      ]
     },
     "execution_count": 22,
     "metadata": {},
     "output_type": "execute_result"
    }
   ],
   "source": [
    "df.duplicated().sum()"
   ]
  },
  {
   "attachments": {},
   "cell_type": "markdown",
   "metadata": {},
   "source": [
    "Deal with Records Datatype"
   ]
  },
  {
   "cell_type": "code",
   "execution_count": 23,
   "metadata": {},
   "outputs": [
    {
     "name": "stdout",
     "output_type": "stream",
     "text": [
      "<class 'pandas.core.frame.DataFrame'>\n",
      "Int64Index: 808 entries, 0 to 813\n",
      "Data columns (total 18 columns):\n",
      " #   Column                       Non-Null Count  Dtype  \n",
      "---  ------                       --------------  -----  \n",
      " 0   Nationality                  808 non-null    object \n",
      " 1   FIFA Ranking                 808 non-null    int64  \n",
      " 2   National Team Kit Sponsor    808 non-null    object \n",
      " 3   Position                     808 non-null    object \n",
      " 4   National Team Jersey Number  808 non-null    float64\n",
      " 5   Player DOB                   808 non-null    object \n",
      " 6   Club                         808 non-null    object \n",
      " 7   Player Name                  808 non-null    object \n",
      " 8    Appearances                 808 non-null    object \n",
      " 9   Goals Scored                 808 non-null    object \n",
      " 10  Assists Provided             808 non-null    object \n",
      " 11  Dribbles per 90              808 non-null    object \n",
      " 12  Interceptions per 90         808 non-null    object \n",
      " 13  Tackles per 90               808 non-null    object \n",
      " 14  Total Duels Won per 90       808 non-null    object \n",
      " 15  Save Percentage              808 non-null    object \n",
      " 16  Clean Sheets                 808 non-null    object \n",
      " 17  Brand Sponsor/Brand Used     808 non-null    object \n",
      "dtypes: float64(1), int64(1), object(16)\n",
      "memory usage: 119.9+ KB\n"
     ]
    }
   ],
   "source": [
    "df.info()"
   ]
  },
  {
   "cell_type": "code",
   "execution_count": 256,
   "metadata": {},
   "outputs": [],
   "source": [
    "df.replace('-',0,inplace = True) #Replacing - with 0\n",
    "df.replace('N.A',0,inplace = True) #Replacing string N.A - with 0\n",
    "df.replace('N,A',0,inplace = True) #Replacing string N,A - with 0"
   ]
  },
  {
   "cell_type": "code",
   "execution_count": 257,
   "metadata": {},
   "outputs": [],
   "source": [
    "df['Dribbles per 90'] = pd.to_numeric(df['Dribbles per 90'])"
   ]
  },
  {
   "cell_type": "code",
   "execution_count": 258,
   "metadata": {},
   "outputs": [],
   "source": [
    "df['Player DOB'] = pd.to_datetime(df['Player DOB'])"
   ]
  },
  {
   "cell_type": "code",
   "execution_count": 259,
   "metadata": {},
   "outputs": [],
   "source": [
    "df[' Appearances'] = pd.to_numeric(df[' Appearances'])"
   ]
  },
  {
   "cell_type": "code",
   "execution_count": 260,
   "metadata": {},
   "outputs": [],
   "source": [
    "df['Tackles per 90'] = pd.to_numeric(df['Tackles per 90'])"
   ]
  },
  {
   "cell_type": "code",
   "execution_count": 261,
   "metadata": {},
   "outputs": [],
   "source": [
    "df['Total Duels Won per 90'] = pd.to_numeric(df['Total Duels Won per 90'])"
   ]
  },
  {
   "cell_type": "code",
   "execution_count": 262,
   "metadata": {},
   "outputs": [],
   "source": [
    "df['Goals Scored '] = pd.to_numeric(df['Goals Scored '])"
   ]
  },
  {
   "cell_type": "code",
   "execution_count": 263,
   "metadata": {},
   "outputs": [],
   "source": [
    "df['Assists Provided '] = pd.to_numeric(df['Assists Provided '])"
   ]
  },
  {
   "cell_type": "code",
   "execution_count": 264,
   "metadata": {},
   "outputs": [],
   "source": [
    "df['National Team Jersey Number'] = df['National Team Jersey Number'].astype('int')"
   ]
  },
  {
   "cell_type": "code",
   "execution_count": 266,
   "metadata": {},
   "outputs": [],
   "source": [
    "df[' Appearances'] = pd.to_numeric(df[' Appearances'])"
   ]
  },
  {
   "attachments": {},
   "cell_type": "markdown",
   "metadata": {},
   "source": [
    "Change columns names to lower "
   ]
  },
  {
   "cell_type": "code",
   "execution_count": 267,
   "metadata": {},
   "outputs": [],
   "source": [
    "df.columns = df.columns.str.lower()"
   ]
  },
  {
   "cell_type": "code",
   "execution_count": 123,
   "metadata": {},
   "outputs": [
    {
     "name": "stdout",
     "output_type": "stream",
     "text": [
      "<class 'pandas.core.frame.DataFrame'>\n",
      "Int64Index: 808 entries, 0 to 813\n",
      "Data columns (total 18 columns):\n",
      " #   Column                       Non-Null Count  Dtype         \n",
      "---  ------                       --------------  -----         \n",
      " 0   Nationality                  808 non-null    object        \n",
      " 1   FIFA Ranking                 808 non-null    int64         \n",
      " 2   National Team Kit Sponsor    808 non-null    object        \n",
      " 3   Position                     808 non-null    object        \n",
      " 4   National Team Jersey Number  808 non-null    int32         \n",
      " 5   Player DOB                   808 non-null    datetime64[ns]\n",
      " 6   Club                         808 non-null    object        \n",
      " 7   Player Name                  808 non-null    object        \n",
      " 8    Appearances                 808 non-null    int64         \n",
      " 9   Goals Scored                 808 non-null    int64         \n",
      " 10  Assists Provided             808 non-null    int64         \n",
      " 11  Dribbles per 90              808 non-null    float64       \n",
      " 12  Interceptions per 90         808 non-null    object        \n",
      " 13  Tackles per 90               808 non-null    float64       \n",
      " 14  Total Duels Won per 90       808 non-null    float64       \n",
      " 15  Save Percentage              808 non-null    object        \n",
      " 16  Clean Sheets                 808 non-null    object        \n",
      " 17  Brand Sponsor/Brand Used     808 non-null    object        \n",
      "dtypes: datetime64[ns](1), float64(3), int32(1), int64(4), object(9)\n",
      "memory usage: 116.8+ KB\n"
     ]
    }
   ],
   "source": [
    "# final Datatypes \n",
    "df.info()"
   ]
  },
  {
   "attachments": {},
   "cell_type": "markdown",
   "metadata": {},
   "source": [
    "- Explority Data Analysis (EDA)"
   ]
  },
  {
   "cell_type": "code",
   "execution_count": 127,
   "metadata": {},
   "outputs": [
    {
     "data": {
      "text/html": [
       "<div>\n",
       "<style scoped>\n",
       "    .dataframe tbody tr th:only-of-type {\n",
       "        vertical-align: middle;\n",
       "    }\n",
       "\n",
       "    .dataframe tbody tr th {\n",
       "        vertical-align: top;\n",
       "    }\n",
       "\n",
       "    .dataframe thead th {\n",
       "        text-align: right;\n",
       "    }\n",
       "</style>\n",
       "<table border=\"1\" class=\"dataframe\">\n",
       "  <thead>\n",
       "    <tr style=\"text-align: right;\">\n",
       "      <th></th>\n",
       "      <th>FIFA Ranking</th>\n",
       "      <th>National Team Jersey Number</th>\n",
       "      <th>Appearances</th>\n",
       "      <th>Goals Scored</th>\n",
       "      <th>Assists Provided</th>\n",
       "      <th>Dribbles per 90</th>\n",
       "      <th>Tackles per 90</th>\n",
       "      <th>Total Duels Won per 90</th>\n",
       "    </tr>\n",
       "  </thead>\n",
       "  <tbody>\n",
       "    <tr>\n",
       "      <th>count</th>\n",
       "      <td>808.0</td>\n",
       "      <td>808.0</td>\n",
       "      <td>808.0</td>\n",
       "      <td>808.0</td>\n",
       "      <td>808.0</td>\n",
       "      <td>808.0</td>\n",
       "      <td>808.0</td>\n",
       "      <td>808.0</td>\n",
       "    </tr>\n",
       "    <tr>\n",
       "      <th>mean</th>\n",
       "      <td>21.7</td>\n",
       "      <td>13.5</td>\n",
       "      <td>2.3</td>\n",
       "      <td>0.2</td>\n",
       "      <td>0.1</td>\n",
       "      <td>0.9</td>\n",
       "      <td>1.1</td>\n",
       "      <td>3.5</td>\n",
       "    </tr>\n",
       "    <tr>\n",
       "      <th>std</th>\n",
       "      <td>16.1</td>\n",
       "      <td>7.5</td>\n",
       "      <td>1.9</td>\n",
       "      <td>0.6</td>\n",
       "      <td>0.4</td>\n",
       "      <td>2.1</td>\n",
       "      <td>1.5</td>\n",
       "      <td>3.7</td>\n",
       "    </tr>\n",
       "    <tr>\n",
       "      <th>min</th>\n",
       "      <td>1.0</td>\n",
       "      <td>1.0</td>\n",
       "      <td>0.0</td>\n",
       "      <td>0.0</td>\n",
       "      <td>0.0</td>\n",
       "      <td>0.0</td>\n",
       "      <td>0.0</td>\n",
       "      <td>0.0</td>\n",
       "    </tr>\n",
       "    <tr>\n",
       "      <th>25%</th>\n",
       "      <td>9.0</td>\n",
       "      <td>7.0</td>\n",
       "      <td>1.0</td>\n",
       "      <td>0.0</td>\n",
       "      <td>0.0</td>\n",
       "      <td>0.0</td>\n",
       "      <td>0.0</td>\n",
       "      <td>0.0</td>\n",
       "    </tr>\n",
       "    <tr>\n",
       "      <th>50%</th>\n",
       "      <td>18.0</td>\n",
       "      <td>13.5</td>\n",
       "      <td>2.0</td>\n",
       "      <td>0.0</td>\n",
       "      <td>0.0</td>\n",
       "      <td>0.0</td>\n",
       "      <td>0.4</td>\n",
       "      <td>3.1</td>\n",
       "    </tr>\n",
       "    <tr>\n",
       "      <th>75%</th>\n",
       "      <td>29.0</td>\n",
       "      <td>20.0</td>\n",
       "      <td>3.0</td>\n",
       "      <td>0.0</td>\n",
       "      <td>0.0</td>\n",
       "      <td>1.1</td>\n",
       "      <td>1.8</td>\n",
       "      <td>6.1</td>\n",
       "    </tr>\n",
       "    <tr>\n",
       "      <th>max</th>\n",
       "      <td>60.0</td>\n",
       "      <td>26.0</td>\n",
       "      <td>7.0</td>\n",
       "      <td>8.0</td>\n",
       "      <td>3.0</td>\n",
       "      <td>36.0</td>\n",
       "      <td>10.8</td>\n",
       "      <td>18.5</td>\n",
       "    </tr>\n",
       "  </tbody>\n",
       "</table>\n",
       "</div>"
      ],
      "text/plain": [
       "       FIFA Ranking   National Team Jersey Number   Appearances  \\\n",
       "count          808.0                        808.0         808.0   \n",
       "mean            21.7                         13.5           2.3   \n",
       "std             16.1                          7.5           1.9   \n",
       "min              1.0                          1.0           0.0   \n",
       "25%              9.0                          7.0           1.0   \n",
       "50%             18.0                         13.5           2.0   \n",
       "75%             29.0                         20.0           3.0   \n",
       "max             60.0                         26.0           7.0   \n",
       "\n",
       "       Goals Scored   Assists Provided   Dribbles per 90  Tackles per 90  \\\n",
       "count          808.0              808.0            808.0           808.0   \n",
       "mean             0.2                0.1              0.9             1.1   \n",
       "std              0.6                0.4              2.1             1.5   \n",
       "min              0.0                0.0              0.0             0.0   \n",
       "25%              0.0                0.0              0.0             0.0   \n",
       "50%              0.0                0.0              0.0             0.4   \n",
       "75%              0.0                0.0              1.1             1.8   \n",
       "max              8.0                3.0             36.0            10.8   \n",
       "\n",
       "       Total Duels Won per 90  \n",
       "count                   808.0  \n",
       "mean                      3.5  \n",
       "std                       3.7  \n",
       "min                       0.0  \n",
       "25%                       0.0  \n",
       "50%                       3.1  \n",
       "75%                       6.1  \n",
       "max                      18.5  "
      ]
     },
     "execution_count": 127,
     "metadata": {},
     "output_type": "execute_result"
    }
   ],
   "source": [
    "df.describe().round(1)"
   ]
  },
  {
   "cell_type": "code",
   "execution_count": 129,
   "metadata": {},
   "outputs": [
    {
     "data": {
      "text/html": [
       "<div>\n",
       "<style scoped>\n",
       "    .dataframe tbody tr th:only-of-type {\n",
       "        vertical-align: middle;\n",
       "    }\n",
       "\n",
       "    .dataframe tbody tr th {\n",
       "        vertical-align: top;\n",
       "    }\n",
       "\n",
       "    .dataframe thead th {\n",
       "        text-align: right;\n",
       "    }\n",
       "</style>\n",
       "<table border=\"1\" class=\"dataframe\">\n",
       "  <thead>\n",
       "    <tr style=\"text-align: right;\">\n",
       "      <th></th>\n",
       "      <th>Nationality</th>\n",
       "      <th>FIFA Ranking</th>\n",
       "      <th>National Team Kit Sponsor</th>\n",
       "      <th>Position</th>\n",
       "      <th>National Team Jersey Number</th>\n",
       "      <th>Player DOB</th>\n",
       "      <th>Club</th>\n",
       "      <th>Player Name</th>\n",
       "      <th>Appearances</th>\n",
       "      <th>Goals Scored</th>\n",
       "      <th>Assists Provided</th>\n",
       "      <th>Dribbles per 90</th>\n",
       "      <th>Interceptions per 90</th>\n",
       "      <th>Tackles per 90</th>\n",
       "      <th>Total Duels Won per 90</th>\n",
       "      <th>Save Percentage</th>\n",
       "      <th>Clean Sheets</th>\n",
       "      <th>Brand Sponsor/Brand Used</th>\n",
       "    </tr>\n",
       "  </thead>\n",
       "  <tbody>\n",
       "    <tr>\n",
       "      <th>417</th>\n",
       "      <td>Ecuador</td>\n",
       "      <td>41</td>\n",
       "      <td>Marathon</td>\n",
       "      <td>DF</td>\n",
       "      <td>17</td>\n",
       "      <td>1998-02-18</td>\n",
       "      <td>Genk</td>\n",
       "      <td>Angelo Preciado</td>\n",
       "      <td>3</td>\n",
       "      <td>0</td>\n",
       "      <td>1</td>\n",
       "      <td>0.34</td>\n",
       "      <td>1.70</td>\n",
       "      <td>2.38</td>\n",
       "      <td>5.10</td>\n",
       "      <td>0</td>\n",
       "      <td>0</td>\n",
       "      <td>Nike</td>\n",
       "    </tr>\n",
       "    <tr>\n",
       "      <th>465</th>\n",
       "      <td>Iran</td>\n",
       "      <td>24</td>\n",
       "      <td>Majid</td>\n",
       "      <td>DF</td>\n",
       "      <td>13</td>\n",
       "      <td>1994-03-23</td>\n",
       "      <td>Al Ahli</td>\n",
       "      <td>Hossein Kanaani</td>\n",
       "      <td>1</td>\n",
       "      <td>0</td>\n",
       "      <td>0</td>\n",
       "      <td>0.00</td>\n",
       "      <td>2.05</td>\n",
       "      <td>0.00</td>\n",
       "      <td>2.05</td>\n",
       "      <td>0</td>\n",
       "      <td>0</td>\n",
       "      <td>Nike</td>\n",
       "    </tr>\n",
       "    <tr>\n",
       "      <th>463</th>\n",
       "      <td>Iran</td>\n",
       "      <td>24</td>\n",
       "      <td>Majid</td>\n",
       "      <td>GK</td>\n",
       "      <td>12</td>\n",
       "      <td>1995-04-06</td>\n",
       "      <td>Sepahann</td>\n",
       "      <td>Payam Niazmand</td>\n",
       "      <td>0</td>\n",
       "      <td>0</td>\n",
       "      <td>0</td>\n",
       "      <td>0.00</td>\n",
       "      <td>0</td>\n",
       "      <td>0.00</td>\n",
       "      <td>0.00</td>\n",
       "      <td>0</td>\n",
       "      <td>0</td>\n",
       "      <td>Adidas</td>\n",
       "    </tr>\n",
       "    <tr>\n",
       "      <th>226</th>\n",
       "      <td>Australia</td>\n",
       "      <td>27</td>\n",
       "      <td>Nike</td>\n",
       "      <td>FW</td>\n",
       "      <td>9</td>\n",
       "      <td>1993-07-29</td>\n",
       "      <td>Melbourne City</td>\n",
       "      <td>Jamie Maclaren</td>\n",
       "      <td>3</td>\n",
       "      <td>0</td>\n",
       "      <td>0</td>\n",
       "      <td>0.00</td>\n",
       "      <td>1.70</td>\n",
       "      <td>0.00</td>\n",
       "      <td>3.40</td>\n",
       "      <td>0</td>\n",
       "      <td>0</td>\n",
       "      <td>Nike</td>\n",
       "    </tr>\n",
       "    <tr>\n",
       "      <th>306</th>\n",
       "      <td>Senegal</td>\n",
       "      <td>19</td>\n",
       "      <td>Puma</td>\n",
       "      <td>FW</td>\n",
       "      <td>19</td>\n",
       "      <td>1992-12-15</td>\n",
       "      <td>Alanyaspor</td>\n",
       "      <td>Famara Diedhiou</td>\n",
       "      <td>2</td>\n",
       "      <td>1</td>\n",
       "      <td>0</td>\n",
       "      <td>0.98</td>\n",
       "      <td>0.00</td>\n",
       "      <td>0.00</td>\n",
       "      <td>11.74</td>\n",
       "      <td>0</td>\n",
       "      <td>0</td>\n",
       "      <td>Puma</td>\n",
       "    </tr>\n",
       "    <tr>\n",
       "      <th>126</th>\n",
       "      <td>Netherlands</td>\n",
       "      <td>6</td>\n",
       "      <td>Nike</td>\n",
       "      <td>FW</td>\n",
       "      <td>19</td>\n",
       "      <td>1992-08-07</td>\n",
       "      <td>Besiktas</td>\n",
       "      <td>Wout Weghorst</td>\n",
       "      <td>4</td>\n",
       "      <td>2</td>\n",
       "      <td>0</td>\n",
       "      <td>0.00</td>\n",
       "      <td>0.00</td>\n",
       "      <td>0.00</td>\n",
       "      <td>4.43</td>\n",
       "      <td>0</td>\n",
       "      <td>0</td>\n",
       "      <td>Adidas</td>\n",
       "    </tr>\n",
       "    <tr>\n",
       "      <th>770</th>\n",
       "      <td>Uruguay</td>\n",
       "      <td>16</td>\n",
       "      <td>Puma</td>\n",
       "      <td>DF</td>\n",
       "      <td>16</td>\n",
       "      <td>1997-10-31</td>\n",
       "      <td>Napoli</td>\n",
       "      <td>Mathias Olivera</td>\n",
       "      <td>3</td>\n",
       "      <td>0</td>\n",
       "      <td>0</td>\n",
       "      <td>0.71</td>\n",
       "      <td>0.71</td>\n",
       "      <td>3.18</td>\n",
       "      <td>8.47</td>\n",
       "      <td>0</td>\n",
       "      <td>0</td>\n",
       "      <td>Nike</td>\n",
       "    </tr>\n",
       "    <tr>\n",
       "      <th>383</th>\n",
       "      <td>Switzerland</td>\n",
       "      <td>12</td>\n",
       "      <td>Puma</td>\n",
       "      <td>GK</td>\n",
       "      <td>1</td>\n",
       "      <td>1988-12-17</td>\n",
       "      <td>Borussia Monchengladbach</td>\n",
       "      <td>Yann Sommer</td>\n",
       "      <td>3</td>\n",
       "      <td>0</td>\n",
       "      <td>0</td>\n",
       "      <td>0.00</td>\n",
       "      <td>0</td>\n",
       "      <td>0.00</td>\n",
       "      <td>0.00</td>\n",
       "      <td>63.16%</td>\n",
       "      <td>33%</td>\n",
       "      <td>Puma</td>\n",
       "    </tr>\n",
       "    <tr>\n",
       "      <th>571</th>\n",
       "      <td>Denmark</td>\n",
       "      <td>18</td>\n",
       "      <td>Hummel</td>\n",
       "      <td>DF</td>\n",
       "      <td>3</td>\n",
       "      <td>1998-10-14</td>\n",
       "      <td>Galatasaray</td>\n",
       "      <td>Victor Nelsson</td>\n",
       "      <td>1</td>\n",
       "      <td>0</td>\n",
       "      <td>0</td>\n",
       "      <td>0.00</td>\n",
       "      <td>2.00</td>\n",
       "      <td>0.00</td>\n",
       "      <td>10.00</td>\n",
       "      <td>0</td>\n",
       "      <td>0</td>\n",
       "      <td>Adidas</td>\n",
       "    </tr>\n",
       "    <tr>\n",
       "      <th>269</th>\n",
       "      <td>Poland</td>\n",
       "      <td>22</td>\n",
       "      <td>Nike</td>\n",
       "      <td>MF</td>\n",
       "      <td>6</td>\n",
       "      <td>1998-01-04</td>\n",
       "      <td>Birmingham City</td>\n",
       "      <td>Krystian Bielik</td>\n",
       "      <td>4</td>\n",
       "      <td>0</td>\n",
       "      <td>0</td>\n",
       "      <td>1.26</td>\n",
       "      <td>1.67</td>\n",
       "      <td>1.26</td>\n",
       "      <td>9.21</td>\n",
       "      <td>0</td>\n",
       "      <td>0</td>\n",
       "      <td>Nike</td>\n",
       "    </tr>\n",
       "  </tbody>\n",
       "</table>\n",
       "</div>"
      ],
      "text/plain": [
       "     Nationality   FIFA Ranking  National Team Kit Sponsor Position  \\\n",
       "417      Ecuador              41                  Marathon       DF   \n",
       "465          Iran             24                     Majid       DF   \n",
       "463          Iran             24                     Majid       GK   \n",
       "226     Australia             27                      Nike       FW   \n",
       "306       Senegal             19                      Puma       FW   \n",
       "126  Netherlands               6                      Nike       FW   \n",
       "770       Uruguay             16                      Puma       DF   \n",
       "383   Switzerland             12                      Puma       GK   \n",
       "571       Denmark             18                    Hummel       DF   \n",
       "269       Poland              22                      Nike       MF   \n",
       "\n",
       "     National Team Jersey Number Player DOB                     Club   \\\n",
       "417                           17 1998-02-18                      Genk   \n",
       "465                           13 1994-03-23                   Al Ahli   \n",
       "463                           12 1995-04-06                  Sepahann   \n",
       "226                            9 1993-07-29            Melbourne City   \n",
       "306                           19 1992-12-15                Alanyaspor   \n",
       "126                           19 1992-08-07                  Besiktas   \n",
       "770                           16 1997-10-31                    Napoli   \n",
       "383                            1 1988-12-17  Borussia Monchengladbach   \n",
       "571                            3 1998-10-14               Galatasaray   \n",
       "269                            6 1998-01-04           Birmingham City   \n",
       "\n",
       "        Player Name    Appearances  Goals Scored   Assists Provided   \\\n",
       "417  Angelo Preciado             3              0                  1   \n",
       "465  Hossein Kanaani             1              0                  0   \n",
       "463   Payam Niazmand             0              0                  0   \n",
       "226   Jamie Maclaren             3              0                  0   \n",
       "306  Famara Diedhiou             2              1                  0   \n",
       "126    Wout Weghorst             4              2                  0   \n",
       "770  Mathias Olivera             3              0                  0   \n",
       "383      Yann Sommer             3              0                  0   \n",
       "571   Victor Nelsson             1              0                  0   \n",
       "269  Krystian Bielik             4              0                  0   \n",
       "\n",
       "     Dribbles per 90 Interceptions per 90  Tackles per 90  \\\n",
       "417             0.34                 1.70            2.38   \n",
       "465             0.00                 2.05            0.00   \n",
       "463             0.00                    0            0.00   \n",
       "226             0.00                 1.70            0.00   \n",
       "306             0.98                 0.00            0.00   \n",
       "126             0.00                 0.00            0.00   \n",
       "770             0.71                 0.71            3.18   \n",
       "383             0.00                    0            0.00   \n",
       "571             0.00                 2.00            0.00   \n",
       "269             1.26                 1.67            1.26   \n",
       "\n",
       "     Total Duels Won per 90 Save Percentage Clean Sheets  \\\n",
       "417                    5.10               0            0   \n",
       "465                    2.05               0            0   \n",
       "463                    0.00               0            0   \n",
       "226                    3.40               0            0   \n",
       "306                   11.74               0            0   \n",
       "126                    4.43               0            0   \n",
       "770                    8.47               0            0   \n",
       "383                    0.00          63.16%          33%   \n",
       "571                   10.00               0            0   \n",
       "269                    9.21               0            0   \n",
       "\n",
       "    Brand Sponsor/Brand Used  \n",
       "417                     Nike  \n",
       "465                     Nike  \n",
       "463                   Adidas  \n",
       "226                     Nike  \n",
       "306                     Puma  \n",
       "126                   Adidas  \n",
       "770                     Nike  \n",
       "383                     Puma  \n",
       "571                   Adidas  \n",
       "269                     Nike  "
      ]
     },
     "execution_count": 129,
     "metadata": {},
     "output_type": "execute_result"
    }
   ],
   "source": [
    "df.sample(10)"
   ]
  },
  {
   "attachments": {},
   "cell_type": "markdown",
   "metadata": {},
   "source": [
    "Get the top & buttom 5 countries in fifa ranking"
   ]
  },
  {
   "cell_type": "code",
   "execution_count": 169,
   "metadata": {},
   "outputs": [
    {
     "data": {
      "text/html": [
       "<div>\n",
       "<style scoped>\n",
       "    .dataframe tbody tr th:only-of-type {\n",
       "        vertical-align: middle;\n",
       "    }\n",
       "\n",
       "    .dataframe tbody tr th {\n",
       "        vertical-align: top;\n",
       "    }\n",
       "\n",
       "    .dataframe thead th {\n",
       "        text-align: right;\n",
       "    }\n",
       "</style>\n",
       "<table border=\"1\" class=\"dataframe\">\n",
       "  <thead>\n",
       "    <tr style=\"text-align: right;\">\n",
       "      <th></th>\n",
       "      <th>fifa ranking</th>\n",
       "    </tr>\n",
       "    <tr>\n",
       "      <th>nationality</th>\n",
       "      <th></th>\n",
       "    </tr>\n",
       "  </thead>\n",
       "  <tbody>\n",
       "    <tr>\n",
       "      <th>Brazil</th>\n",
       "      <td>1</td>\n",
       "    </tr>\n",
       "    <tr>\n",
       "      <th>Argentina</th>\n",
       "      <td>2</td>\n",
       "    </tr>\n",
       "    <tr>\n",
       "      <th>France</th>\n",
       "      <td>3</td>\n",
       "    </tr>\n",
       "    <tr>\n",
       "      <th>Belgium</th>\n",
       "      <td>4</td>\n",
       "    </tr>\n",
       "    <tr>\n",
       "      <th>England</th>\n",
       "      <td>5</td>\n",
       "    </tr>\n",
       "  </tbody>\n",
       "</table>\n",
       "</div>"
      ],
      "text/plain": [
       "              fifa ranking \n",
       "nationality                \n",
       "Brazil                    1\n",
       "Argentina                 2\n",
       "France                    3\n",
       "Belgium                   4\n",
       "England                   5"
      ]
     },
     "execution_count": 169,
     "metadata": {},
     "output_type": "execute_result"
    }
   ],
   "source": [
    "# Top\n",
    "df.pivot_table(index='nationality ',values='fifa ranking ',aggfunc=np.max).sort_values(by='fifa ranking ',ascending=True).head(5)"
   ]
  },
  {
   "cell_type": "code",
   "execution_count": 170,
   "metadata": {},
   "outputs": [
    {
     "data": {
      "text/html": [
       "<div>\n",
       "<style scoped>\n",
       "    .dataframe tbody tr th:only-of-type {\n",
       "        vertical-align: middle;\n",
       "    }\n",
       "\n",
       "    .dataframe tbody tr th {\n",
       "        vertical-align: top;\n",
       "    }\n",
       "\n",
       "    .dataframe thead th {\n",
       "        text-align: right;\n",
       "    }\n",
       "</style>\n",
       "<table border=\"1\" class=\"dataframe\">\n",
       "  <thead>\n",
       "    <tr style=\"text-align: right;\">\n",
       "      <th></th>\n",
       "      <th>fifa ranking</th>\n",
       "    </tr>\n",
       "    <tr>\n",
       "      <th>nationality</th>\n",
       "      <th></th>\n",
       "    </tr>\n",
       "  </thead>\n",
       "  <tbody>\n",
       "    <tr>\n",
       "      <th>Ecuador</th>\n",
       "      <td>41</td>\n",
       "    </tr>\n",
       "    <tr>\n",
       "      <th>Saudi Arabia</th>\n",
       "      <td>49</td>\n",
       "    </tr>\n",
       "    <tr>\n",
       "      <th>Canada</th>\n",
       "      <td>53</td>\n",
       "    </tr>\n",
       "    <tr>\n",
       "      <th>Ghana</th>\n",
       "      <td>58</td>\n",
       "    </tr>\n",
       "    <tr>\n",
       "      <th>Qatar</th>\n",
       "      <td>60</td>\n",
       "    </tr>\n",
       "  </tbody>\n",
       "</table>\n",
       "</div>"
      ],
      "text/plain": [
       "              fifa ranking \n",
       "nationality                \n",
       "Ecuador                  41\n",
       "Saudi Arabia             49\n",
       "Canada                   53\n",
       "Ghana                    58\n",
       "Qatar                    60"
      ]
     },
     "execution_count": 170,
     "metadata": {},
     "output_type": "execute_result"
    }
   ],
   "source": [
    "# Buttom\n",
    "df.pivot_table(index='nationality ',values='fifa ranking ',aggfunc=np.max).sort_values(by='fifa ranking ',ascending=True).tail(5)"
   ]
  },
  {
   "attachments": {},
   "cell_type": "markdown",
   "metadata": {},
   "source": [
    "What The most sponser kit team ?"
   ]
  },
  {
   "cell_type": "code",
   "execution_count": 188,
   "metadata": {},
   "outputs": [
    {
     "data": {
      "text/plain": [
       "0    Nike\n",
       "Name: national team kit sponsor, dtype: object"
      ]
     },
     "execution_count": 188,
     "metadata": {},
     "output_type": "execute_result"
    }
   ],
   "source": [
    "df['national team kit sponsor'].mode()"
   ]
  },
  {
   "attachments": {},
   "cell_type": "markdown",
   "metadata": {},
   "source": [
    "What is the club that has the most players in the cup ?"
   ]
  },
  {
   "cell_type": "code",
   "execution_count": 191,
   "metadata": {},
   "outputs": [
    {
     "data": {
      "text/plain": [
       "0        Barcelona\n",
       "1    Bayern Munich\n",
       "Name: club , dtype: object"
      ]
     },
     "execution_count": 191,
     "metadata": {},
     "output_type": "execute_result"
    }
   ],
   "source": [
    "df['club '].mode()"
   ]
  },
  {
   "attachments": {},
   "cell_type": "markdown",
   "metadata": {},
   "source": [
    "What is the most players has appearances ?"
   ]
  },
  {
   "cell_type": "code",
   "execution_count": 201,
   "metadata": {},
   "outputs": [
    {
     "data": {
      "text/html": [
       "<div>\n",
       "<style scoped>\n",
       "    .dataframe tbody tr th:only-of-type {\n",
       "        vertical-align: middle;\n",
       "    }\n",
       "\n",
       "    .dataframe tbody tr th {\n",
       "        vertical-align: top;\n",
       "    }\n",
       "\n",
       "    .dataframe thead th {\n",
       "        text-align: right;\n",
       "    }\n",
       "</style>\n",
       "<table border=\"1\" class=\"dataframe\">\n",
       "  <thead>\n",
       "    <tr style=\"text-align: right;\">\n",
       "      <th></th>\n",
       "      <th>appearances</th>\n",
       "    </tr>\n",
       "    <tr>\n",
       "      <th>player name</th>\n",
       "      <th></th>\n",
       "    </tr>\n",
       "  </thead>\n",
       "  <tbody>\n",
       "    <tr>\n",
       "      <th>Ousmane Dembele</th>\n",
       "      <td>7</td>\n",
       "    </tr>\n",
       "    <tr>\n",
       "      <th>Lionel Messi 🐐</th>\n",
       "      <td>7</td>\n",
       "    </tr>\n",
       "    <tr>\n",
       "      <th>Selim Amallah</th>\n",
       "      <td>7</td>\n",
       "    </tr>\n",
       "    <tr>\n",
       "      <th>Andrej Kramaric</th>\n",
       "      <td>7</td>\n",
       "    </tr>\n",
       "    <tr>\n",
       "      <th>Lovro Majer</th>\n",
       "      <td>7</td>\n",
       "    </tr>\n",
       "    <tr>\n",
       "      <th>Rodrigo De Paul</th>\n",
       "      <td>7</td>\n",
       "    </tr>\n",
       "    <tr>\n",
       "      <th>Kylian Mbappe</th>\n",
       "      <td>7</td>\n",
       "    </tr>\n",
       "    <tr>\n",
       "      <th>Hakim Ziyech</th>\n",
       "      <td>7</td>\n",
       "    </tr>\n",
       "    <tr>\n",
       "      <th>Luka Modric</th>\n",
       "      <td>7</td>\n",
       "    </tr>\n",
       "    <tr>\n",
       "      <th>Achraf Hakimi</th>\n",
       "      <td>7</td>\n",
       "    </tr>\n",
       "    <tr>\n",
       "      <th>Dominik Livakovic</th>\n",
       "      <td>7</td>\n",
       "    </tr>\n",
       "    <tr>\n",
       "      <th>Mario Pasalic</th>\n",
       "      <td>7</td>\n",
       "    </tr>\n",
       "    <tr>\n",
       "      <th>Antoine Griezmann</th>\n",
       "      <td>7</td>\n",
       "    </tr>\n",
       "    <tr>\n",
       "      <th>Nahuel Molina</th>\n",
       "      <td>7</td>\n",
       "    </tr>\n",
       "    <tr>\n",
       "      <th>Ivan Perisic</th>\n",
       "      <td>7</td>\n",
       "    </tr>\n",
       "    <tr>\n",
       "      <th>Aurelien Tchouaméni</th>\n",
       "      <td>7</td>\n",
       "    </tr>\n",
       "    <tr>\n",
       "      <th>Mateo Kovacic</th>\n",
       "      <td>7</td>\n",
       "    </tr>\n",
       "    <tr>\n",
       "      <th>Josko Gvardiol</th>\n",
       "      <td>7</td>\n",
       "    </tr>\n",
       "    <tr>\n",
       "      <th>Emiliano Martinez</th>\n",
       "      <td>7</td>\n",
       "    </tr>\n",
       "    <tr>\n",
       "      <th>Youssef En-Nesyri</th>\n",
       "      <td>7</td>\n",
       "    </tr>\n",
       "    <tr>\n",
       "      <th>Sofiane Boufal</th>\n",
       "      <td>7</td>\n",
       "    </tr>\n",
       "    <tr>\n",
       "      <th>Sofyan Amrabat</th>\n",
       "      <td>7</td>\n",
       "    </tr>\n",
       "    <tr>\n",
       "      <th>Cristian Romero</th>\n",
       "      <td>7</td>\n",
       "    </tr>\n",
       "    <tr>\n",
       "      <th>Azzedine Ounahi</th>\n",
       "      <td>7</td>\n",
       "    </tr>\n",
       "    <tr>\n",
       "      <th>Nicolas Otamendi</th>\n",
       "      <td>7</td>\n",
       "    </tr>\n",
       "    <tr>\n",
       "      <th>Marko Livaja</th>\n",
       "      <td>6</td>\n",
       "    </tr>\n",
       "    <tr>\n",
       "      <th>Marcelo Brozovic</th>\n",
       "      <td>6</td>\n",
       "    </tr>\n",
       "    <tr>\n",
       "      <th>Marcos Acuna</th>\n",
       "      <td>6</td>\n",
       "    </tr>\n",
       "    <tr>\n",
       "      <th>Lautaro Martinez</th>\n",
       "      <td>6</td>\n",
       "    </tr>\n",
       "    <tr>\n",
       "      <th>Youssouf Fofana</th>\n",
       "      <td>6</td>\n",
       "    </tr>\n",
       "  </tbody>\n",
       "</table>\n",
       "</div>"
      ],
      "text/plain": [
       "                      appearances\n",
       "player name                      \n",
       "Ousmane Dembele                 7\n",
       "Lionel Messi 🐐                  7\n",
       "Selim Amallah                   7\n",
       "Andrej Kramaric                 7\n",
       "Lovro Majer                     7\n",
       "Rodrigo De Paul                 7\n",
       "Kylian Mbappe                   7\n",
       "Hakim Ziyech                    7\n",
       "Luka Modric                     7\n",
       "Achraf Hakimi                   7\n",
       "Dominik Livakovic               7\n",
       "Mario Pasalic                   7\n",
       "Antoine Griezmann               7\n",
       "Nahuel Molina                   7\n",
       "Ivan Perisic                    7\n",
       "Aurelien Tchouaméni             7\n",
       "Mateo Kovacic                   7\n",
       "Josko Gvardiol                  7\n",
       "Emiliano Martinez               7\n",
       "Youssef En-Nesyri               7\n",
       "Sofiane Boufal                  7\n",
       "Sofyan Amrabat                  7\n",
       "Cristian Romero                 7\n",
       "Azzedine Ounahi                 7\n",
       "Nicolas Otamendi                7\n",
       "Marko Livaja                    6\n",
       "Marcelo Brozovic                6\n",
       "Marcos Acuna                    6\n",
       "Lautaro Martinez                6\n",
       "Youssouf Fofana                 6"
      ]
     },
     "execution_count": 201,
     "metadata": {},
     "output_type": "execute_result"
    }
   ],
   "source": [
    "df.pivot_table(index='player name ',values=' appearances',aggfunc=np.max).sort_values(by=' appearances',ascending=False).head(30)"
   ]
  },
  {
   "attachments": {},
   "cell_type": "markdown",
   "metadata": {},
   "source": [
    "Get The most players scored"
   ]
  },
  {
   "cell_type": "code",
   "execution_count": 207,
   "metadata": {},
   "outputs": [
    {
     "data": {
      "text/html": [
       "<div>\n",
       "<style scoped>\n",
       "    .dataframe tbody tr th:only-of-type {\n",
       "        vertical-align: middle;\n",
       "    }\n",
       "\n",
       "    .dataframe tbody tr th {\n",
       "        vertical-align: top;\n",
       "    }\n",
       "\n",
       "    .dataframe thead th {\n",
       "        text-align: right;\n",
       "    }\n",
       "</style>\n",
       "<table border=\"1\" class=\"dataframe\">\n",
       "  <thead>\n",
       "    <tr style=\"text-align: right;\">\n",
       "      <th></th>\n",
       "      <th>goals scored</th>\n",
       "    </tr>\n",
       "    <tr>\n",
       "      <th>player name</th>\n",
       "      <th></th>\n",
       "    </tr>\n",
       "  </thead>\n",
       "  <tbody>\n",
       "    <tr>\n",
       "      <th>Kylian Mbappe</th>\n",
       "      <td>8</td>\n",
       "    </tr>\n",
       "    <tr>\n",
       "      <th>Lionel Messi 🐐</th>\n",
       "      <td>7</td>\n",
       "    </tr>\n",
       "    <tr>\n",
       "      <th>Olivier Giroud</th>\n",
       "      <td>4</td>\n",
       "    </tr>\n",
       "    <tr>\n",
       "      <th>Cody Gakpo</th>\n",
       "      <td>3</td>\n",
       "    </tr>\n",
       "    <tr>\n",
       "      <th>Alvaro Morata</th>\n",
       "      <td>3</td>\n",
       "    </tr>\n",
       "  </tbody>\n",
       "</table>\n",
       "</div>"
      ],
      "text/plain": [
       "                goals scored \n",
       "player name                  \n",
       "Kylian Mbappe               8\n",
       "Lionel Messi 🐐              7\n",
       "Olivier Giroud              4\n",
       "Cody Gakpo                  3\n",
       "Alvaro Morata               3"
      ]
     },
     "execution_count": 207,
     "metadata": {},
     "output_type": "execute_result"
    }
   ],
   "source": [
    "df.pivot_table(index='player name ',values='goals scored ',aggfunc=np.max).sort_values(by='goals scored ',ascending=False).head(5)"
   ]
  },
  {
   "attachments": {},
   "cell_type": "markdown",
   "metadata": {},
   "source": [
    "Get The most players provided assists"
   ]
  },
  {
   "cell_type": "code",
   "execution_count": 210,
   "metadata": {},
   "outputs": [
    {
     "data": {
      "text/html": [
       "<div>\n",
       "<style scoped>\n",
       "    .dataframe tbody tr th:only-of-type {\n",
       "        vertical-align: middle;\n",
       "    }\n",
       "\n",
       "    .dataframe tbody tr th {\n",
       "        vertical-align: top;\n",
       "    }\n",
       "\n",
       "    .dataframe thead th {\n",
       "        text-align: right;\n",
       "    }\n",
       "</style>\n",
       "<table border=\"1\" class=\"dataframe\">\n",
       "  <thead>\n",
       "    <tr style=\"text-align: right;\">\n",
       "      <th></th>\n",
       "      <th>assists provided</th>\n",
       "    </tr>\n",
       "    <tr>\n",
       "      <th>player name</th>\n",
       "      <th></th>\n",
       "    </tr>\n",
       "  </thead>\n",
       "  <tbody>\n",
       "    <tr>\n",
       "      <th>Harry Kane</th>\n",
       "      <td>3</td>\n",
       "    </tr>\n",
       "    <tr>\n",
       "      <th>Ivan Perisic</th>\n",
       "      <td>3</td>\n",
       "    </tr>\n",
       "    <tr>\n",
       "      <th>Lionel Messi 🐐</th>\n",
       "      <td>3</td>\n",
       "    </tr>\n",
       "    <tr>\n",
       "      <th>Antoine Griezmann</th>\n",
       "      <td>3</td>\n",
       "    </tr>\n",
       "    <tr>\n",
       "      <th>Bruno Fernandes</th>\n",
       "      <td>3</td>\n",
       "    </tr>\n",
       "  </tbody>\n",
       "</table>\n",
       "</div>"
      ],
      "text/plain": [
       "                   assists provided \n",
       "player name                         \n",
       "Harry Kane                         3\n",
       "Ivan Perisic                       3\n",
       "Lionel Messi 🐐                     3\n",
       "Antoine Griezmann                  3\n",
       "Bruno Fernandes                    3"
      ]
     },
     "execution_count": 210,
     "metadata": {},
     "output_type": "execute_result"
    }
   ],
   "source": [
    "df.pivot_table(index='player name ',values='assists provided ',aggfunc=np.sum).sort_values(by='assists provided ',ascending=False).head(5)"
   ]
  },
  {
   "attachments": {},
   "cell_type": "markdown",
   "metadata": {},
   "source": [
    "Get the most players won duels per 90m"
   ]
  },
  {
   "cell_type": "code",
   "execution_count": 216,
   "metadata": {},
   "outputs": [
    {
     "data": {
      "text/html": [
       "<div>\n",
       "<style scoped>\n",
       "    .dataframe tbody tr th:only-of-type {\n",
       "        vertical-align: middle;\n",
       "    }\n",
       "\n",
       "    .dataframe tbody tr th {\n",
       "        vertical-align: top;\n",
       "    }\n",
       "\n",
       "    .dataframe thead th {\n",
       "        text-align: right;\n",
       "    }\n",
       "</style>\n",
       "<table border=\"1\" class=\"dataframe\">\n",
       "  <thead>\n",
       "    <tr style=\"text-align: right;\">\n",
       "      <th></th>\n",
       "      <th>total duels won per 90</th>\n",
       "    </tr>\n",
       "    <tr>\n",
       "      <th>player name</th>\n",
       "      <th></th>\n",
       "    </tr>\n",
       "  </thead>\n",
       "  <tbody>\n",
       "    <tr>\n",
       "      <th>Marcus Thuram</th>\n",
       "      <td>18.49</td>\n",
       "    </tr>\n",
       "    <tr>\n",
       "      <th>Shaq Moore</th>\n",
       "      <td>18.00</td>\n",
       "    </tr>\n",
       "    <tr>\n",
       "      <th>Jack Grealish</th>\n",
       "      <td>17.56</td>\n",
       "    </tr>\n",
       "    <tr>\n",
       "      <th>Eduardo Camavinga</th>\n",
       "      <td>17.48</td>\n",
       "    </tr>\n",
       "    <tr>\n",
       "      <th>Krzysztof Piatek</th>\n",
       "      <td>17.30</td>\n",
       "    </tr>\n",
       "  </tbody>\n",
       "</table>\n",
       "</div>"
      ],
      "text/plain": [
       "                   total duels won per 90\n",
       "player name                              \n",
       "Marcus Thuram                       18.49\n",
       "Shaq Moore                          18.00\n",
       "Jack Grealish                       17.56\n",
       "Eduardo Camavinga                   17.48\n",
       "Krzysztof Piatek                    17.30"
      ]
     },
     "execution_count": 216,
     "metadata": {},
     "output_type": "execute_result"
    }
   ],
   "source": [
    "df.pivot_table(index='player name ',values='total duels won per 90',aggfunc=np.max).sort_values(by='total duels won per 90',ascending=False).head(5)"
   ]
  },
  {
   "attachments": {},
   "cell_type": "markdown",
   "metadata": {},
   "source": [
    "Get the most brand used"
   ]
  },
  {
   "cell_type": "code",
   "execution_count": 218,
   "metadata": {},
   "outputs": [
    {
     "data": {
      "text/plain": [
       "0    Nike\n",
       "Name: brand sponsor/brand used, dtype: object"
      ]
     },
     "execution_count": 218,
     "metadata": {},
     "output_type": "execute_result"
    }
   ],
   "source": [
    "df['brand sponsor/brand used'].mode()"
   ]
  },
  {
   "attachments": {},
   "cell_type": "markdown",
   "metadata": {},
   "source": [
    "Get the most postion has appearances"
   ]
  },
  {
   "cell_type": "code",
   "execution_count": 239,
   "metadata": {},
   "outputs": [
    {
     "data": {
      "text/plain": [
       "<AxesSubplot: xlabel='position'>"
      ]
     },
     "execution_count": 239,
     "metadata": {},
     "output_type": "execute_result"
    },
    {
     "data": {
      "image/png": "[encoded data removed]",
      "text/plain": [
       "<Figure size 432x288 with 1 Axes>"
      ]
     },
     "metadata": {
      "needs_background": "light"
     },
     "output_type": "display_data"
    }
   ],
   "source": [
    "df.pivot_table(index='position',values=' appearances',aggfunc=np.sum).sort_values(by=' appearances',ascending=False).head(5).plot(kind='bar')"
   ]
  },
  {
   "attachments": {},
   "cell_type": "markdown",
   "metadata": {},
   "source": [
    "Top clubs has players appearances"
   ]
  },
  {
   "cell_type": "code",
   "execution_count": 241,
   "metadata": {},
   "outputs": [
    {
     "data": {
      "text/html": [
       "<div>\n",
       "<style scoped>\n",
       "    .dataframe tbody tr th:only-of-type {\n",
       "        vertical-align: middle;\n",
       "    }\n",
       "\n",
       "    .dataframe tbody tr th {\n",
       "        vertical-align: top;\n",
       "    }\n",
       "\n",
       "    .dataframe thead th {\n",
       "        text-align: right;\n",
       "    }\n",
       "</style>\n",
       "<table border=\"1\" class=\"dataframe\">\n",
       "  <thead>\n",
       "    <tr style=\"text-align: right;\">\n",
       "      <th></th>\n",
       "      <th>appearances</th>\n",
       "    </tr>\n",
       "    <tr>\n",
       "      <th>club</th>\n",
       "      <th></th>\n",
       "    </tr>\n",
       "  </thead>\n",
       "  <tbody>\n",
       "    <tr>\n",
       "      <th>Barcelona</th>\n",
       "      <td>57</td>\n",
       "    </tr>\n",
       "    <tr>\n",
       "      <th>Manchester City</th>\n",
       "      <td>55</td>\n",
       "    </tr>\n",
       "    <tr>\n",
       "      <th>Bayern Munich</th>\n",
       "      <td>47</td>\n",
       "    </tr>\n",
       "    <tr>\n",
       "      <th>Real Madrid</th>\n",
       "      <td>46</td>\n",
       "    </tr>\n",
       "    <tr>\n",
       "      <th>Manchester United</th>\n",
       "      <td>46</td>\n",
       "    </tr>\n",
       "  </tbody>\n",
       "</table>\n",
       "</div>"
      ],
      "text/plain": [
       "                    appearances\n",
       "club                           \n",
       "Barcelona                    57\n",
       "Manchester City              55\n",
       "Bayern Munich                47\n",
       "Real Madrid                  46\n",
       "Manchester United            46"
      ]
     },
     "execution_count": 241,
     "metadata": {},
     "output_type": "execute_result"
    }
   ],
   "source": [
    "df.pivot_table(index='club ',values=' appearances',aggfunc=np.sum).sort_values(by=' appearances',ascending=False).head(5)"
   ]
  },
  {
   "attachments": {},
   "cell_type": "markdown",
   "metadata": {},
   "source": [
    "the least clubs has players appearances"
   ]
  },
  {
   "cell_type": "code",
   "execution_count": 242,
   "metadata": {},
   "outputs": [
    {
     "data": {
      "text/html": [
       "<div>\n",
       "<style scoped>\n",
       "    .dataframe tbody tr th:only-of-type {\n",
       "        vertical-align: middle;\n",
       "    }\n",
       "\n",
       "    .dataframe tbody tr th {\n",
       "        vertical-align: top;\n",
       "    }\n",
       "\n",
       "    .dataframe thead th {\n",
       "        text-align: right;\n",
       "    }\n",
       "</style>\n",
       "<table border=\"1\" class=\"dataframe\">\n",
       "  <thead>\n",
       "    <tr style=\"text-align: right;\">\n",
       "      <th></th>\n",
       "      <th>appearances</th>\n",
       "    </tr>\n",
       "    <tr>\n",
       "      <th>club</th>\n",
       "      <th></th>\n",
       "    </tr>\n",
       "  </thead>\n",
       "  <tbody>\n",
       "    <tr>\n",
       "      <th>Minnesota United</th>\n",
       "      <td>0</td>\n",
       "    </tr>\n",
       "    <tr>\n",
       "      <th>Sepahann</th>\n",
       "      <td>0</td>\n",
       "    </tr>\n",
       "    <tr>\n",
       "      <th>Aucas</th>\n",
       "      <td>0</td>\n",
       "    </tr>\n",
       "    <tr>\n",
       "      <th>Seattle Sounders FC</th>\n",
       "      <td>0</td>\n",
       "    </tr>\n",
       "    <tr>\n",
       "      <th>Club Africain</th>\n",
       "      <td>0</td>\n",
       "    </tr>\n",
       "  </tbody>\n",
       "</table>\n",
       "</div>"
      ],
      "text/plain": [
       "                      appearances\n",
       "club                             \n",
       "Minnesota United                0\n",
       "Sepahann                        0\n",
       "Aucas                           0\n",
       "Seattle Sounders FC             0\n",
       "Club Africain                   0"
      ]
     },
     "execution_count": 242,
     "metadata": {},
     "output_type": "execute_result"
    }
   ],
   "source": [
    "df.pivot_table(index='club ',values=' appearances',aggfunc=np.sum).sort_values(by=' appearances',ascending=False).tail(5)"
   ]
  },
  {
   "attachments": {},
   "cell_type": "markdown",
   "metadata": {},
   "source": [
    "Get the no of goals that scored by each position"
   ]
  },
  {
   "cell_type": "code",
   "execution_count": 247,
   "metadata": {},
   "outputs": [
    {
     "data": {
      "text/plain": [
       "array([<AxesSubplot: ylabel='goals scored '>], dtype=object)"
      ]
     },
     "execution_count": 247,
     "metadata": {},
     "output_type": "execute_result"
    },
    {
     "data": {
      "image/png": "[encoded data removed]",
      "text/plain": [
       "<Figure size 432x288 with 1 Axes>"
      ]
     },
     "metadata": {},
     "output_type": "display_data"
    }
   ],
   "source": [
    "df.pivot_table(index='position',values='goals scored ',aggfunc=np.sum).sort_values(by='goals scored ',ascending=False).tail(5).plot(kind='pie',subplots=True)"
   ]
  },
  {
   "attachments": {},
   "cell_type": "markdown",
   "metadata": {},
   "source": [
    "Get The oldest player"
   ]
  },
  {
   "cell_type": "code",
   "execution_count": 276,
   "metadata": {},
   "outputs": [
    {
     "data": {
      "text/plain": [
       "511   1982-09-18\n",
       "Name: player dob, dtype: datetime64[ns]"
      ]
     },
     "execution_count": 276,
     "metadata": {},
     "output_type": "execute_result"
    }
   ],
   "source": [
    "df['player dob'].sort_values(ascending=True).head(1)"
   ]
  },
  {
   "cell_type": "code",
   "execution_count": 279,
   "metadata": {},
   "outputs": [
    {
     "data": {
      "text/html": [
       "<div>\n",
       "<style scoped>\n",
       "    .dataframe tbody tr th:only-of-type {\n",
       "        vertical-align: middle;\n",
       "    }\n",
       "\n",
       "    .dataframe tbody tr th {\n",
       "        vertical-align: top;\n",
       "    }\n",
       "\n",
       "    .dataframe thead th {\n",
       "        text-align: right;\n",
       "    }\n",
       "</style>\n",
       "<table border=\"1\" class=\"dataframe\">\n",
       "  <thead>\n",
       "    <tr style=\"text-align: right;\">\n",
       "      <th></th>\n",
       "      <th>nationality</th>\n",
       "      <th>fifa ranking</th>\n",
       "      <th>national team kit sponsor</th>\n",
       "      <th>position</th>\n",
       "      <th>national team jersey number</th>\n",
       "      <th>player dob</th>\n",
       "      <th>club</th>\n",
       "      <th>player name</th>\n",
       "      <th>appearances</th>\n",
       "      <th>goals scored</th>\n",
       "      <th>assists provided</th>\n",
       "      <th>dribbles per 90</th>\n",
       "      <th>interceptions per 90</th>\n",
       "      <th>tackles per 90</th>\n",
       "      <th>total duels won per 90</th>\n",
       "      <th>save percentage</th>\n",
       "      <th>clean sheets</th>\n",
       "      <th>brand sponsor/brand used</th>\n",
       "    </tr>\n",
       "  </thead>\n",
       "  <tbody>\n",
       "    <tr>\n",
       "      <th>511</th>\n",
       "      <td>Mexico</td>\n",
       "      <td>15</td>\n",
       "      <td>Adidas</td>\n",
       "      <td>GK</td>\n",
       "      <td>1</td>\n",
       "      <td>1982-09-18</td>\n",
       "      <td>Juarez</td>\n",
       "      <td>Alfredo Talavera</td>\n",
       "      <td>0</td>\n",
       "      <td>0</td>\n",
       "      <td>0</td>\n",
       "      <td>0.0</td>\n",
       "      <td>0</td>\n",
       "      <td>0.0</td>\n",
       "      <td>0.0</td>\n",
       "      <td>0</td>\n",
       "      <td>0</td>\n",
       "      <td>Pirma</td>\n",
       "    </tr>\n",
       "  </tbody>\n",
       "</table>\n",
       "</div>"
      ],
      "text/plain": [
       "    nationality   fifa ranking  national team kit sponsor position  \\\n",
       "511      Mexico              15                    Adidas       GK   \n",
       "\n",
       "     national team jersey number player dob   club       player name   \\\n",
       "511                            1 1982-09-18  Juarez  Alfredo Talavera   \n",
       "\n",
       "      appearances  goals scored   assists provided   dribbles per 90  \\\n",
       "511             0              0                  0              0.0   \n",
       "\n",
       "    interceptions per 90  tackles per 90  total duels won per 90  \\\n",
       "511                    0             0.0                     0.0   \n",
       "\n",
       "    save percentage clean sheets brand sponsor/brand used  \n",
       "511               0            0                    Pirma  "
      ]
     },
     "execution_count": 279,
     "metadata": {},
     "output_type": "execute_result"
    }
   ],
   "source": [
    "df[df['player dob'] == '1982-09-18']"
   ]
  },
  {
   "attachments": {},
   "cell_type": "markdown",
   "metadata": {},
   "source": [
    "Get The youngest player"
   ]
  },
  {
   "cell_type": "code",
   "execution_count": 280,
   "metadata": {},
   "outputs": [
    {
     "data": {
      "text/plain": [
       "637   2004-11-20\n",
       "Name: player dob, dtype: datetime64[ns]"
      ]
     },
     "execution_count": 280,
     "metadata": {},
     "output_type": "execute_result"
    }
   ],
   "source": [
    "df['player dob'].sort_values(ascending=True).tail(1)"
   ]
  },
  {
   "cell_type": "code",
   "execution_count": 281,
   "metadata": {},
   "outputs": [
    {
     "data": {
      "text/html": [
       "<div>\n",
       "<style scoped>\n",
       "    .dataframe tbody tr th:only-of-type {\n",
       "        vertical-align: middle;\n",
       "    }\n",
       "\n",
       "    .dataframe tbody tr th {\n",
       "        vertical-align: top;\n",
       "    }\n",
       "\n",
       "    .dataframe thead th {\n",
       "        text-align: right;\n",
       "    }\n",
       "</style>\n",
       "<table border=\"1\" class=\"dataframe\">\n",
       "  <thead>\n",
       "    <tr style=\"text-align: right;\">\n",
       "      <th></th>\n",
       "      <th>nationality</th>\n",
       "      <th>fifa ranking</th>\n",
       "      <th>national team kit sponsor</th>\n",
       "      <th>position</th>\n",
       "      <th>national team jersey number</th>\n",
       "      <th>player dob</th>\n",
       "      <th>club</th>\n",
       "      <th>player name</th>\n",
       "      <th>appearances</th>\n",
       "      <th>goals scored</th>\n",
       "      <th>assists provided</th>\n",
       "      <th>dribbles per 90</th>\n",
       "      <th>interceptions per 90</th>\n",
       "      <th>tackles per 90</th>\n",
       "      <th>total duels won per 90</th>\n",
       "      <th>save percentage</th>\n",
       "      <th>clean sheets</th>\n",
       "      <th>brand sponsor/brand used</th>\n",
       "    </tr>\n",
       "  </thead>\n",
       "  <tbody>\n",
       "    <tr>\n",
       "      <th>637</th>\n",
       "      <td>Germany</td>\n",
       "      <td>14</td>\n",
       "      <td>Adidas</td>\n",
       "      <td>FW</td>\n",
       "      <td>26</td>\n",
       "      <td>2004-11-20</td>\n",
       "      <td>Borussia Dortmund</td>\n",
       "      <td>Youssoufa Moukoko</td>\n",
       "      <td>1</td>\n",
       "      <td>0</td>\n",
       "      <td>0</td>\n",
       "      <td>0.0</td>\n",
       "      <td>0.00</td>\n",
       "      <td>0.0</td>\n",
       "      <td>0.0</td>\n",
       "      <td>0</td>\n",
       "      <td>0</td>\n",
       "      <td>Nike</td>\n",
       "    </tr>\n",
       "  </tbody>\n",
       "</table>\n",
       "</div>"
      ],
      "text/plain": [
       "    nationality   fifa ranking  national team kit sponsor position  \\\n",
       "637      Germany             14                    Adidas       FW   \n",
       "\n",
       "     national team jersey number player dob              club   \\\n",
       "637                           26 2004-11-20  Borussia Dortmund   \n",
       "\n",
       "          player name    appearances  goals scored   assists provided   \\\n",
       "637  Youssoufa Moukoko             1              0                  0   \n",
       "\n",
       "     dribbles per 90 interceptions per 90  tackles per 90  \\\n",
       "637              0.0                 0.00             0.0   \n",
       "\n",
       "     total duels won per 90 save percentage clean sheets  \\\n",
       "637                     0.0               0            0   \n",
       "\n",
       "    brand sponsor/brand used  \n",
       "637                     Nike  "
      ]
     },
     "execution_count": 281,
     "metadata": {},
     "output_type": "execute_result"
    }
   ],
   "source": [
    "df[df['player dob'] == '2004-11-20']"
   ]
  },
  {
   "attachments": {},
   "cell_type": "markdown",
   "metadata": {},
   "source": [
    "Get the co-relation"
   ]
  },
  {
   "cell_type": "code",
   "execution_count": 224,
   "metadata": {},
   "outputs": [
    {
     "name": "stderr",
     "output_type": "stream",
     "text": [
      "C:\\Users\\AS\\AppData\\Local\\Temp\\ipykernel_8928\\658818363.py:1: FutureWarning: The default value of numeric_only in DataFrame.corr is deprecated. In a future version, it will default to False. Select only valid columns or specify the value of numeric_only to silence this warning.\n",
      "  corr = df.corr()\n"
     ]
    }
   ],
   "source": [
    "corr = df.corr()"
   ]
  },
  {
   "cell_type": "code",
   "execution_count": 225,
   "metadata": {},
   "outputs": [
    {
     "data": {
      "text/plain": [
       "<AxesSubplot: >"
      ]
     },
     "execution_count": 225,
     "metadata": {},
     "output_type": "execute_result"
    },
    {
     "data": {
      "image/png": "[encoded data removed]",
      "text/plain": [
       "<Figure size 432x288 with 2 Axes>"
      ]
     },
     "metadata": {
      "needs_background": "light"
     },
     "output_type": "display_data"
    }
   ],
   "source": [
    "sn.heatmap(corr)"
   ]
  },
  {
   "attachments": {},
   "cell_type": "markdown",
   "metadata": {},
   "source": [
    "Get the appearances against goal scored"
   ]
  },
  {
   "cell_type": "code",
   "execution_count": 229,
   "metadata": {},
   "outputs": [
    {
     "data": {
      "text/plain": [
       "<AxesSubplot: xlabel=' appearances', ylabel='goals scored '>"
      ]
     },
     "execution_count": 229,
     "metadata": {},
     "output_type": "execute_result"
    },
    {
     "data": {
      "image/png": "[encoded data removed]",
      "text/plain": [
       "<Figure size 432x288 with 1 Axes>"
      ]
     },
     "metadata": {
      "needs_background": "light"
     },
     "output_type": "display_data"
    }
   ],
   "source": [
    "df.plot(x=' appearances', y='goals scored ', kind='scatter')"
   ]
  },
  {
   "attachments": {},
   "cell_type": "markdown",
   "metadata": {},
   "source": [
    "Get the appearances against kit sponsor"
   ]
  },
  {
   "cell_type": "code",
   "execution_count": 238,
   "metadata": {},
   "outputs": [
    {
     "data": {
      "text/plain": [
       "<AxesSubplot: xlabel=' appearances', ylabel='national team kit sponsor'>"
      ]
     },
     "execution_count": 238,
     "metadata": {},
     "output_type": "execute_result"
    },
    {
     "data": {
      "image/png": "[encoded data removed]",
      "text/plain": [
       "<Figure size 432x288 with 1 Axes>"
      ]
     },
     "metadata": {
      "needs_background": "light"
     },
     "output_type": "display_data"
    }
   ],
   "source": [
    "df.plot(x=' appearances', y= 'national team kit sponsor', kind='scatter')"
   ]
  },
  {
   "attachments": {},
   "cell_type": "markdown",
   "metadata": {},
   "source": [
    "- Save The Final Form Of Our Data"
   ]
  },
  {
   "cell_type": "code",
   "execution_count": 282,
   "metadata": {},
   "outputs": [],
   "source": [
    "df.to_csv('final_data.xlsx')"
   ]
  },
  {
   "cell_type": "code",
   "execution_count": null,
   "metadata": {},
   "outputs": [],
   "source": []
  },
  {
   "attachments": {},
   "cell_type": "markdown",
   "metadata": {},
   "source": [
    "- Visualize Our Data and Get a Final Dashboard in Power BI "
   ]
  },
  {
   "cell_type": "code",
   "execution_count": null,
   "metadata": {},
   "outputs": [],
   "source": []
  }
 ],
 "metadata": {
  "kernelspec": {
   "display_name": "Python 3",
   "language": "python",
   "name": "python3"
  },
  "language_info": {
   "codemirror_mode": {
    "name": "ipython",
    "version": 3
   },
   "file_extension": ".py",
   "mimetype": "text/x-python",
   "name": "python",
   "nbconvert_exporter": "python",
   "pygments_lexer": "ipython3",
   "version": "3.10.6"
  },
  "orig_nbformat": 4,
  "vscode": {
   "interpreter": {
    "hash": "782e44b3a77a7a1c4bcb5df138c01f488e70b61987c9bb22e634cc0094221137"
   }
  }
 },
 "nbformat": 4,
 "nbformat_minor": 2
}
