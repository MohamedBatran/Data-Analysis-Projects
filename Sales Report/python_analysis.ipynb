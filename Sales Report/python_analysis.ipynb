{
 "cells": [
  {
   "attachments": {},
   "cell_type": "markdown",
   "metadata": {},
   "source": [
    "importing packages and data"
   ]
  },
  {
   "cell_type": "code",
   "execution_count": 1,
   "metadata": {},
   "outputs": [],
   "source": [
    "import numpy as np\n",
    "import pandas as pd\n",
    "import matplotlib.pyplot as plt\n",
    "import seaborn as sn"
   ]
  },
  {
   "cell_type": "code",
   "execution_count": 16,
   "metadata": {},
   "outputs": [],
   "source": [
    "df=pd.read_excel('Book3.xlsx')"
   ]
  },
  {
   "attachments": {},
   "cell_type": "markdown",
   "metadata": {},
   "source": [
    "Data explority"
   ]
  },
  {
   "cell_type": "code",
   "execution_count": 17,
   "metadata": {},
   "outputs": [
    {
     "data": {
      "text/html": [
       "<div>\n",
       "<style scoped>\n",
       "    .dataframe tbody tr th:only-of-type {\n",
       "        vertical-align: middle;\n",
       "    }\n",
       "\n",
       "    .dataframe tbody tr th {\n",
       "        vertical-align: top;\n",
       "    }\n",
       "\n",
       "    .dataframe thead th {\n",
       "        text-align: right;\n",
       "    }\n",
       "</style>\n",
       "<table border=\"1\" class=\"dataframe\">\n",
       "  <thead>\n",
       "    <tr style=\"text-align: right;\">\n",
       "      <th></th>\n",
       "      <th>customer_id</th>\n",
       "      <th>customer_name</th>\n",
       "      <th>Email</th>\n",
       "      <th>order_id</th>\n",
       "      <th>order_status</th>\n",
       "      <th>order_date</th>\n",
       "      <th>store_id</th>\n",
       "      <th>store_name</th>\n",
       "      <th>quantity</th>\n",
       "      <th>list_price</th>\n",
       "      <th>product_name</th>\n",
       "      <th>product_id</th>\n",
       "      <th>discount</th>\n",
       "      <th>category_id</th>\n",
       "      <th>category_name</th>\n",
       "      <th>brand_id</th>\n",
       "      <th>brand_name</th>\n",
       "    </tr>\n",
       "  </thead>\n",
       "  <tbody>\n",
       "    <tr>\n",
       "      <th>0</th>\n",
       "      <td>9</td>\n",
       "      <td>Genoveva Baldwin</td>\n",
       "      <td>genoveva.baldwin@msn.com</td>\n",
       "      <td>76</td>\n",
       "      <td>3</td>\n",
       "      <td>2016-02-16</td>\n",
       "      <td>2</td>\n",
       "      <td>Baldwin Bikes</td>\n",
       "      <td>2</td>\n",
       "      <td>1680.99</td>\n",
       "      <td>Surly Straggler 650b - 2016</td>\n",
       "      <td>11</td>\n",
       "      <td>0.10</td>\n",
       "      <td>4</td>\n",
       "      <td>Cyclocross Bicycles</td>\n",
       "      <td>8</td>\n",
       "      <td>Surly</td>\n",
       "    </tr>\n",
       "    <tr>\n",
       "      <th>1</th>\n",
       "      <td>18</td>\n",
       "      <td>Georgetta Hardin</td>\n",
       "      <td>georgetta.hardin@aol.com</td>\n",
       "      <td>1407</td>\n",
       "      <td>3</td>\n",
       "      <td>2018-02-26</td>\n",
       "      <td>2</td>\n",
       "      <td>Baldwin Bikes</td>\n",
       "      <td>2</td>\n",
       "      <td>832.99</td>\n",
       "      <td>Surly Troll Frameset - 2017</td>\n",
       "      <td>36</td>\n",
       "      <td>0.10</td>\n",
       "      <td>6</td>\n",
       "      <td>Mountain Bikes</td>\n",
       "      <td>8</td>\n",
       "      <td>Surly</td>\n",
       "    </tr>\n",
       "    <tr>\n",
       "      <th>2</th>\n",
       "      <td>20</td>\n",
       "      <td>Aleta Shepard</td>\n",
       "      <td>aleta.shepard@aol.com</td>\n",
       "      <td>735</td>\n",
       "      <td>3</td>\n",
       "      <td>2017-02-27</td>\n",
       "      <td>3</td>\n",
       "      <td>Rowlett Bikes</td>\n",
       "      <td>2</td>\n",
       "      <td>1549.00</td>\n",
       "      <td>Surly Straggler - 2016</td>\n",
       "      <td>10</td>\n",
       "      <td>0.07</td>\n",
       "      <td>4</td>\n",
       "      <td>Cyclocross Bicycles</td>\n",
       "      <td>8</td>\n",
       "      <td>Surly</td>\n",
       "    </tr>\n",
       "    <tr>\n",
       "      <th>3</th>\n",
       "      <td>49</td>\n",
       "      <td>Caroll Hays</td>\n",
       "      <td>caroll.hays@yahoo.com</td>\n",
       "      <td>739</td>\n",
       "      <td>4</td>\n",
       "      <td>2017-02-28</td>\n",
       "      <td>2</td>\n",
       "      <td>Baldwin Bikes</td>\n",
       "      <td>1</td>\n",
       "      <td>999.99</td>\n",
       "      <td>Surly Wednesday Frameset - 2016</td>\n",
       "      <td>3</td>\n",
       "      <td>0.20</td>\n",
       "      <td>6</td>\n",
       "      <td>Mountain Bikes</td>\n",
       "      <td>8</td>\n",
       "      <td>Surly</td>\n",
       "    </tr>\n",
       "    <tr>\n",
       "      <th>4</th>\n",
       "      <td>50</td>\n",
       "      <td>Cleotilde Booth</td>\n",
       "      <td>cleotilde.booth@gmail.com</td>\n",
       "      <td>70</td>\n",
       "      <td>3</td>\n",
       "      <td>2016-02-11</td>\n",
       "      <td>3</td>\n",
       "      <td>Rowlett Bikes</td>\n",
       "      <td>2</td>\n",
       "      <td>999.99</td>\n",
       "      <td>Surly Wednesday Frameset - 2016</td>\n",
       "      <td>3</td>\n",
       "      <td>0.05</td>\n",
       "      <td>6</td>\n",
       "      <td>Mountain Bikes</td>\n",
       "      <td>8</td>\n",
       "      <td>Surly</td>\n",
       "    </tr>\n",
       "  </tbody>\n",
       "</table>\n",
       "</div>"
      ],
      "text/plain": [
       "   customer_id     customer_name                      Email  order_id  \\\n",
       "0            9  Genoveva Baldwin   genoveva.baldwin@msn.com        76   \n",
       "1           18  Georgetta Hardin   georgetta.hardin@aol.com      1407   \n",
       "2           20     Aleta Shepard      aleta.shepard@aol.com       735   \n",
       "3           49       Caroll Hays      caroll.hays@yahoo.com       739   \n",
       "4           50   Cleotilde Booth  cleotilde.booth@gmail.com        70   \n",
       "\n",
       "   order_status order_date  store_id     store_name  quantity  list_price  \\\n",
       "0             3 2016-02-16         2  Baldwin Bikes         2     1680.99   \n",
       "1             3 2018-02-26         2  Baldwin Bikes         2      832.99   \n",
       "2             3 2017-02-27         3  Rowlett Bikes         2     1549.00   \n",
       "3             4 2017-02-28         2  Baldwin Bikes         1      999.99   \n",
       "4             3 2016-02-11         3  Rowlett Bikes         2      999.99   \n",
       "\n",
       "                      product_name  product_id  discount  category_id  \\\n",
       "0      Surly Straggler 650b - 2016          11      0.10            4   \n",
       "1      Surly Troll Frameset - 2017          36      0.10            6   \n",
       "2           Surly Straggler - 2016          10      0.07            4   \n",
       "3  Surly Wednesday Frameset - 2016           3      0.20            6   \n",
       "4  Surly Wednesday Frameset - 2016           3      0.05            6   \n",
       "\n",
       "         category_name  brand_id brand_name  \n",
       "0  Cyclocross Bicycles         8      Surly  \n",
       "1       Mountain Bikes         8      Surly  \n",
       "2  Cyclocross Bicycles         8      Surly  \n",
       "3       Mountain Bikes         8      Surly  \n",
       "4       Mountain Bikes         8      Surly  "
      ]
     },
     "execution_count": 17,
     "metadata": {},
     "output_type": "execute_result"
    }
   ],
   "source": [
    "df.head(5)"
   ]
  },
  {
   "cell_type": "code",
   "execution_count": 18,
   "metadata": {},
   "outputs": [
    {
     "name": "stdout",
     "output_type": "stream",
     "text": [
      "<class 'pandas.core.frame.DataFrame'>\n",
      "RangeIndex: 49 entries, 0 to 48\n",
      "Data columns (total 17 columns):\n",
      " #   Column         Non-Null Count  Dtype         \n",
      "---  ------         --------------  -----         \n",
      " 0   customer_id    49 non-null     int64         \n",
      " 1   customer_name  49 non-null     object        \n",
      " 2   Email          49 non-null     object        \n",
      " 3   order_id       49 non-null     int64         \n",
      " 4   order_status   49 non-null     int64         \n",
      " 5   order_date     49 non-null     datetime64[ns]\n",
      " 6   store_id       49 non-null     int64         \n",
      " 7   store_name     49 non-null     object        \n",
      " 8   quantity       49 non-null     int64         \n",
      " 9   list_price     49 non-null     float64       \n",
      " 10  product_name   49 non-null     object        \n",
      " 11  product_id     49 non-null     int64         \n",
      " 12  discount       49 non-null     float64       \n",
      " 13  category_id    49 non-null     int64         \n",
      " 14  category_name  49 non-null     object        \n",
      " 15  brand_id       49 non-null     int64         \n",
      " 16  brand_name     49 non-null     object        \n",
      "dtypes: datetime64[ns](1), float64(2), int64(8), object(6)\n",
      "memory usage: 6.6+ KB\n"
     ]
    }
   ],
   "source": [
    "df.info()"
   ]
  },
  {
   "cell_type": "code",
   "execution_count": 24,
   "metadata": {},
   "outputs": [
    {
     "data": {
      "text/plain": [
       "count    49.000000\n",
       "mean      1.448980\n",
       "std       0.502545\n",
       "min       1.000000\n",
       "25%       1.000000\n",
       "50%       1.000000\n",
       "75%       2.000000\n",
       "max       2.000000\n",
       "Name: quantity, dtype: float64"
      ]
     },
     "execution_count": 24,
     "metadata": {},
     "output_type": "execute_result"
    }
   ],
   "source": [
    "df['quantity'].describe()"
   ]
  },
  {
   "cell_type": "code",
   "execution_count": 25,
   "metadata": {},
   "outputs": [
    {
     "data": {
      "text/plain": [
       "count      49.000000\n",
       "mean     1169.461020\n",
       "std       560.131401\n",
       "min       469.990000\n",
       "25%       749.990000\n",
       "50%       999.990000\n",
       "75%      1549.000000\n",
       "max      2499.990000\n",
       "Name: list_price, dtype: float64"
      ]
     },
     "execution_count": 25,
     "metadata": {},
     "output_type": "execute_result"
    }
   ],
   "source": [
    "df['list_price'].describe()"
   ]
  },
  {
   "cell_type": "code",
   "execution_count": 26,
   "metadata": {},
   "outputs": [
    {
     "data": {
      "text/plain": [
       "count    49.000000\n",
       "mean      0.105918\n",
       "std       0.057115\n",
       "min       0.050000\n",
       "25%       0.070000\n",
       "50%       0.100000\n",
       "75%       0.100000\n",
       "max       0.200000\n",
       "Name: discount, dtype: float64"
      ]
     },
     "execution_count": 26,
     "metadata": {},
     "output_type": "execute_result"
    }
   ],
   "source": [
    "df['discount'].describe()"
   ]
  },
  {
   "cell_type": "code",
   "execution_count": 27,
   "metadata": {},
   "outputs": [
    {
     "data": {
      "text/plain": [
       "0"
      ]
     },
     "execution_count": 27,
     "metadata": {},
     "output_type": "execute_result"
    }
   ],
   "source": [
    "df.duplicated().sum()"
   ]
  },
  {
   "cell_type": "code",
   "execution_count": 28,
   "metadata": {},
   "outputs": [
    {
     "data": {
      "text/plain": [
       "customer_id      0\n",
       "customer_name    0\n",
       "Email            0\n",
       "order_id         0\n",
       "order_status     0\n",
       "order_date       0\n",
       "store_id         0\n",
       "store_name       0\n",
       "quantity         0\n",
       "list_price       0\n",
       "product_name     0\n",
       "product_id       0\n",
       "discount         0\n",
       "category_id      0\n",
       "category_name    0\n",
       "brand_id         0\n",
       "brand_name       0\n",
       "dtype: int64"
      ]
     },
     "execution_count": 28,
     "metadata": {},
     "output_type": "execute_result"
    }
   ],
   "source": [
    "df.isnull().sum()"
   ]
  },
  {
   "cell_type": "code",
   "execution_count": 29,
   "metadata": {},
   "outputs": [
    {
     "data": {
      "text/html": [
       "<div>\n",
       "<style scoped>\n",
       "    .dataframe tbody tr th:only-of-type {\n",
       "        vertical-align: middle;\n",
       "    }\n",
       "\n",
       "    .dataframe tbody tr th {\n",
       "        vertical-align: top;\n",
       "    }\n",
       "\n",
       "    .dataframe thead th {\n",
       "        text-align: right;\n",
       "    }\n",
       "</style>\n",
       "<table border=\"1\" class=\"dataframe\">\n",
       "  <thead>\n",
       "    <tr style=\"text-align: right;\">\n",
       "      <th></th>\n",
       "      <th>customer_id</th>\n",
       "      <th>customer_name</th>\n",
       "      <th>Email</th>\n",
       "      <th>order_id</th>\n",
       "      <th>order_status</th>\n",
       "      <th>order_date</th>\n",
       "      <th>store_id</th>\n",
       "      <th>store_name</th>\n",
       "      <th>quantity</th>\n",
       "      <th>list_price</th>\n",
       "      <th>product_name</th>\n",
       "      <th>product_id</th>\n",
       "      <th>discount</th>\n",
       "      <th>category_id</th>\n",
       "      <th>category_name</th>\n",
       "      <th>brand_id</th>\n",
       "      <th>brand_name</th>\n",
       "    </tr>\n",
       "  </thead>\n",
       "  <tbody>\n",
       "    <tr>\n",
       "      <th>18</th>\n",
       "      <td>414</td>\n",
       "      <td>Romaine Haley</td>\n",
       "      <td>romaine.haley@aol.com</td>\n",
       "      <td>90</td>\n",
       "      <td>4</td>\n",
       "      <td>2016-02-23</td>\n",
       "      <td>2</td>\n",
       "      <td>Baldwin Bikes</td>\n",
       "      <td>1</td>\n",
       "      <td>469.99</td>\n",
       "      <td>Surly Ice Cream Truck Frameset - 2016</td>\n",
       "      <td>6</td>\n",
       "      <td>0.07</td>\n",
       "      <td>6</td>\n",
       "      <td>Mountain Bikes</td>\n",
       "      <td>8</td>\n",
       "      <td>Surly</td>\n",
       "    </tr>\n",
       "    <tr>\n",
       "      <th>44</th>\n",
       "      <td>1328</td>\n",
       "      <td>Cindie Franklin</td>\n",
       "      <td>cindie.franklin@yahoo.com</td>\n",
       "      <td>93</td>\n",
       "      <td>4</td>\n",
       "      <td>2016-02-26</td>\n",
       "      <td>1</td>\n",
       "      <td>Santa Cruz Bikes</td>\n",
       "      <td>2</td>\n",
       "      <td>1549.00</td>\n",
       "      <td>Surly Straggler - 2016</td>\n",
       "      <td>10</td>\n",
       "      <td>0.07</td>\n",
       "      <td>4</td>\n",
       "      <td>Cyclocross Bicycles</td>\n",
       "      <td>8</td>\n",
       "      <td>Surly</td>\n",
       "    </tr>\n",
       "    <tr>\n",
       "      <th>6</th>\n",
       "      <td>79</td>\n",
       "      <td>Ashanti Parks</td>\n",
       "      <td>ashanti.parks@hotmail.com</td>\n",
       "      <td>707</td>\n",
       "      <td>4</td>\n",
       "      <td>2017-02-09</td>\n",
       "      <td>2</td>\n",
       "      <td>Baldwin Bikes</td>\n",
       "      <td>2</td>\n",
       "      <td>1680.99</td>\n",
       "      <td>Surly Straggler 650b - 2016</td>\n",
       "      <td>11</td>\n",
       "      <td>0.10</td>\n",
       "      <td>4</td>\n",
       "      <td>Cyclocross Bicycles</td>\n",
       "      <td>8</td>\n",
       "      <td>Surly</td>\n",
       "    </tr>\n",
       "    <tr>\n",
       "      <th>26</th>\n",
       "      <td>648</td>\n",
       "      <td>Catrice Hicks</td>\n",
       "      <td>catrice.hicks@yahoo.com</td>\n",
       "      <td>91</td>\n",
       "      <td>4</td>\n",
       "      <td>2016-02-25</td>\n",
       "      <td>1</td>\n",
       "      <td>Santa Cruz Bikes</td>\n",
       "      <td>1</td>\n",
       "      <td>1680.99</td>\n",
       "      <td>Surly Straggler 650b - 2016</td>\n",
       "      <td>11</td>\n",
       "      <td>0.10</td>\n",
       "      <td>4</td>\n",
       "      <td>Cyclocross Bicycles</td>\n",
       "      <td>8</td>\n",
       "      <td>Surly</td>\n",
       "    </tr>\n",
       "    <tr>\n",
       "      <th>45</th>\n",
       "      <td>1352</td>\n",
       "      <td>Dorothea Miranda</td>\n",
       "      <td>dorothea.miranda@aol.com</td>\n",
       "      <td>702</td>\n",
       "      <td>4</td>\n",
       "      <td>2017-02-08</td>\n",
       "      <td>1</td>\n",
       "      <td>Santa Cruz Bikes</td>\n",
       "      <td>2</td>\n",
       "      <td>999.99</td>\n",
       "      <td>Surly Wednesday Frameset - 2016</td>\n",
       "      <td>3</td>\n",
       "      <td>0.07</td>\n",
       "      <td>6</td>\n",
       "      <td>Mountain Bikes</td>\n",
       "      <td>8</td>\n",
       "      <td>Surly</td>\n",
       "    </tr>\n",
       "  </tbody>\n",
       "</table>\n",
       "</div>"
      ],
      "text/plain": [
       "    customer_id     customer_name                      Email  order_id  \\\n",
       "18          414     Romaine Haley      romaine.haley@aol.com        90   \n",
       "44         1328   Cindie Franklin  cindie.franklin@yahoo.com        93   \n",
       "6            79     Ashanti Parks  ashanti.parks@hotmail.com       707   \n",
       "26          648     Catrice Hicks    catrice.hicks@yahoo.com        91   \n",
       "45         1352  Dorothea Miranda   dorothea.miranda@aol.com       702   \n",
       "\n",
       "    order_status order_date  store_id        store_name  quantity  list_price  \\\n",
       "18             4 2016-02-23         2     Baldwin Bikes         1      469.99   \n",
       "44             4 2016-02-26         1  Santa Cruz Bikes         2     1549.00   \n",
       "6              4 2017-02-09         2     Baldwin Bikes         2     1680.99   \n",
       "26             4 2016-02-25         1  Santa Cruz Bikes         1     1680.99   \n",
       "45             4 2017-02-08         1  Santa Cruz Bikes         2      999.99   \n",
       "\n",
       "                             product_name  product_id  discount  category_id  \\\n",
       "18  Surly Ice Cream Truck Frameset - 2016           6      0.07            6   \n",
       "44                 Surly Straggler - 2016          10      0.07            4   \n",
       "6             Surly Straggler 650b - 2016          11      0.10            4   \n",
       "26            Surly Straggler 650b - 2016          11      0.10            4   \n",
       "45        Surly Wednesday Frameset - 2016           3      0.07            6   \n",
       "\n",
       "          category_name  brand_id brand_name  \n",
       "18       Mountain Bikes         8      Surly  \n",
       "44  Cyclocross Bicycles         8      Surly  \n",
       "6   Cyclocross Bicycles         8      Surly  \n",
       "26  Cyclocross Bicycles         8      Surly  \n",
       "45       Mountain Bikes         8      Surly  "
      ]
     },
     "execution_count": 29,
     "metadata": {},
     "output_type": "execute_result"
    }
   ],
   "source": [
    "df.sample(5)"
   ]
  },
  {
   "cell_type": "code",
   "execution_count": 56,
   "metadata": {},
   "outputs": [
    {
     "name": "stdout",
     "output_type": "stream",
     "text": [
      "1169.46\n",
      "469.99\n",
      "2499.99\n"
     ]
    },
    {
     "data": {
      "text/plain": [
       "0    999.99\n",
       "Name: list_price, dtype: float64"
      ]
     },
     "execution_count": 56,
     "metadata": {},
     "output_type": "execute_result"
    }
   ],
   "source": [
    "print(round(df['list_price'].mean(),2))\n",
    "print(round(df['list_price'].min(),2))\n",
    "print(round(df['list_price'].max(),2))\n",
    "round(df['list_price'].mode(),2)"
   ]
  },
  {
   "cell_type": "code",
   "execution_count": 57,
   "metadata": {},
   "outputs": [
    {
     "data": {
      "text/plain": [
       "57303.59"
      ]
     },
     "execution_count": 57,
     "metadata": {},
     "output_type": "execute_result"
    }
   ],
   "source": [
    "df['list_price'].sum()"
   ]
  },
  {
   "cell_type": "code",
   "execution_count": 81,
   "metadata": {},
   "outputs": [
    {
     "name": "stdout",
     "output_type": "stream",
     "text": [
      "the highest income for a store =  49\n"
     ]
    },
    {
     "data": {
      "text/plain": [
       "Series([], Name: store_name, dtype: object)"
      ]
     },
     "execution_count": 81,
     "metadata": {},
     "output_type": "execute_result"
    }
   ],
   "source": [
    "# What is the highest income for a store\n",
    "high_in_sto=df['list_price'].sum()\n",
    "print(\"the highest income for a store = \", high_in_sto)\n",
    "df[df['list_price']==high_in_sto]['store_name']"
   ]
  },
  {
   "cell_type": "code",
   "execution_count": 82,
   "metadata": {},
   "outputs": [
    {
     "data": {
      "text/plain": [
       "999.99     14\n",
       "469.99     11\n",
       "1549.00     8\n",
       "1680.99     7\n",
       "2499.99     3\n",
       "749.99      2\n",
       "1632.99     2\n",
       "832.99      1\n",
       "875.99      1\n",
       "Name: list_price, dtype: int64"
      ]
     },
     "execution_count": 82,
     "metadata": {},
     "output_type": "execute_result"
    }
   ],
   "source": [
    "df['list_price'].value_counts()"
   ]
  },
  {
   "cell_type": "code",
   "execution_count": 83,
   "metadata": {},
   "outputs": [
    {
     "data": {
      "text/plain": [
       "array([1680.99,  832.99, 1549.  ,  999.99, 2499.99,  469.99,  749.99,\n",
       "        875.99, 1632.99])"
      ]
     },
     "execution_count": 83,
     "metadata": {},
     "output_type": "execute_result"
    }
   ],
   "source": [
    "df['list_price'].unique()"
   ]
  },
  {
   "cell_type": "code",
   "execution_count": 84,
   "metadata": {},
   "outputs": [
    {
     "data": {
      "text/plain": [
       "9"
      ]
     },
     "execution_count": 84,
     "metadata": {},
     "output_type": "execute_result"
    }
   ],
   "source": [
    "df['list_price'].nunique()"
   ]
  },
  {
   "cell_type": "code",
   "execution_count": 124,
   "metadata": {},
   "outputs": [
    {
     "data": {
      "text/plain": [
       "count      49.000000\n",
       "mean     1169.461020\n",
       "std       560.131401\n",
       "min       469.990000\n",
       "25%       749.990000\n",
       "50%       999.990000\n",
       "75%      1549.000000\n",
       "max      2499.990000\n",
       "Name: list_price, dtype: float64"
      ]
     },
     "execution_count": 124,
     "metadata": {},
     "output_type": "execute_result"
    }
   ],
   "source": [
    "df['list_price'].describe()"
   ]
  },
  {
   "cell_type": "code",
   "execution_count": 125,
   "metadata": {},
   "outputs": [
    {
     "data": {
      "text/plain": [
       "count    49.000000\n",
       "mean      1.448980\n",
       "std       0.502545\n",
       "min       1.000000\n",
       "25%       1.000000\n",
       "50%       1.000000\n",
       "75%       2.000000\n",
       "max       2.000000\n",
       "Name: quantity, dtype: float64"
      ]
     },
     "execution_count": 125,
     "metadata": {},
     "output_type": "execute_result"
    }
   ],
   "source": [
    "df['quantity'].describe()"
   ]
  },
  {
   "cell_type": "code",
   "execution_count": 127,
   "metadata": {},
   "outputs": [
    {
     "data": {
      "text/plain": [
       "49"
      ]
     },
     "execution_count": 127,
     "metadata": {},
     "output_type": "execute_result"
    }
   ],
   "source": [
    "df['quantity'].count()"
   ]
  },
  {
   "cell_type": "code",
   "execution_count": 128,
   "metadata": {},
   "outputs": [
    {
     "data": {
      "text/plain": [
       "71"
      ]
     },
     "execution_count": 128,
     "metadata": {},
     "output_type": "execute_result"
    }
   ],
   "source": [
    "df['quantity'].sum()"
   ]
  },
  {
   "cell_type": "code",
   "execution_count": 129,
   "metadata": {},
   "outputs": [
    {
     "data": {
      "text/plain": [
       "1    27\n",
       "2    22\n",
       "Name: quantity, dtype: int64"
      ]
     },
     "execution_count": 129,
     "metadata": {},
     "output_type": "execute_result"
    }
   ],
   "source": [
    "df['quantity'].value_counts()"
   ]
  },
  {
   "cell_type": "code",
   "execution_count": 138,
   "metadata": {},
   "outputs": [
    {
     "data": {
      "text/plain": [
       "2"
      ]
     },
     "execution_count": 138,
     "metadata": {},
     "output_type": "execute_result"
    }
   ],
   "source": [
    "df['quantity'].nunique()"
   ]
  },
  {
   "cell_type": "code",
   "execution_count": 139,
   "metadata": {},
   "outputs": [
    {
     "data": {
      "text/plain": [
       "array([2, 1], dtype=int64)"
      ]
     },
     "execution_count": 139,
     "metadata": {},
     "output_type": "execute_result"
    }
   ],
   "source": [
    "df['quantity'].unique()"
   ]
  },
  {
   "cell_type": "code",
   "execution_count": 133,
   "metadata": {},
   "outputs": [
    {
     "data": {
      "text/plain": [
       "count    49.000000\n",
       "mean      0.105918\n",
       "std       0.057115\n",
       "min       0.050000\n",
       "25%       0.070000\n",
       "50%       0.100000\n",
       "75%       0.100000\n",
       "max       0.200000\n",
       "Name: discount, dtype: float64"
      ]
     },
     "execution_count": 133,
     "metadata": {},
     "output_type": "execute_result"
    }
   ],
   "source": [
    "df['discount'].describe()"
   ]
  },
  {
   "cell_type": "code",
   "execution_count": 134,
   "metadata": {},
   "outputs": [
    {
     "data": {
      "text/plain": [
       "5.19"
      ]
     },
     "execution_count": 134,
     "metadata": {},
     "output_type": "execute_result"
    }
   ],
   "source": [
    "df['discount'].sum()"
   ]
  },
  {
   "cell_type": "code",
   "execution_count": 135,
   "metadata": {},
   "outputs": [
    {
     "data": {
      "text/plain": [
       "0.10    14\n",
       "0.07    12\n",
       "0.20    12\n",
       "0.05    11\n",
       "Name: discount, dtype: int64"
      ]
     },
     "execution_count": 135,
     "metadata": {},
     "output_type": "execute_result"
    }
   ],
   "source": [
    "df['discount'].value_counts()"
   ]
  },
  {
   "cell_type": "code",
   "execution_count": 136,
   "metadata": {},
   "outputs": [
    {
     "data": {
      "text/plain": [
       "4"
      ]
     },
     "execution_count": 136,
     "metadata": {},
     "output_type": "execute_result"
    }
   ],
   "source": [
    "df['discount'].nunique()"
   ]
  },
  {
   "cell_type": "code",
   "execution_count": 137,
   "metadata": {},
   "outputs": [
    {
     "data": {
      "text/plain": [
       "array([0.1 , 0.07, 0.2 , 0.05])"
      ]
     },
     "execution_count": 137,
     "metadata": {},
     "output_type": "execute_result"
    }
   ],
   "source": [
    "df['discount'].unique()"
   ]
  },
  {
   "attachments": {},
   "cell_type": "markdown",
   "metadata": {},
   "source": [
    "data exploring and analysis "
   ]
  },
  {
   "attachments": {},
   "cell_type": "markdown",
   "metadata": {},
   "source": [
    "categories"
   ]
  },
  {
   "cell_type": "code",
   "execution_count": 93,
   "metadata": {},
   "outputs": [
    {
     "data": {
      "text/plain": [
       "0     Cyclocross Bicycles\n",
       "1          Mountain Bikes\n",
       "2     Cyclocross Bicycles\n",
       "3          Mountain Bikes\n",
       "4          Mountain Bikes\n",
       "5          Mountain Bikes\n",
       "6     Cyclocross Bicycles\n",
       "7          Mountain Bikes\n",
       "8          Mountain Bikes\n",
       "9     Cyclocross Bicycles\n",
       "10         Mountain Bikes\n",
       "11             Road Bikes\n",
       "12    Cyclocross Bicycles\n",
       "13         Mountain Bikes\n",
       "14         Mountain Bikes\n",
       "15         Mountain Bikes\n",
       "16         Mountain Bikes\n",
       "17         Mountain Bikes\n",
       "18         Mountain Bikes\n",
       "19         Mountain Bikes\n",
       "20    Cyclocross Bicycles\n",
       "21         Mountain Bikes\n",
       "22         Mountain Bikes\n",
       "23         Mountain Bikes\n",
       "24         Mountain Bikes\n",
       "25         Mountain Bikes\n",
       "26    Cyclocross Bicycles\n",
       "27         Mountain Bikes\n",
       "28         Mountain Bikes\n",
       "29             Road Bikes\n",
       "30         Mountain Bikes\n",
       "31         Mountain Bikes\n",
       "32    Cyclocross Bicycles\n",
       "33         Mountain Bikes\n",
       "34         Mountain Bikes\n",
       "35    Cyclocross Bicycles\n",
       "36         Mountain Bikes\n",
       "37    Cyclocross Bicycles\n",
       "38    Cyclocross Bicycles\n",
       "39    Cyclocross Bicycles\n",
       "40         Mountain Bikes\n",
       "41    Cyclocross Bicycles\n",
       "42         Mountain Bikes\n",
       "43         Mountain Bikes\n",
       "44    Cyclocross Bicycles\n",
       "45         Mountain Bikes\n",
       "46             Road Bikes\n",
       "47         Mountain Bikes\n",
       "48    Cyclocross Bicycles\n",
       "Name: category_name, dtype: object"
      ]
     },
     "execution_count": 93,
     "metadata": {},
     "output_type": "execute_result"
    }
   ],
   "source": [
    "df['category_name']"
   ]
  },
  {
   "cell_type": "code",
   "execution_count": 95,
   "metadata": {},
   "outputs": [
    {
     "data": {
      "text/plain": [
       "array(['Cyclocross Bicycles', 'Mountain Bikes', 'Road Bikes'],\n",
       "      dtype=object)"
      ]
     },
     "execution_count": 95,
     "metadata": {},
     "output_type": "execute_result"
    }
   ],
   "source": [
    "df['category_name'].unique()"
   ]
  },
  {
   "cell_type": "code",
   "execution_count": 96,
   "metadata": {},
   "outputs": [
    {
     "data": {
      "text/plain": [
       "3"
      ]
     },
     "execution_count": 96,
     "metadata": {},
     "output_type": "execute_result"
    }
   ],
   "source": [
    "df['category_name'].nunique()"
   ]
  },
  {
   "cell_type": "code",
   "execution_count": 97,
   "metadata": {},
   "outputs": [
    {
     "name": "stdout",
     "output_type": "stream",
     "text": [
      "the lowest price for a category =  469.99\n"
     ]
    },
    {
     "data": {
      "text/plain": [
       "8     Mountain Bikes\n",
       "10    Mountain Bikes\n",
       "13    Mountain Bikes\n",
       "16    Mountain Bikes\n",
       "18    Mountain Bikes\n",
       "21    Mountain Bikes\n",
       "25    Mountain Bikes\n",
       "27    Mountain Bikes\n",
       "28    Mountain Bikes\n",
       "30    Mountain Bikes\n",
       "31    Mountain Bikes\n",
       "Name: category_name, dtype: object"
      ]
     },
     "execution_count": 97,
     "metadata": {},
     "output_type": "execute_result"
    }
   ],
   "source": [
    "# What is the lowest price for a category\n",
    "minprice_category=df['list_price'].min()\n",
    "print(\"the lowest price for a category = \", minprice_category)\n",
    "df[df['list_price']==minprice_category]['category_name']"
   ]
  },
  {
   "cell_type": "code",
   "execution_count": 98,
   "metadata": {},
   "outputs": [
    {
     "name": "stdout",
     "output_type": "stream",
     "text": [
      "the lowest price for a category =  2499.99\n"
     ]
    },
    {
     "data": {
      "text/plain": [
       "7     Mountain Bikes\n",
       "14    Mountain Bikes\n",
       "40    Mountain Bikes\n",
       "Name: category_name, dtype: object"
      ]
     },
     "execution_count": 98,
     "metadata": {},
     "output_type": "execute_result"
    }
   ],
   "source": [
    "# What is the highest price for a category\n",
    "maxprice_category=df['list_price'].max()\n",
    "print(\"the lowest price for a category = \", maxprice_category)\n",
    "df[df['list_price']==maxprice_category]['category_name']"
   ]
  },
  {
   "cell_type": "code",
   "execution_count": 101,
   "metadata": {},
   "outputs": [
    {
     "name": "stdout",
     "output_type": "stream",
     "text": [
      "the lowest price for a category =  1\n"
     ]
    },
    {
     "data": {
      "text/plain": [
       "3          Mountain Bikes\n",
       "7          Mountain Bikes\n",
       "11             Road Bikes\n",
       "13         Mountain Bikes\n",
       "14         Mountain Bikes\n",
       "15         Mountain Bikes\n",
       "16         Mountain Bikes\n",
       "18         Mountain Bikes\n",
       "19         Mountain Bikes\n",
       "21         Mountain Bikes\n",
       "22         Mountain Bikes\n",
       "23         Mountain Bikes\n",
       "25         Mountain Bikes\n",
       "26    Cyclocross Bicycles\n",
       "27         Mountain Bikes\n",
       "29             Road Bikes\n",
       "32    Cyclocross Bicycles\n",
       "33         Mountain Bikes\n",
       "34         Mountain Bikes\n",
       "35    Cyclocross Bicycles\n",
       "36         Mountain Bikes\n",
       "38    Cyclocross Bicycles\n",
       "42         Mountain Bikes\n",
       "43         Mountain Bikes\n",
       "46             Road Bikes\n",
       "47         Mountain Bikes\n",
       "48    Cyclocross Bicycles\n",
       "Name: category_name, dtype: object"
      ]
     },
     "execution_count": 101,
     "metadata": {},
     "output_type": "execute_result"
    }
   ],
   "source": [
    "# What is the lowest quantity sold for a category\n",
    "minquant_category=df['quantity'].min()\n",
    "print(\"the lowest quantites that sold for a category = \", minquant_category)\n",
    "df[df['quantity']==minquant_category]['category_name']"
   ]
  },
  {
   "cell_type": "code",
   "execution_count": 102,
   "metadata": {},
   "outputs": [
    {
     "name": "stdout",
     "output_type": "stream",
     "text": [
      "the highest quantites that sold for a category =  2\n"
     ]
    },
    {
     "data": {
      "text/plain": [
       "0     Cyclocross Bicycles\n",
       "1          Mountain Bikes\n",
       "2     Cyclocross Bicycles\n",
       "4          Mountain Bikes\n",
       "5          Mountain Bikes\n",
       "6     Cyclocross Bicycles\n",
       "8          Mountain Bikes\n",
       "9     Cyclocross Bicycles\n",
       "10         Mountain Bikes\n",
       "12    Cyclocross Bicycles\n",
       "17         Mountain Bikes\n",
       "20    Cyclocross Bicycles\n",
       "24         Mountain Bikes\n",
       "28         Mountain Bikes\n",
       "30         Mountain Bikes\n",
       "31         Mountain Bikes\n",
       "37    Cyclocross Bicycles\n",
       "39    Cyclocross Bicycles\n",
       "40         Mountain Bikes\n",
       "41    Cyclocross Bicycles\n",
       "44    Cyclocross Bicycles\n",
       "45         Mountain Bikes\n",
       "Name: category_name, dtype: object"
      ]
     },
     "execution_count": 102,
     "metadata": {},
     "output_type": "execute_result"
    }
   ],
   "source": [
    "# What is the highest quantity sold for a category\n",
    "maxquant_category=df['quantity'].max()\n",
    "print(\"the highest quantites that sold for a category = \", maxquant_category)\n",
    "df[df['quantity']==maxquant_category]['category_name']"
   ]
  },
  {
   "cell_type": "code",
   "execution_count": 103,
   "metadata": {},
   "outputs": [
    {
     "name": "stdout",
     "output_type": "stream",
     "text": [
      "the lowest discount that offerd on a category =  0.05\n"
     ]
    },
    {
     "data": {
      "text/plain": [
       "4          Mountain Bikes\n",
       "5          Mountain Bikes\n",
       "7          Mountain Bikes\n",
       "14         Mountain Bikes\n",
       "17         Mountain Bikes\n",
       "29             Road Bikes\n",
       "33         Mountain Bikes\n",
       "39    Cyclocross Bicycles\n",
       "40         Mountain Bikes\n",
       "47         Mountain Bikes\n",
       "48    Cyclocross Bicycles\n",
       "Name: category_name, dtype: object"
      ]
     },
     "execution_count": 103,
     "metadata": {},
     "output_type": "execute_result"
    }
   ],
   "source": [
    "# What is the lowest quantity sold for a category\n",
    "mindiscount_category=df['discount'].min()\n",
    "print(\"the lowest discount that offerd on a category = \", mindiscount_category)\n",
    "df[df['discount']==mindiscount_category]['category_name']"
   ]
  },
  {
   "cell_type": "code",
   "execution_count": 105,
   "metadata": {},
   "outputs": [
    {
     "name": "stdout",
     "output_type": "stream",
     "text": [
      "the highest discount that offerd on a category =  0.2\n"
     ]
    },
    {
     "data": {
      "text/plain": [
       "3          Mountain Bikes\n",
       "9     Cyclocross Bicycles\n",
       "10         Mountain Bikes\n",
       "12    Cyclocross Bicycles\n",
       "20    Cyclocross Bicycles\n",
       "22         Mountain Bikes\n",
       "25         Mountain Bikes\n",
       "32    Cyclocross Bicycles\n",
       "34         Mountain Bikes\n",
       "38    Cyclocross Bicycles\n",
       "41    Cyclocross Bicycles\n",
       "46             Road Bikes\n",
       "Name: category_name, dtype: object"
      ]
     },
     "execution_count": 105,
     "metadata": {},
     "output_type": "execute_result"
    }
   ],
   "source": [
    "# What is the highest quantity sold for a category\n",
    "maxdiscount_category=df['discount'].max()\n",
    "print(\"the highest discount that offerd on a category = \", maxdiscount_category)\n",
    "df[df['discount']==maxdiscount_category]['category_name']"
   ]
  },
  {
   "cell_type": "code",
   "execution_count": 140,
   "metadata": {},
   "outputs": [
    {
     "data": {
      "text/plain": [
       "Mountain Bikes         31\n",
       "Cyclocross Bicycles    15\n",
       "Road Bikes              3\n",
       "Name: category_name, dtype: int64"
      ]
     },
     "execution_count": 140,
     "metadata": {},
     "output_type": "execute_result"
    }
   ],
   "source": [
    "# top 5 categories\n",
    "df['category_name'].value_counts().head()"
   ]
  },
  {
   "cell_type": "code",
   "execution_count": 142,
   "metadata": {},
   "outputs": [
    {
     "data": {
      "text/plain": [
       "Mountain Bikes         31\n",
       "Cyclocross Bicycles    15\n",
       "Road Bikes              3\n",
       "Name: category_name, dtype: int64"
      ]
     },
     "execution_count": 142,
     "metadata": {},
     "output_type": "execute_result"
    }
   ],
   "source": [
    "# buttom 5 categories\n",
    "df['category_name'].value_counts().tail()\n"
   ]
  },
  {
   "attachments": {},
   "cell_type": "markdown",
   "metadata": {},
   "source": [
    "Poducts"
   ]
  },
  {
   "cell_type": "code",
   "execution_count": 112,
   "metadata": {},
   "outputs": [
    {
     "name": "stdout",
     "output_type": "stream",
     "text": [
      "the highest price for a product =  2499.99\n"
     ]
    },
    {
     "data": {
      "text/plain": [
       "7     Surly Karate Monkey 27.5+ Frameset - 2017\n",
       "14    Surly Karate Monkey 27.5+ Frameset - 2017\n",
       "40    Surly Karate Monkey 27.5+ Frameset - 2017\n",
       "Name: product_name, dtype: object"
      ]
     },
     "execution_count": 112,
     "metadata": {},
     "output_type": "execute_result"
    }
   ],
   "source": [
    "# What is the highest price for a product\n",
    "maxprice=df['list_price'].max()\n",
    "print(\"the highest price for a product = \", maxprice)\n",
    "df[df['list_price']==maxprice]['product_name']"
   ]
  },
  {
   "cell_type": "code",
   "execution_count": 113,
   "metadata": {},
   "outputs": [
    {
     "name": "stdout",
     "output_type": "stream",
     "text": [
      "the lowest price for a product =  469.99\n"
     ]
    },
    {
     "data": {
      "text/plain": [
       "7     Surly Karate Monkey 27.5+ Frameset - 2017\n",
       "14    Surly Karate Monkey 27.5+ Frameset - 2017\n",
       "40    Surly Karate Monkey 27.5+ Frameset - 2017\n",
       "Name: product_name, dtype: object"
      ]
     },
     "execution_count": 113,
     "metadata": {},
     "output_type": "execute_result"
    }
   ],
   "source": [
    "# What is the lowest price for a product\n",
    "minprice=df['list_price'].min()\n",
    "print(\"the lowest price for a product = \", minprice)\n",
    "df[df['list_price']==maxprice]['product_name']"
   ]
  },
  {
   "cell_type": "code",
   "execution_count": 114,
   "metadata": {},
   "outputs": [
    {
     "name": "stdout",
     "output_type": "stream",
     "text": [
      "the highest price for a product =  2499.99\n"
     ]
    },
    {
     "data": {
      "text/plain": [
       "7     Surly Karate Monkey 27.5+ Frameset - 2017\n",
       "14    Surly Karate Monkey 27.5+ Frameset - 2017\n",
       "40    Surly Karate Monkey 27.5+ Frameset - 2017\n",
       "Name: product_name, dtype: object"
      ]
     },
     "execution_count": 114,
     "metadata": {},
     "output_type": "execute_result"
    }
   ],
   "source": [
    "# What is the highest price for a product\n",
    "maxprice=df['list_price'].max()\n",
    "print(\"the highest price for a product = \", maxprice)\n",
    "df[df['list_price']==maxprice]['product_name']"
   ]
  },
  {
   "cell_type": "code",
   "execution_count": 116,
   "metadata": {},
   "outputs": [
    {
     "name": "stdout",
     "output_type": "stream",
     "text": [
      "the highest quantities sold for a product =  2\n"
     ]
    },
    {
     "data": {
      "text/plain": [
       "0                   Surly Straggler 650b - 2016\n",
       "1                   Surly Troll Frameset - 2017\n",
       "2                        Surly Straggler - 2016\n",
       "4               Surly Wednesday Frameset - 2016\n",
       "5               Surly Big Dummy Frameset - 2017\n",
       "6                   Surly Straggler 650b - 2016\n",
       "8                Surly Pack Rat Frameset - 2018\n",
       "9                        Surly Straggler - 2018\n",
       "10        Surly Ice Cream Truck Frameset - 2016\n",
       "12                       Surly Straggler - 2016\n",
       "17              Surly Wednesday Frameset - 2016\n",
       "20                       Surly Straggler - 2016\n",
       "24              Surly Wednesday Frameset - 2016\n",
       "28        Surly Ice Cream Truck Frameset - 2016\n",
       "30              Surly Wednesday Frameset - 2017\n",
       "31               Surly Pack Rat Frameset - 2018\n",
       "37                  Surly Straggler 650b - 2016\n",
       "39                       Surly Straggler - 2016\n",
       "40    Surly Karate Monkey 27.5+ Frameset - 2017\n",
       "41                  Surly Straggler 650b - 2016\n",
       "44                       Surly Straggler - 2016\n",
       "45              Surly Wednesday Frameset - 2016\n",
       "Name: product_name, dtype: object"
      ]
     },
     "execution_count": 116,
     "metadata": {},
     "output_type": "execute_result"
    }
   ],
   "source": [
    "# What is the highest quantities sold \n",
    "maxquant_product=df['quantity'].max()\n",
    "print(\"the highest quantities sold for a product = \", maxquant_product)\n",
    "df[df['quantity']==maxquant_product]['product_name']"
   ]
  },
  {
   "cell_type": "code",
   "execution_count": 119,
   "metadata": {},
   "outputs": [
    {
     "name": "stdout",
     "output_type": "stream",
     "text": [
      "the lowest quantities sold for a product =  1\n"
     ]
    },
    {
     "data": {
      "text/plain": [
       "3               Surly Wednesday Frameset - 2016\n",
       "7     Surly Karate Monkey 27.5+ Frameset - 2017\n",
       "11                   Surly Ogre Frameset - 2017\n",
       "13        Surly Ice Cream Truck Frameset - 2016\n",
       "14    Surly Karate Monkey 27.5+ Frameset - 2017\n",
       "15        Surly Ice Cream Truck Frameset - 2017\n",
       "16        Surly Ice Cream Truck Frameset - 2016\n",
       "18        Surly Ice Cream Truck Frameset - 2016\n",
       "19              Surly Wednesday Frameset - 2016\n",
       "21        Surly Ice Cream Truck Frameset - 2016\n",
       "22              Surly Wednesday Frameset - 2016\n",
       "23              Surly Wednesday Frameset - 2016\n",
       "25              Surly Wednesday Frameset - 2017\n",
       "26                  Surly Straggler 650b - 2016\n",
       "27        Surly Ice Cream Truck Frameset - 2016\n",
       "29                     Surly Steamroller - 2017\n",
       "32                  Surly Straggler 650b - 2016\n",
       "33              Surly Wednesday Frameset - 2016\n",
       "34                       Surly Wednesday - 2017\n",
       "35                       Surly Straggler - 2016\n",
       "36              Surly Wednesday Frameset - 2016\n",
       "38                  Surly Straggler 650b - 2016\n",
       "42                       Surly Wednesday - 2017\n",
       "43              Surly Big Dummy Frameset - 2017\n",
       "46                   Surly Ogre Frameset - 2017\n",
       "47              Surly Wednesday Frameset - 2016\n",
       "48                       Surly Straggler - 2016\n",
       "Name: product_name, dtype: object"
      ]
     },
     "execution_count": 119,
     "metadata": {},
     "output_type": "execute_result"
    }
   ],
   "source": [
    "# What is the lowest quantities sold \n",
    "minquant_product=df['quantity'].min()\n",
    "print(\"the lowest quantities sold for a product = \", minquant_product)\n",
    "df[df['quantity']==minquant_product]['product_name']"
   ]
  },
  {
   "cell_type": "code",
   "execution_count": 120,
   "metadata": {},
   "outputs": [
    {
     "name": "stdout",
     "output_type": "stream",
     "text": [
      "the lowest discount a product =  0.05\n"
     ]
    },
    {
     "data": {
      "text/plain": [
       "4               Surly Wednesday Frameset - 2016\n",
       "5               Surly Big Dummy Frameset - 2017\n",
       "7     Surly Karate Monkey 27.5+ Frameset - 2017\n",
       "14    Surly Karate Monkey 27.5+ Frameset - 2017\n",
       "17              Surly Wednesday Frameset - 2016\n",
       "29                     Surly Steamroller - 2017\n",
       "33              Surly Wednesday Frameset - 2016\n",
       "39                       Surly Straggler - 2016\n",
       "40    Surly Karate Monkey 27.5+ Frameset - 2017\n",
       "47              Surly Wednesday Frameset - 2016\n",
       "48                       Surly Straggler - 2016\n",
       "Name: product_name, dtype: object"
      ]
     },
     "execution_count": 120,
     "metadata": {},
     "output_type": "execute_result"
    }
   ],
   "source": [
    "# What is the lowest discount for product \n",
    "min_discount_product=df['discount'].min()\n",
    "print(\"the lowest discount a product = \", min_discount_product)\n",
    "df[df['discount']==min_discount_product]['product_name']"
   ]
  },
  {
   "cell_type": "code",
   "execution_count": 121,
   "metadata": {},
   "outputs": [
    {
     "name": "stdout",
     "output_type": "stream",
     "text": [
      "the highest discount a product =  0.2\n"
     ]
    },
    {
     "data": {
      "text/plain": [
       "3           Surly Wednesday Frameset - 2016\n",
       "9                    Surly Straggler - 2018\n",
       "10    Surly Ice Cream Truck Frameset - 2016\n",
       "12                   Surly Straggler - 2016\n",
       "20                   Surly Straggler - 2016\n",
       "22          Surly Wednesday Frameset - 2016\n",
       "25          Surly Wednesday Frameset - 2017\n",
       "32              Surly Straggler 650b - 2016\n",
       "34                   Surly Wednesday - 2017\n",
       "38              Surly Straggler 650b - 2016\n",
       "41              Surly Straggler 650b - 2016\n",
       "46               Surly Ogre Frameset - 2017\n",
       "Name: product_name, dtype: object"
      ]
     },
     "execution_count": 121,
     "metadata": {},
     "output_type": "execute_result"
    }
   ],
   "source": [
    "# What is the highest discount for product \n",
    "max_discount_product=df['discount'].max()\n",
    "print(\"the highest discount a product = \", max_discount_product)\n",
    "df[df['discount']==max_discount_product]['product_name']"
   ]
  },
  {
   "attachments": {},
   "cell_type": "markdown",
   "metadata": {},
   "source": [
    "top5 and buttom products"
   ]
  },
  {
   "cell_type": "code",
   "execution_count": 143,
   "metadata": {},
   "outputs": [
    {
     "data": {
      "text/plain": [
       "Surly Karate Monkey 27.5+ Frameset - 2017    3\n",
       "Surly Big Dummy Frameset - 2017              2\n",
       "Surly Pack Rat Frameset - 2018               2\n",
       "Surly Ogre Frameset - 2017                   2\n",
       "Surly Wednesday Frameset - 2017              2\n",
       "Surly Wednesday - 2017                       2\n",
       "Surly Troll Frameset - 2017                  1\n",
       "Surly Straggler - 2018                       1\n",
       "Surly Ice Cream Truck Frameset - 2017        1\n",
       "Surly Steamroller - 2017                     1\n",
       "Name: product_name, dtype: int64"
      ]
     },
     "execution_count": 143,
     "metadata": {},
     "output_type": "execute_result"
    }
   ],
   "source": [
    "df['product_name'].value_counts().tail(10)"
   ]
  },
  {
   "cell_type": "code",
   "execution_count": 144,
   "metadata": {},
   "outputs": [
    {
     "data": {
      "text/plain": [
       "Surly Wednesday Frameset - 2016              11\n",
       "Surly Straggler 650b - 2016                   7\n",
       "Surly Straggler - 2016                        7\n",
       "Surly Ice Cream Truck Frameset - 2016         7\n",
       "Surly Karate Monkey 27.5+ Frameset - 2017     3\n",
       "Surly Big Dummy Frameset - 2017               2\n",
       "Surly Pack Rat Frameset - 2018                2\n",
       "Surly Ogre Frameset - 2017                    2\n",
       "Surly Wednesday Frameset - 2017               2\n",
       "Surly Wednesday - 2017                        2\n",
       "Name: product_name, dtype: int64"
      ]
     },
     "execution_count": 144,
     "metadata": {},
     "output_type": "execute_result"
    }
   ],
   "source": [
    "df['product_name'].value_counts().head(10)"
   ]
  },
  {
   "attachments": {},
   "cell_type": "markdown",
   "metadata": {},
   "source": [
    "Brands"
   ]
  },
  {
   "cell_type": "code",
   "execution_count": 145,
   "metadata": {},
   "outputs": [
    {
     "name": "stdout",
     "output_type": "stream",
     "text": [
      "the lowest price for a brand =  469.99\n"
     ]
    },
    {
     "data": {
      "text/plain": [
       "8     Surly\n",
       "10    Surly\n",
       "13    Surly\n",
       "16    Surly\n",
       "18    Surly\n",
       "21    Surly\n",
       "25    Surly\n",
       "27    Surly\n",
       "28    Surly\n",
       "30    Surly\n",
       "31    Surly\n",
       "Name: brand_name, dtype: object"
      ]
     },
     "execution_count": 145,
     "metadata": {},
     "output_type": "execute_result"
    }
   ],
   "source": [
    "# What is the lowest price for a brand\n",
    "minprice_brand=df['list_price'].min()\n",
    "print(\"the lowest price for a brand = \", minprice_brand)\n",
    "df[df['list_price']==minprice_brand]['brand_name']"
   ]
  },
  {
   "cell_type": "code",
   "execution_count": 146,
   "metadata": {},
   "outputs": [
    {
     "name": "stdout",
     "output_type": "stream",
     "text": [
      "the highest price for a brand =  2499.99\n"
     ]
    },
    {
     "data": {
      "text/plain": [
       "7     Surly\n",
       "14    Surly\n",
       "40    Surly\n",
       "Name: brand_name, dtype: object"
      ]
     },
     "execution_count": 146,
     "metadata": {},
     "output_type": "execute_result"
    }
   ],
   "source": [
    "# What is the highest price for a brand\n",
    "maxprice_brand=df['list_price'].max()\n",
    "print(\"the highest price for a brand = \", maxprice_brand)\n",
    "df[df['list_price']==maxprice_brand]['brand_name']"
   ]
  },
  {
   "cell_type": "code",
   "execution_count": 147,
   "metadata": {},
   "outputs": [
    {
     "name": "stdout",
     "output_type": "stream",
     "text": [
      "the lowest  quantities sold for a brand =  1\n"
     ]
    },
    {
     "data": {
      "text/plain": [
       "3     Surly\n",
       "7     Surly\n",
       "11    Surly\n",
       "13    Surly\n",
       "14    Surly\n",
       "15    Surly\n",
       "16    Surly\n",
       "18    Surly\n",
       "19    Surly\n",
       "21    Surly\n",
       "22    Surly\n",
       "23    Surly\n",
       "25    Surly\n",
       "26    Surly\n",
       "27    Surly\n",
       "29    Surly\n",
       "32    Surly\n",
       "33    Surly\n",
       "34    Surly\n",
       "35    Surly\n",
       "36    Surly\n",
       "38    Surly\n",
       "42    Surly\n",
       "43    Surly\n",
       "46    Surly\n",
       "47    Surly\n",
       "48    Surly\n",
       "Name: brand_name, dtype: object"
      ]
     },
     "execution_count": 147,
     "metadata": {},
     "output_type": "execute_result"
    }
   ],
   "source": [
    "# What is the lowest quantities sold for a brand\n",
    "minquan_brand=df['quantity'].min()\n",
    "print(\"the lowest  quantities sold for a brand = \", minquan_brand)\n",
    "df[df['quantity']==minquan_brand]['brand_name']"
   ]
  },
  {
   "cell_type": "code",
   "execution_count": 148,
   "metadata": {},
   "outputs": [
    {
     "name": "stdout",
     "output_type": "stream",
     "text": [
      "the highest  quantities sold for a brand =  2\n"
     ]
    },
    {
     "data": {
      "text/plain": [
       "0     Surly\n",
       "1     Surly\n",
       "2     Surly\n",
       "4     Surly\n",
       "5     Surly\n",
       "6     Surly\n",
       "8     Surly\n",
       "9     Surly\n",
       "10    Surly\n",
       "12    Surly\n",
       "17    Surly\n",
       "20    Surly\n",
       "24    Surly\n",
       "28    Surly\n",
       "30    Surly\n",
       "31    Surly\n",
       "37    Surly\n",
       "39    Surly\n",
       "40    Surly\n",
       "41    Surly\n",
       "44    Surly\n",
       "45    Surly\n",
       "Name: brand_name, dtype: object"
      ]
     },
     "execution_count": 148,
     "metadata": {},
     "output_type": "execute_result"
    }
   ],
   "source": [
    "# What is the highest quantities sold for a brand\n",
    "maxquan_brand=df['quantity'].max()\n",
    "print(\"the highest  quantities sold for a brand = \", maxquan_brand)\n",
    "df[df['quantity']==maxquan_brand]['brand_name']"
   ]
  },
  {
   "cell_type": "code",
   "execution_count": 150,
   "metadata": {},
   "outputs": [
    {
     "name": "stdout",
     "output_type": "stream",
     "text": [
      "the highest  discount for a brand =  2\n"
     ]
    },
    {
     "data": {
      "text/plain": [
       "Series([], Name: brand_name, dtype: object)"
      ]
     },
     "execution_count": 150,
     "metadata": {},
     "output_type": "execute_result"
    }
   ],
   "source": [
    "# What is the highest discount  for a brand\n",
    "maxdis_brand=df['discount'].max()\n",
    "print(\"the highest  discount for a brand = \", maxquan_brand)\n",
    "df[df['discount']==maxquan_brand]['brand_name']"
   ]
  },
  {
   "cell_type": "code",
   "execution_count": 151,
   "metadata": {},
   "outputs": [
    {
     "name": "stdout",
     "output_type": "stream",
     "text": [
      "the lowest  discount for a brand =  1\n"
     ]
    },
    {
     "data": {
      "text/plain": [
       "Series([], Name: brand_name, dtype: object)"
      ]
     },
     "execution_count": 151,
     "metadata": {},
     "output_type": "execute_result"
    }
   ],
   "source": [
    "# What is the lowest discount  for a brand\n",
    "mindis_brand=df['discount'].min()\n",
    "print(\"the lowest  discount for a brand = \", minquan_brand)\n",
    "df[df['discount']==minquan_brand]['brand_name']"
   ]
  },
  {
   "cell_type": "code",
   "execution_count": 152,
   "metadata": {},
   "outputs": [
    {
     "data": {
      "text/plain": [
       "0.10    14\n",
       "0.07    12\n",
       "0.20    12\n",
       "0.05    11\n",
       "Name: discount, dtype: int64"
      ]
     },
     "execution_count": 152,
     "metadata": {},
     "output_type": "execute_result"
    }
   ],
   "source": [
    "# top 5\n",
    "df['discount'].value_counts().head(5)"
   ]
  },
  {
   "cell_type": "code",
   "execution_count": 153,
   "metadata": {},
   "outputs": [
    {
     "data": {
      "text/plain": [
       "0.10    14\n",
       "0.07    12\n",
       "0.20    12\n",
       "0.05    11\n",
       "Name: discount, dtype: int64"
      ]
     },
     "execution_count": 153,
     "metadata": {},
     "output_type": "execute_result"
    }
   ],
   "source": [
    "# buttom 5\n",
    "df['discount'].value_counts().tail(5)"
   ]
  },
  {
   "attachments": {},
   "cell_type": "markdown",
   "metadata": {},
   "source": [
    "Stores"
   ]
  },
  {
   "cell_type": "code",
   "execution_count": 154,
   "metadata": {},
   "outputs": [
    {
     "data": {
      "text/plain": [
       "38    Baldwin Bikes\n",
       "16    Baldwin Bikes\n",
       "4     Rowlett Bikes\n",
       "11    Rowlett Bikes\n",
       "8     Baldwin Bikes\n",
       "Name: store_name, dtype: object"
      ]
     },
     "execution_count": 154,
     "metadata": {},
     "output_type": "execute_result"
    }
   ],
   "source": [
    "df['store_name'].sample(5)"
   ]
  },
  {
   "cell_type": "code",
   "execution_count": 155,
   "metadata": {},
   "outputs": [
    {
     "data": {
      "text/plain": [
       "Baldwin Bikes       32\n",
       "Santa Cruz Bikes    11\n",
       "Rowlett Bikes        6\n",
       "Name: store_name, dtype: int64"
      ]
     },
     "execution_count": 155,
     "metadata": {},
     "output_type": "execute_result"
    }
   ],
   "source": [
    "df['store_name'].value_counts().head(5)"
   ]
  },
  {
   "cell_type": "code",
   "execution_count": 156,
   "metadata": {},
   "outputs": [
    {
     "data": {
      "text/plain": [
       "Baldwin Bikes       32\n",
       "Santa Cruz Bikes    11\n",
       "Rowlett Bikes        6\n",
       "Name: store_name, dtype: int64"
      ]
     },
     "execution_count": 156,
     "metadata": {},
     "output_type": "execute_result"
    }
   ],
   "source": [
    "df['store_name'].value_counts().tail(5)"
   ]
  },
  {
   "cell_type": "code",
   "execution_count": 157,
   "metadata": {},
   "outputs": [
    {
     "data": {
      "text/plain": [
       "0        Baldwin Bikes\n",
       "1        Baldwin Bikes\n",
       "2        Rowlett Bikes\n",
       "3        Baldwin Bikes\n",
       "4        Rowlett Bikes\n",
       "5        Baldwin Bikes\n",
       "6        Baldwin Bikes\n",
       "7        Baldwin Bikes\n",
       "8        Baldwin Bikes\n",
       "9        Baldwin Bikes\n",
       "10       Baldwin Bikes\n",
       "11       Rowlett Bikes\n",
       "12       Baldwin Bikes\n",
       "13       Baldwin Bikes\n",
       "14       Baldwin Bikes\n",
       "15       Baldwin Bikes\n",
       "16       Baldwin Bikes\n",
       "17    Santa Cruz Bikes\n",
       "18       Baldwin Bikes\n",
       "19       Baldwin Bikes\n",
       "20       Baldwin Bikes\n",
       "21    Santa Cruz Bikes\n",
       "22       Baldwin Bikes\n",
       "23       Baldwin Bikes\n",
       "24       Baldwin Bikes\n",
       "25       Baldwin Bikes\n",
       "26    Santa Cruz Bikes\n",
       "27    Santa Cruz Bikes\n",
       "28       Rowlett Bikes\n",
       "29       Baldwin Bikes\n",
       "30       Baldwin Bikes\n",
       "31       Baldwin Bikes\n",
       "32    Santa Cruz Bikes\n",
       "33       Rowlett Bikes\n",
       "34       Rowlett Bikes\n",
       "35       Baldwin Bikes\n",
       "36       Baldwin Bikes\n",
       "37    Santa Cruz Bikes\n",
       "38       Baldwin Bikes\n",
       "39       Baldwin Bikes\n",
       "40       Baldwin Bikes\n",
       "41       Baldwin Bikes\n",
       "42    Santa Cruz Bikes\n",
       "43    Santa Cruz Bikes\n",
       "44    Santa Cruz Bikes\n",
       "45    Santa Cruz Bikes\n",
       "46    Santa Cruz Bikes\n",
       "47       Baldwin Bikes\n",
       "48       Baldwin Bikes\n",
       "Name: store_name, dtype: object"
      ]
     },
     "execution_count": 157,
     "metadata": {},
     "output_type": "execute_result"
    }
   ],
   "source": [
    "df['store_name']"
   ]
  },
  {
   "cell_type": "code",
   "execution_count": 159,
   "metadata": {},
   "outputs": [
    {
     "data": {
      "text/plain": [
       "3"
      ]
     },
     "execution_count": 159,
     "metadata": {},
     "output_type": "execute_result"
    }
   ],
   "source": [
    "df['store_name'].nunique()"
   ]
  },
  {
   "cell_type": "code",
   "execution_count": 160,
   "metadata": {},
   "outputs": [
    {
     "data": {
      "text/plain": [
       "array(['Baldwin Bikes', 'Rowlett Bikes', 'Santa Cruz Bikes'], dtype=object)"
      ]
     },
     "execution_count": 160,
     "metadata": {},
     "output_type": "execute_result"
    }
   ],
   "source": [
    "df['store_name'].unique()"
   ]
  },
  {
   "cell_type": "code",
   "execution_count": 171,
   "metadata": {},
   "outputs": [
    {
     "data": {
      "text/plain": [
       "0        Baldwin Bikes\n",
       "1        Baldwin Bikes\n",
       "2        Rowlett Bikes\n",
       "4        Rowlett Bikes\n",
       "5        Baldwin Bikes\n",
       "6        Baldwin Bikes\n",
       "8        Baldwin Bikes\n",
       "9        Baldwin Bikes\n",
       "10       Baldwin Bikes\n",
       "12       Baldwin Bikes\n",
       "17    Santa Cruz Bikes\n",
       "20       Baldwin Bikes\n",
       "24       Baldwin Bikes\n",
       "28       Rowlett Bikes\n",
       "30       Baldwin Bikes\n",
       "31       Baldwin Bikes\n",
       "37    Santa Cruz Bikes\n",
       "39       Baldwin Bikes\n",
       "40       Baldwin Bikes\n",
       "41       Baldwin Bikes\n",
       "44    Santa Cruz Bikes\n",
       "45    Santa Cruz Bikes\n",
       "Name: store_name, dtype: object"
      ]
     },
     "execution_count": 171,
     "metadata": {},
     "output_type": "execute_result"
    }
   ],
   "source": [
    "max_store_quan=df['quantity'].max()\n",
    "df[df['quantity']==max_store_quan]['store_name']"
   ]
  },
  {
   "cell_type": "code",
   "execution_count": 176,
   "metadata": {},
   "outputs": [
    {
     "data": {
      "text/plain": [
       "3        Baldwin Bikes\n",
       "7        Baldwin Bikes\n",
       "11       Rowlett Bikes\n",
       "13       Baldwin Bikes\n",
       "14       Baldwin Bikes\n",
       "15       Baldwin Bikes\n",
       "16       Baldwin Bikes\n",
       "18       Baldwin Bikes\n",
       "19       Baldwin Bikes\n",
       "21    Santa Cruz Bikes\n",
       "22       Baldwin Bikes\n",
       "23       Baldwin Bikes\n",
       "25       Baldwin Bikes\n",
       "26    Santa Cruz Bikes\n",
       "27    Santa Cruz Bikes\n",
       "29       Baldwin Bikes\n",
       "32    Santa Cruz Bikes\n",
       "33       Rowlett Bikes\n",
       "34       Rowlett Bikes\n",
       "35       Baldwin Bikes\n",
       "36       Baldwin Bikes\n",
       "38       Baldwin Bikes\n",
       "42    Santa Cruz Bikes\n",
       "43    Santa Cruz Bikes\n",
       "46    Santa Cruz Bikes\n",
       "47       Baldwin Bikes\n",
       "48       Baldwin Bikes\n",
       "Name: store_name, dtype: object"
      ]
     },
     "execution_count": 176,
     "metadata": {},
     "output_type": "execute_result"
    }
   ],
   "source": [
    "min_store_quan=df['quantity'].min()\n",
    "df[df['quantity']==min_store_quan]['store_name']"
   ]
  },
  {
   "cell_type": "code",
   "execution_count": 177,
   "metadata": {},
   "outputs": [
    {
     "data": {
      "text/plain": [
       "Baldwin Bikes       32\n",
       "Santa Cruz Bikes    11\n",
       "Rowlett Bikes        6\n",
       "Name: store_name, dtype: int64"
      ]
     },
     "execution_count": 177,
     "metadata": {},
     "output_type": "execute_result"
    }
   ],
   "source": [
    "df['store_name'].value_counts().head(5)"
   ]
  },
  {
   "cell_type": "code",
   "execution_count": null,
   "metadata": {},
   "outputs": [],
   "source": [
    "df['store_name'].value_counts().tail(5)"
   ]
  },
  {
   "attachments": {},
   "cell_type": "markdown",
   "metadata": {},
   "source": [
    "Date"
   ]
  },
  {
   "cell_type": "code",
   "execution_count": 178,
   "metadata": {},
   "outputs": [
    {
     "data": {
      "text/plain": [
       "0    2016-02-16\n",
       "1    2018-02-26\n",
       "2    2017-02-27\n",
       "3    2017-02-28\n",
       "4    2016-02-11\n",
       "5    2018-02-12\n",
       "6    2017-02-09\n",
       "7    2018-02-16\n",
       "8    2018-02-16\n",
       "9    2018-02-16\n",
       "10   2016-02-28\n",
       "11   2017-02-13\n",
       "12   2016-02-27\n",
       "13   2016-02-13\n",
       "14   2017-02-13\n",
       "15   2017-02-01\n",
       "16   2017-02-16\n",
       "17   2016-02-19\n",
       "18   2016-02-23\n",
       "19   2016-02-23\n",
       "20   2016-02-17\n",
       "21   2016-02-17\n",
       "22   2016-02-04\n",
       "23   2016-02-14\n",
       "24   2016-02-12\n",
       "25   2017-02-16\n",
       "26   2016-02-25\n",
       "27   2017-02-10\n",
       "28   2016-02-21\n",
       "29   2017-02-27\n",
       "30   2017-02-02\n",
       "31   2018-02-15\n",
       "32   2016-02-27\n",
       "33   2017-02-26\n",
       "34   2017-02-06\n",
       "35   2016-02-21\n",
       "36   2016-02-07\n",
       "37   2017-02-03\n",
       "38   2017-02-28\n",
       "39   2017-02-08\n",
       "40   2018-02-19\n",
       "41   2016-02-18\n",
       "42   2017-02-05\n",
       "43   2017-02-09\n",
       "44   2016-02-26\n",
       "45   2017-02-08\n",
       "46   2018-02-16\n",
       "47   2017-02-18\n",
       "48   2016-02-10\n",
       "Name: order_date, dtype: datetime64[ns]"
      ]
     },
     "execution_count": 178,
     "metadata": {},
     "output_type": "execute_result"
    }
   ],
   "source": [
    "df['order_date']"
   ]
  },
  {
   "cell_type": "code",
   "execution_count": 179,
   "metadata": {},
   "outputs": [
    {
     "data": {
      "text/plain": [
       "3    2017-02-28\n",
       "7    2018-02-16\n",
       "11   2017-02-13\n",
       "13   2016-02-13\n",
       "14   2017-02-13\n",
       "15   2017-02-01\n",
       "16   2017-02-16\n",
       "18   2016-02-23\n",
       "19   2016-02-23\n",
       "21   2016-02-17\n",
       "22   2016-02-04\n",
       "23   2016-02-14\n",
       "25   2017-02-16\n",
       "26   2016-02-25\n",
       "27   2017-02-10\n",
       "29   2017-02-27\n",
       "32   2016-02-27\n",
       "33   2017-02-26\n",
       "34   2017-02-06\n",
       "35   2016-02-21\n",
       "36   2016-02-07\n",
       "38   2017-02-28\n",
       "42   2017-02-05\n",
       "43   2017-02-09\n",
       "46   2018-02-16\n",
       "47   2017-02-18\n",
       "48   2016-02-10\n",
       "Name: order_date, dtype: datetime64[ns]"
      ]
     },
     "execution_count": 179,
     "metadata": {},
     "output_type": "execute_result"
    }
   ],
   "source": [
    "min_date=df['quantity'].min()\n",
    "df[df['quantity']==min_date]['order_date']"
   ]
  },
  {
   "cell_type": "code",
   "execution_count": 180,
   "metadata": {},
   "outputs": [
    {
     "data": {
      "text/plain": [
       "2018-02-16    4\n",
       "2016-02-21    2\n",
       "2016-02-17    2\n",
       "2017-02-27    2\n",
       "2017-02-28    2\n",
       "Name: order_date, dtype: int64"
      ]
     },
     "execution_count": 180,
     "metadata": {},
     "output_type": "execute_result"
    }
   ],
   "source": [
    "df['order_date'].value_counts().head(5)"
   ]
  },
  {
   "cell_type": "code",
   "execution_count": 181,
   "metadata": {},
   "outputs": [
    {
     "data": {
      "text/plain": [
       "2016-02-13    1\n",
       "2016-02-28    1\n",
       "2018-02-12    1\n",
       "2016-02-11    1\n",
       "2016-02-10    1\n",
       "Name: order_date, dtype: int64"
      ]
     },
     "execution_count": 181,
     "metadata": {},
     "output_type": "execute_result"
    }
   ],
   "source": [
    "df['order_date'].value_counts().tail(5)"
   ]
  },
  {
   "cell_type": "code",
   "execution_count": null,
   "metadata": {},
   "outputs": [],
   "source": []
  },
  {
   "cell_type": "code",
   "execution_count": 182,
   "metadata": {},
   "outputs": [
    {
     "data": {
      "text/plain": [
       "0     3\n",
       "1     3\n",
       "2     3\n",
       "3     4\n",
       "4     3\n",
       "5     4\n",
       "6     4\n",
       "7     4\n",
       "8     4\n",
       "9     4\n",
       "10    4\n",
       "11    4\n",
       "12    4\n",
       "13    4\n",
       "14    4\n",
       "15    4\n",
       "16    4\n",
       "17    4\n",
       "18    4\n",
       "19    4\n",
       "20    4\n",
       "21    4\n",
       "22    4\n",
       "23    4\n",
       "24    4\n",
       "25    4\n",
       "26    4\n",
       "27    4\n",
       "28    4\n",
       "29    4\n",
       "30    4\n",
       "31    4\n",
       "32    4\n",
       "33    4\n",
       "34    4\n",
       "35    4\n",
       "36    4\n",
       "37    4\n",
       "38    4\n",
       "39    4\n",
       "40    4\n",
       "41    4\n",
       "42    4\n",
       "43    4\n",
       "44    4\n",
       "45    4\n",
       "46    4\n",
       "47    4\n",
       "48    4\n",
       "Name: order_status, dtype: int64"
      ]
     },
     "execution_count": 182,
     "metadata": {},
     "output_type": "execute_result"
    }
   ],
   "source": [
    "df['order_status']"
   ]
  },
  {
   "attachments": {},
   "cell_type": "markdown",
   "metadata": {},
   "source": [
    "Customers"
   ]
  },
  {
   "cell_type": "code",
   "execution_count": 184,
   "metadata": {},
   "outputs": [
    {
     "data": {
      "text/plain": [
       "0    Genoveva Baldwin\n",
       "1    Georgetta Hardin\n",
       "2       Aleta Shepard\n",
       "3         Caroll Hays\n",
       "4     Cleotilde Booth\n",
       "Name: customer_name, dtype: object"
      ]
     },
     "execution_count": 184,
     "metadata": {},
     "output_type": "execute_result"
    }
   ],
   "source": [
    "df['customer_name'].head(5)"
   ]
  },
  {
   "cell_type": "code",
   "execution_count": 185,
   "metadata": {},
   "outputs": [
    {
     "data": {
      "text/plain": [
       "array(['Genoveva Baldwin', 'Georgetta Hardin', 'Aleta Shepard',\n",
       "       'Caroll Hays', 'Cleotilde Booth', 'Tenisha Lyons', 'Ashanti Parks',\n",
       "       'Stefany Potter', 'Alpha King', 'Michel Blankenship', 'Casey Gill',\n",
       "       'Mariela Huffman', 'Danny Kim', 'Alesia Horne', 'Collin Webster',\n",
       "       'Gertrude Terry', 'Romaine Haley', 'Max Charles',\n",
       "       'Ellena Clements', 'Inge Olsen', 'Euna Lopez', 'Gabriel Wagner',\n",
       "       'Donnetta Henson', 'Catrice Hicks', 'Shara Pope',\n",
       "       'Calandra Stanton', 'Lanie Dunn', 'Willian Hardin', 'James Robles',\n",
       "       'Thurman Ellis', 'Maximina Hutchinson', 'Ciera Koch',\n",
       "       'Rodolfo Buck', 'Dann Huff', 'Collen Dennis', 'Kendra Harrington',\n",
       "       'Dottie Roberts', 'Earlean Pena', 'Bronwyn Vargas', 'Lise Hebert',\n",
       "       'Roy Chan', 'Cindie Franklin', 'Dorothea Miranda',\n",
       "       'Desire Mcgowan', 'Angelika Perry', 'Ophelia Decker'], dtype=object)"
      ]
     },
     "execution_count": 185,
     "metadata": {},
     "output_type": "execute_result"
    }
   ],
   "source": [
    "df['customer_name'].unique()"
   ]
  },
  {
   "cell_type": "code",
   "execution_count": 186,
   "metadata": {},
   "outputs": [
    {
     "data": {
      "text/plain": [
       "46"
      ]
     },
     "execution_count": 186,
     "metadata": {},
     "output_type": "execute_result"
    }
   ],
   "source": [
    "df['customer_name'].nunique()"
   ]
  },
  {
   "cell_type": "code",
   "execution_count": 188,
   "metadata": {},
   "outputs": [
    {
     "data": {
      "text/plain": [
       "49"
      ]
     },
     "execution_count": 188,
     "metadata": {},
     "output_type": "execute_result"
    }
   ],
   "source": [
    "df['customer_name'].value_counts().sum()"
   ]
  },
  {
   "cell_type": "code",
   "execution_count": 201,
   "metadata": {},
   "outputs": [
    {
     "data": {
      "text/plain": [
       "0     Genoveva Baldwin\n",
       "1     Georgetta Hardin\n",
       "2        Aleta Shepard\n",
       "4      Cleotilde Booth\n",
       "5        Tenisha Lyons\n",
       "6        Ashanti Parks\n",
       "8       Stefany Potter\n",
       "9       Stefany Potter\n",
       "10          Alpha King\n",
       "12          Casey Gill\n",
       "17      Gertrude Terry\n",
       "20         Max Charles\n",
       "24      Gabriel Wagner\n",
       "28    Calandra Stanton\n",
       "30      Willian Hardin\n",
       "31        James Robles\n",
       "37       Collen Dennis\n",
       "39      Dottie Roberts\n",
       "40        Earlean Pena\n",
       "41      Bronwyn Vargas\n",
       "44     Cindie Franklin\n",
       "45    Dorothea Miranda\n",
       "Name: customer_name, dtype: object"
      ]
     },
     "execution_count": 201,
     "metadata": {},
     "output_type": "execute_result"
    }
   ],
   "source": [
    "max_cus_quan=df['quantity'].max()\n",
    "df[df['quantity']==max_cus_quan]['customer_name']\n"
   ]
  },
  {
   "cell_type": "code",
   "execution_count": 204,
   "metadata": {},
   "outputs": [
    {
     "data": {
      "text/plain": [
       "3             Caroll Hays\n",
       "7          Stefany Potter\n",
       "11     Michel Blankenship\n",
       "13        Mariela Huffman\n",
       "14              Danny Kim\n",
       "15           Alesia Horne\n",
       "16         Collin Webster\n",
       "18          Romaine Haley\n",
       "19          Romaine Haley\n",
       "21        Ellena Clements\n",
       "22             Inge Olsen\n",
       "23             Euna Lopez\n",
       "25        Donnetta Henson\n",
       "26          Catrice Hicks\n",
       "27             Shara Pope\n",
       "29             Lanie Dunn\n",
       "32          Thurman Ellis\n",
       "33    Maximina Hutchinson\n",
       "34             Ciera Koch\n",
       "35           Rodolfo Buck\n",
       "36              Dann Huff\n",
       "38      Kendra Harrington\n",
       "42            Lise Hebert\n",
       "43               Roy Chan\n",
       "46         Desire Mcgowan\n",
       "47         Angelika Perry\n",
       "48         Ophelia Decker\n",
       "Name: customer_name, dtype: object"
      ]
     },
     "execution_count": 204,
     "metadata": {},
     "output_type": "execute_result"
    }
   ],
   "source": [
    "min_cus_quan=df['quantity'].min()\n",
    "df[df['quantity']==min_cus_quan]['customer_name']"
   ]
  },
  {
   "cell_type": "code",
   "execution_count": 205,
   "metadata": {},
   "outputs": [
    {
     "data": {
      "text/plain": [
       "Stefany Potter      3\n",
       "Romaine Haley       2\n",
       "Genoveva Baldwin    1\n",
       "Collen Dennis       1\n",
       "Lanie Dunn          1\n",
       "Name: customer_name, dtype: int64"
      ]
     },
     "execution_count": 205,
     "metadata": {},
     "output_type": "execute_result"
    }
   ],
   "source": [
    "df['customer_name'].value_counts().head(5)"
   ]
  },
  {
   "cell_type": "code",
   "execution_count": 206,
   "metadata": {},
   "outputs": [
    {
     "data": {
      "text/plain": [
       "Ellena Clements    1\n",
       "Inge Olsen         1\n",
       "Euna Lopez         1\n",
       "Gabriel Wagner     1\n",
       "Ophelia Decker     1\n",
       "Name: customer_name, dtype: int64"
      ]
     },
     "execution_count": 206,
     "metadata": {},
     "output_type": "execute_result"
    }
   ],
   "source": [
    "df['customer_name'].value_counts().tail(5)"
   ]
  },
  {
   "attachments": {},
   "cell_type": "markdown",
   "metadata": {},
   "source": [
    "Finished ---------- "
   ]
  }
 ],
 "metadata": {
  "kernelspec": {
   "display_name": "Python 3",
   "language": "python",
   "name": "python3"
  },
  "language_info": {
   "codemirror_mode": {
    "name": "ipython",
    "version": 3
   },
   "file_extension": ".py",
   "mimetype": "text/x-python",
   "name": "python",
   "nbconvert_exporter": "python",
   "pygments_lexer": "ipython3",
   "version": "3.10.6"
  },
  "orig_nbformat": 4,
  "vscode": {
   "interpreter": {
    "hash": "782e44b3a77a7a1c4bcb5df138c01f488e70b61987c9bb22e634cc0094221137"
   }
  }
 },
 "nbformat": 4,
 "nbformat_minor": 2
}
